{
 "cells": [
  {
   "cell_type": "markdown",
   "metadata": {},
   "source": [
    "## Programski jezik Python \n",
    "### i rad sa tabelarno predstavljenim podacima i biblioteka Pandas"
   ]
  },
  {
   "cell_type": "markdown",
   "metadata": {},
   "source": [
    "U okviru ovog predavanja naučićeš:\n",
    "* Kako se učitava .csv fajl\n",
    "* Kako prikazati tabelu\n",
    "* Kako pro;itati dimenziju tabele\n",
    "* Kako prikazati početak tabele\n",
    "* Kako prikazati kraj tabele\n",
    "* Kako izdvojiti kolonu (cela, deo)\n",
    "* Kako izdvojiti vrstu \n",
    "* Kako izdvojiti jednu ćeliju\n",
    "* Šta je to iteracija?\n",
    "* Sumiranje\n",
    "* Kako da napišeš funkciju\n",
    "* Šta je grananje\n",
    "* Kako da filtriramo?\n",
    "* Kako grupisati?\n",
    "* Kako vizuelno predstaviti podatke.\n"
   ]
  },
  {
   "cell_type": "markdown",
   "metadata": {},
   "source": [
    "### Učitavanje i prikaz"
   ]
  },
  {
   "cell_type": "code",
   "execution_count": 1,
   "metadata": {},
   "outputs": [],
   "source": [
    "import pandas as pd #učitavanje pandas biblioteke\n",
    "skole = pd.read_csv(\"skole.csv\") #učitavanje jednog csv fajla\n",
    "#skole  #ispis tabele"
   ]
  },
  {
   "cell_type": "code",
   "execution_count": null,
   "metadata": {},
   "outputs": [],
   "source": [
    "#dimenzija tabele\n",
    "skole.info()"
   ]
  },
  {
   "cell_type": "markdown",
   "metadata": {},
   "source": [
    "### Izdvajanje kolone"
   ]
  },
  {
   "cell_type": "code",
   "execution_count": null,
   "metadata": {},
   "outputs": [],
   "source": [
    "skole[\"Okrug\"]"
   ]
  },
  {
   "cell_type": "code",
   "execution_count": null,
   "metadata": {},
   "outputs": [],
   "source": [
    "skole.loc[1,\"Okrug\"] = None\n",
    "skole[\"Okrug\"].size"
   ]
  },
  {
   "cell_type": "markdown",
   "metadata": {},
   "source": [
    "### Ispis prvih 10 elemenata kolone"
   ]
  },
  {
   "cell_type": "code",
   "execution_count": null,
   "metadata": {},
   "outputs": [],
   "source": [
    "skole[\"Okrug\"].head(10)"
   ]
  },
  {
   "cell_type": "markdown",
   "metadata": {},
   "source": [
    "### Ispis jednog elementa kolone"
   ]
  },
  {
   "cell_type": "code",
   "execution_count": null,
   "metadata": {},
   "outputs": [],
   "source": [
    "skole[\"Okrug\"][0] #ispisuje se prvi element iz kolone"
   ]
  },
  {
   "cell_type": "raw",
   "metadata": {},
   "source": [
    "Kolona se sastoji iz više elemenata, kao što smo videli primenom funkcije .count(), ova kolona ima 1423 elementa. Da li možemo da vidimo prvih 10 elemenata kolone skole[\"Broj ucenika - prvi razred\"]?"
   ]
  },
  {
   "cell_type": "code",
   "execution_count": null,
   "metadata": {},
   "outputs": [],
   "source": [
    "skole.columns"
   ]
  },
  {
   "cell_type": "markdown",
   "metadata": {},
   "source": [
    "### Petlja for"
   ]
  },
  {
   "cell_type": "code",
   "execution_count": null,
   "metadata": {},
   "outputs": [],
   "source": [
    "kurs = 117.2567\n",
    "# menjaj vrednost cena_eur pa variraj\n",
    "cena_eur = 350\n",
    "cena_eur * kurs"
   ]
  },
  {
   "cell_type": "code",
   "execution_count": null,
   "metadata": {},
   "outputs": [],
   "source": [
    "for cena_eur in [350, 100, 130, 150]:\n",
    "    print(cena_eur, cena_eur * kurs)"
   ]
  },
  {
   "cell_type": "code",
   "execution_count": null,
   "metadata": {},
   "outputs": [],
   "source": [
    "for i in range(10):\n",
    "    print(\"Zdravo, svete!\")"
   ]
  },
  {
   "cell_type": "markdown",
   "metadata": {},
   "source": [
    "Napiši skript koji ispisuje cifre od 0 do 9."
   ]
  },
  {
   "cell_type": "code",
   "execution_count": 26,
   "metadata": {},
   "outputs": [
    {
     "data": {
      "text/plain": [
       "0.7974140428903764"
      ]
     },
     "execution_count": 26,
     "metadata": {},
     "output_type": "execute_result"
    }
   ],
   "source": [
    "god_kamata = 10\n",
    "god_koeficijent = 1 + god_kamata/100\n",
    "mes_koeficijent = god_koeficijent ** (1/12)\n",
    "mes_kamata = (mes_koeficijent - 1) * 100\n",
    "mes_kamata"
   ]
  },
  {
   "cell_type": "code",
   "execution_count": null,
   "metadata": {},
   "outputs": [],
   "source": [
    "anuitet = 1000\n",
    "kredit = 100000\n",
    "kamata = 10\n",
    "broj_rata = 15\n",
    "# plan otplate"
   ]
  },
  {
   "cell_type": "code",
   "execution_count": null,
   "metadata": {},
   "outputs": [],
   "source": [
    "#skole[\"Broj ucenika - prvi razred\"][0]\n",
    "#skole[\"Broj ucenika - prvi razred\"][1]\n",
    "#skole[\"Broj ucenika - prvi razred\"][2]\n",
    "#....\n",
    "#skole[\"Broj ucenika - prvi razred\"][9]\n",
    "for i in skole.index[:100]:\n",
    "    print(skole.loc[i,\"Broj ucenika - prvi razred\"])"
   ]
  },
  {
   "cell_type": "code",
   "execution_count": null,
   "metadata": {},
   "outputs": [],
   "source": [
    "skole[\"Okrug\"].tail(10) #ispis poslednjih 10 elemenata kolone \"Okrug\""
   ]
  },
  {
   "cell_type": "markdown",
   "metadata": {},
   "source": [
    "Ovo možemo ispisati i pomoću petlje."
   ]
  },
  {
   "cell_type": "code",
   "execution_count": null,
   "metadata": {},
   "outputs": [],
   "source": [
    "for i in range(skole[\"Okrug\"].count()-10, skole[\"Okrug\"].count()):\n",
    "     print(skole[\"Okrug\"][i])"
   ]
  },
  {
   "cell_type": "markdown",
   "metadata": {},
   "source": [
    "### Izdvajanje vrste"
   ]
  },
  {
   "cell_type": "code",
   "execution_count": null,
   "metadata": {},
   "outputs": [],
   "source": [
    "skole.at[0] #izdvajamo 1. vrstu"
   ]
  },
  {
   "cell_type": "code",
   "execution_count": null,
   "metadata": {},
   "outputs": [],
   "source": [
    "skole.loc[9] #izdvajamo 10. vrstu"
   ]
  },
  {
   "cell_type": "code",
   "execution_count": null,
   "metadata": {},
   "outputs": [],
   "source": [
    "skole[\"Broj devojcica - prvi razred\"][0] #pristupamo prvom elementu u koloni \"Broj devojcica - prvi razred\" "
   ]
  },
  {
   "cell_type": "code",
   "execution_count": null,
   "metadata": {},
   "outputs": [],
   "source": [
    "skole.loc[0][\"Broj devojcica - prvi razred\"] #može i ovako"
   ]
  },
  {
   "cell_type": "code",
   "execution_count": null,
   "metadata": {},
   "outputs": [],
   "source": [
    "skole.loc[0, \"Broj devojcica - prvi razred\"] # i ovako"
   ]
  },
  {
   "cell_type": "code",
   "execution_count": null,
   "metadata": {},
   "outputs": [],
   "source": [
    "skole.loc[0][14] #takođe i ovo"
   ]
  },
  {
   "cell_type": "markdown",
   "metadata": {},
   "source": [
    "#### Gde je ovde petlja?"
   ]
  },
  {
   "cell_type": "markdown",
   "metadata": {},
   "source": [
    "Podsetimo se, skole.loc[9] je jedna vrsta, čiji sadržaj čine određeni podaci."
   ]
  },
  {
   "cell_type": "code",
   "execution_count": null,
   "metadata": {},
   "outputs": [],
   "source": [
    "skole.loc[9]"
   ]
  },
  {
   "cell_type": "markdown",
   "metadata": {},
   "source": [
    "Kako proći petljom kroz vrstu?"
   ]
  },
  {
   "cell_type": "code",
   "execution_count": null,
   "metadata": {},
   "outputs": [],
   "source": [
    "for podatak in skole.loc[9]:\n",
    "    print(podatak)"
   ]
  },
  {
   "cell_type": "code",
   "execution_count": null,
   "metadata": {},
   "outputs": [],
   "source": [
    "skole.loc[9][5] #još jedan način da pristupimo jednoj konkretnoj ćeliji."
   ]
  },
  {
   "cell_type": "markdown",
   "metadata": {},
   "source": [
    "Funkcija len() vraća dužinu vrste, tj. koliko elemenata ima u vrsti, vraća ceo broj!"
   ]
  },
  {
   "cell_type": "code",
   "execution_count": null,
   "metadata": {},
   "outputs": [],
   "source": [
    "for i in range(len(skole.loc[9])):\n",
    "    print(skole.loc[9][i])"
   ]
  },
  {
   "cell_type": "code",
   "execution_count": null,
   "metadata": {},
   "outputs": [],
   "source": [
    "#skole.columns\n",
    "t = skole[skole[\"Okrug\"] == \"Град Београд\"]"
   ]
  },
  {
   "cell_type": "code",
   "execution_count": null,
   "metadata": {},
   "outputs": [],
   "source": [
    "#još jedan način da prođemo kroz elemente vrste\n",
    "for i in skole.columns:\n",
    "    print(skole.loc[9][i])"
   ]
  },
  {
   "cell_type": "markdown",
   "metadata": {},
   "source": [
    "### Možemo li bez petlje?"
   ]
  },
  {
   "cell_type": "code",
   "execution_count": null,
   "metadata": {},
   "outputs": [],
   "source": [
    "Biblioteka pandas nudi različite mogućnosti. "
   ]
  },
  {
   "cell_type": "code",
   "execution_count": null,
   "metadata": {},
   "outputs": [],
   "source": [
    "Napisati skript koji u tabeli skole umeće novu kolonu \"Broj ucenika 1-4\" u kojoj se nalazi \n",
    "ukupan broj učenika od 1. do 4. razreda za svaku školu.  "
   ]
  },
  {
   "cell_type": "code",
   "execution_count": null,
   "metadata": {},
   "outputs": [],
   "source": [
    "Skript možemo napisati pomoću petlje for:"
   ]
  },
  {
   "cell_type": "code",
   "execution_count": null,
   "metadata": {},
   "outputs": [],
   "source": [
    "skole.columns"
   ]
  },
  {
   "cell_type": "code",
   "execution_count": null,
   "metadata": {},
   "outputs": [],
   "source": [
    "%%timeit\n",
    "skole[\"Broj ucenika 1-4\"] = 0\n",
    "for i in range(len(skole)):\n",
    "    skole.loc[i, \"Broj ucenika 1-4\"] = skole[\"Broj ucenika - prvi razred\"][i] + skole[\"Broj ucenika - drugi razred\"][i] + skole[\"Broj ucenika - treći razred\"][i] + skole[\"Broj ucenika - cetvrti razred\"][i]\n",
    "skole.head()"
   ]
  },
  {
   "cell_type": "code",
   "execution_count": null,
   "metadata": {},
   "outputs": [],
   "source": [
    "%%timeit\n",
    "skole[\"Broj ucenika 1-4\"] = skole[\"Broj ucenika - prvi razred\"] + skole[\"Broj ucenika - drugi razred\"] + skole[\"Broj ucenika - treći razred\"] + skole[\"Broj ucenika - cetvrti razred\"]\n",
    "skole.head()\n"
   ]
  },
  {
   "cell_type": "markdown",
   "metadata": {},
   "source": [
    "### Sumiranje"
   ]
  },
  {
   "cell_type": "code",
   "execution_count": null,
   "metadata": {},
   "outputs": [],
   "source": [
    "skole.sum()"
   ]
  },
  {
   "cell_type": "code",
   "execution_count": null,
   "metadata": {},
   "outputs": [],
   "source": [
    "tabela = pd.read_csv(\"podaci.csv\")\n",
    "tabela[\"Broj devojčica\"].sum()"
   ]
  },
  {
   "cell_type": "code",
   "execution_count": null,
   "metadata": {},
   "outputs": [],
   "source": [
    "s = 0\n",
    "for broj in tabela[\"Broj devojčica\"]:\n",
    "    s = s + broj\n",
    "print(s)"
   ]
  },
  {
   "cell_type": "code",
   "execution_count": null,
   "metadata": {},
   "outputs": [],
   "source": [
    "tabela[\"Broj devojčica\"].max()"
   ]
  },
  {
   "cell_type": "code",
   "execution_count": null,
   "metadata": {},
   "outputs": [],
   "source": [
    "#tabela[tabela[\"Broj devojčica\"]==tabela[\"Broj devojčica\"].max()][\"Okrug\"]"
   ]
  },
  {
   "cell_type": "code",
   "execution_count": null,
   "metadata": {},
   "outputs": [],
   "source": [
    "tabela[\"Broj učenika\"].mean()"
   ]
  },
  {
   "cell_type": "markdown",
   "metadata": {},
   "source": [
    "Koliki je prosečan broj učenika u odeljenju prvog razreda?"
   ]
  },
  {
   "cell_type": "code",
   "execution_count": null,
   "metadata": {},
   "outputs": [],
   "source": [
    "#skole.columns\n",
    "broj_ucenika = skole[\"Broj ucenika - prvi razred\"].sum() #ukupan broj učenika prvog razreda\n",
    "broj_ucenika"
   ]
  },
  {
   "cell_type": "code",
   "execution_count": null,
   "metadata": {},
   "outputs": [],
   "source": [
    "broj_odeljenja = skole[\"Broj odeljenja - prvi razred\"].sum()\n",
    "broj_odeljenja"
   ]
  },
  {
   "cell_type": "code",
   "execution_count": null,
   "metadata": {},
   "outputs": [],
   "source": [
    "po_odeljenju = round(broj_ucenika / broj_odeljenja) #round() funkcija kojom zaokružujemo broj\n",
    "po_odeljenju"
   ]
  },
  {
   "cell_type": "markdown",
   "metadata": {},
   "source": [
    "Koliki je prosečan broj učenika u odeljenju osmog razreda?"
   ]
  },
  {
   "cell_type": "code",
   "execution_count": null,
   "metadata": {},
   "outputs": [],
   "source": [
    "broj_ucenika_8 = skole[\"Broj ucenika - osmi razred\"].sum() #ukupan broj učenika prvog razreda\n",
    "broj_ucenika_8"
   ]
  },
  {
   "cell_type": "code",
   "execution_count": null,
   "metadata": {},
   "outputs": [],
   "source": [
    "broj_odeljenja_8 = skole[\"Broj odeljenja - osmi razred\"].sum()\n",
    "broj_odeljenja_8"
   ]
  },
  {
   "cell_type": "code",
   "execution_count": null,
   "metadata": {},
   "outputs": [],
   "source": [
    "po_odeljenju_8 = round(broj_ucenika_8 / broj_odeljenja_8) #round() funkcija kojom zaokružujemo broj\n",
    "po_odeljenju_8"
   ]
  },
  {
   "cell_type": "markdown",
   "metadata": {},
   "source": [
    "Šta ukoliko želimo da izračunamo za svaki razred prosečan broj učenika?"
   ]
  },
  {
   "cell_type": "markdown",
   "metadata": {},
   "source": [
    "### Kako definisati funkciju?"
   ]
  },
  {
   "cell_type": "markdown",
   "metadata": {},
   "source": [
    "Ukoliko želimo da izračunamo broj učenika po odeljenju za sve razrede \n",
    "(osnovna i srednja škola), morali bi da kopiramo veliki broj puta, što nije rešenje! "
   ]
  },
  {
   "cell_type": "code",
   "execution_count": null,
   "metadata": {},
   "outputs": [],
   "source": [
    "def prosek (ucenici, odeljenja):\n",
    "    return round(ucenici.sum()/odeljenja.sum())"
   ]
  },
  {
   "cell_type": "code",
   "execution_count": null,
   "metadata": {},
   "outputs": [],
   "source": [
    "x = prosek(skole[\"Broj ucenika - osmi razred\"],skole[\"Broj odeljenja - osmi razred\"])\n",
    "print(x)"
   ]
  },
  {
   "cell_type": "markdown",
   "metadata": {},
   "source": [
    "Napisati funkciju kojom se izračunava procenat učenika koji radi po IOP3 programu u okviru jednog \n",
    "razreda na nivou svih okruga."
   ]
  },
  {
   "cell_type": "code",
   "execution_count": null,
   "metadata": {},
   "outputs": [],
   "source": [
    "def ime():\n",
    "    ....."
   ]
  },
  {
   "cell_type": "markdown",
   "metadata": {},
   "source": [
    "### Filtriranje"
   ]
  },
  {
   "cell_type": "code",
   "execution_count": null,
   "metadata": {},
   "outputs": [],
   "source": [
    "tabela[tabela[\"Broj devojčica\"] > 10000][\"Okrug\"]"
   ]
  },
  {
   "cell_type": "code",
   "execution_count": null,
   "metadata": {},
   "outputs": [],
   "source": [
    "for i in range(tabela[\"Broj devojčica\"].count()):\n",
    "    if tabela[\"Broj devojčica\"][i] > 10000:\n",
    "        print(tabela[\"Okrug\"][i])\n",
    "        "
   ]
  },
  {
   "cell_type": "code",
   "execution_count": null,
   "metadata": {},
   "outputs": [],
   "source": [
    "len(tabela[tabela[\"Broj odeljenja\"] < 50])"
   ]
  },
  {
   "cell_type": "code",
   "execution_count": null,
   "metadata": {},
   "outputs": [],
   "source": [
    "devojcice_5000 = tabela[tabela[\"Broj devojčica\"] > 5000]\n",
    "devojcice_5000[\"Broj učenika\"].sum()"
   ]
  },
  {
   "cell_type": "code",
   "execution_count": null,
   "metadata": {},
   "outputs": [],
   "source": [
    "tabela[tabela[\"Broj devojčica\"] > 5000][\"Broj učenika\"].sum()"
   ]
  },
  {
   "cell_type": "markdown",
   "metadata": {},
   "source": [
    "### Grupisanje"
   ]
  },
  {
   "cell_type": "code",
   "execution_count": null,
   "metadata": {},
   "outputs": [],
   "source": [
    "skole"
   ]
  },
  {
   "cell_type": "code",
   "execution_count": null,
   "metadata": {},
   "outputs": [],
   "source": [
    "skole.groupby(\"Округ\")[\"Број девојчица - први разред\"].sum()"
   ]
  },
  {
   "cell_type": "code",
   "execution_count": 12,
   "metadata": {},
   "outputs": [],
   "source": [
    "t = skole.groupby(\"Okrug\")[[\"Broj ucenika - prvi razred\", \"Broj ucenika - drugi razred\"]].sum()"
   ]
  },
  {
   "cell_type": "code",
   "execution_count": 13,
   "metadata": {},
   "outputs": [
    {
     "data": {
      "text/html": [
       "<div>\n",
       "<style scoped>\n",
       "    .dataframe tbody tr th:only-of-type {\n",
       "        vertical-align: middle;\n",
       "    }\n",
       "\n",
       "    .dataframe tbody tr th {\n",
       "        vertical-align: top;\n",
       "    }\n",
       "\n",
       "    .dataframe thead th {\n",
       "        text-align: right;\n",
       "    }\n",
       "</style>\n",
       "<table border=\"1\" class=\"dataframe\">\n",
       "  <thead>\n",
       "    <tr style=\"text-align: right;\">\n",
       "      <th></th>\n",
       "      <th>Broj ucenika - prvi razred</th>\n",
       "      <th>Broj ucenika - drugi razred</th>\n",
       "    </tr>\n",
       "    <tr>\n",
       "      <th>Okrug</th>\n",
       "      <th></th>\n",
       "      <th></th>\n",
       "    </tr>\n",
       "  </thead>\n",
       "  <tbody>\n",
       "    <tr>\n",
       "      <th>Јабланички управни округ</th>\n",
       "      <td>2110</td>\n",
       "      <td>1805</td>\n",
       "    </tr>\n",
       "    <tr>\n",
       "      <th>Јужнобанатски управни округ</th>\n",
       "      <td>2709</td>\n",
       "      <td>2683</td>\n",
       "    </tr>\n",
       "    <tr>\n",
       "      <th>Јужнобачки управни округ</th>\n",
       "      <td>6590</td>\n",
       "      <td>6152</td>\n",
       "    </tr>\n",
       "    <tr>\n",
       "      <th>Борски управни округ</th>\n",
       "      <td>1002</td>\n",
       "      <td>799</td>\n",
       "    </tr>\n",
       "    <tr>\n",
       "      <th>Браничевски управни округ</th>\n",
       "      <td>1484</td>\n",
       "      <td>1333</td>\n",
       "    </tr>\n",
       "    <tr>\n",
       "      <th>Град Београд</th>\n",
       "      <td>18851</td>\n",
       "      <td>16951</td>\n",
       "    </tr>\n",
       "    <tr>\n",
       "      <th>Западнобачки управни округ</th>\n",
       "      <td>1890</td>\n",
       "      <td>1458</td>\n",
       "    </tr>\n",
       "    <tr>\n",
       "      <th>Зајечарски управни округ</th>\n",
       "      <td>841</td>\n",
       "      <td>815</td>\n",
       "    </tr>\n",
       "    <tr>\n",
       "      <th>Златиборски управни округ</th>\n",
       "      <td>2398</td>\n",
       "      <td>2406</td>\n",
       "    </tr>\n",
       "    <tr>\n",
       "      <th>Колубарски управни округ</th>\n",
       "      <td>1358</td>\n",
       "      <td>1480</td>\n",
       "    </tr>\n",
       "    <tr>\n",
       "      <th>Косовски управни округ</th>\n",
       "      <td>543</td>\n",
       "      <td>444</td>\n",
       "    </tr>\n",
       "    <tr>\n",
       "      <th>Косовско-митровачки управни округ</th>\n",
       "      <td>566</td>\n",
       "      <td>626</td>\n",
       "    </tr>\n",
       "    <tr>\n",
       "      <th>Косовско-поморавски управни округ</th>\n",
       "      <td>231</td>\n",
       "      <td>214</td>\n",
       "    </tr>\n",
       "    <tr>\n",
       "      <th>Мачвански управни округ</th>\n",
       "      <td>2423</td>\n",
       "      <td>2552</td>\n",
       "    </tr>\n",
       "    <tr>\n",
       "      <th>Моравички управни округ</th>\n",
       "      <td>1876</td>\n",
       "      <td>1830</td>\n",
       "    </tr>\n",
       "    <tr>\n",
       "      <th>Нишавски управни округ</th>\n",
       "      <td>3848</td>\n",
       "      <td>3226</td>\n",
       "    </tr>\n",
       "    <tr>\n",
       "      <th>Пећки управни округ</th>\n",
       "      <td>17</td>\n",
       "      <td>16</td>\n",
       "    </tr>\n",
       "    <tr>\n",
       "      <th>Пиротски управни округ</th>\n",
       "      <td>621</td>\n",
       "      <td>627</td>\n",
       "    </tr>\n",
       "    <tr>\n",
       "      <th>Подунавски управни округ</th>\n",
       "      <td>1859</td>\n",
       "      <td>1779</td>\n",
       "    </tr>\n",
       "    <tr>\n",
       "      <th>Поморавски управни округ</th>\n",
       "      <td>1758</td>\n",
       "      <td>1681</td>\n",
       "    </tr>\n",
       "    <tr>\n",
       "      <th>Призренски управни округ</th>\n",
       "      <td>76</td>\n",
       "      <td>76</td>\n",
       "    </tr>\n",
       "    <tr>\n",
       "      <th>Пчињски управни округ</th>\n",
       "      <td>2071</td>\n",
       "      <td>2006</td>\n",
       "    </tr>\n",
       "    <tr>\n",
       "      <th>Расински управни округ</th>\n",
       "      <td>2013</td>\n",
       "      <td>1981</td>\n",
       "    </tr>\n",
       "    <tr>\n",
       "      <th>Рашки управни округ</th>\n",
       "      <td>3555</td>\n",
       "      <td>3541</td>\n",
       "    </tr>\n",
       "    <tr>\n",
       "      <th>Севернобанатски управни округ</th>\n",
       "      <td>1294</td>\n",
       "      <td>1135</td>\n",
       "    </tr>\n",
       "    <tr>\n",
       "      <th>Севернобачки управни округ</th>\n",
       "      <td>1587</td>\n",
       "      <td>1575</td>\n",
       "    </tr>\n",
       "    <tr>\n",
       "      <th>Средњобанатски управни округ</th>\n",
       "      <td>1721</td>\n",
       "      <td>1616</td>\n",
       "    </tr>\n",
       "    <tr>\n",
       "      <th>Сремски управни округ</th>\n",
       "      <td>2975</td>\n",
       "      <td>2761</td>\n",
       "    </tr>\n",
       "    <tr>\n",
       "      <th>Топлички управни округ</th>\n",
       "      <td>881</td>\n",
       "      <td>762</td>\n",
       "    </tr>\n",
       "    <tr>\n",
       "      <th>Шумадијски управни округ</th>\n",
       "      <td>2681</td>\n",
       "      <td>2534</td>\n",
       "    </tr>\n",
       "  </tbody>\n",
       "</table>\n",
       "</div>"
      ],
      "text/plain": [
       "                                   Broj ucenika - prvi razred  \\\n",
       "Okrug                                                           \n",
       "Јабланички управни округ                                 2110   \n",
       "Јужнобанатски управни округ                              2709   \n",
       "Јужнобачки управни округ                                 6590   \n",
       "Борски управни округ                                     1002   \n",
       "Браничевски управни округ                                1484   \n",
       "Град Београд                                            18851   \n",
       "Западнобачки управни округ                               1890   \n",
       "Зајечарски управни округ                                  841   \n",
       "Златиборски управни округ                                2398   \n",
       "Колубарски управни округ                                 1358   \n",
       "Косовски управни округ                                    543   \n",
       "Косовско-митровачки управни округ                         566   \n",
       "Косовско-поморавски управни округ                         231   \n",
       "Мачвански управни округ                                  2423   \n",
       "Моравички управни округ                                  1876   \n",
       "Нишавски управни округ                                   3848   \n",
       "Пећки управни округ                                        17   \n",
       "Пиротски управни округ                                    621   \n",
       "Подунавски управни округ                                 1859   \n",
       "Поморавски управни округ                                 1758   \n",
       "Призренски управни округ                                   76   \n",
       "Пчињски управни округ                                    2071   \n",
       "Расински управни округ                                   2013   \n",
       "Рашки управни округ                                      3555   \n",
       "Севернобанатски управни округ                            1294   \n",
       "Севернобачки управни округ                               1587   \n",
       "Средњобанатски управни округ                             1721   \n",
       "Сремски управни округ                                    2975   \n",
       "Топлички управни округ                                    881   \n",
       "Шумадијски управни округ                                 2681   \n",
       "\n",
       "                                   Broj ucenika - drugi razred  \n",
       "Okrug                                                           \n",
       "Јабланички управни округ                                  1805  \n",
       "Јужнобанатски управни округ                               2683  \n",
       "Јужнобачки управни округ                                  6152  \n",
       "Борски управни округ                                       799  \n",
       "Браничевски управни округ                                 1333  \n",
       "Град Београд                                             16951  \n",
       "Западнобачки управни округ                                1458  \n",
       "Зајечарски управни округ                                   815  \n",
       "Златиборски управни округ                                 2406  \n",
       "Колубарски управни округ                                  1480  \n",
       "Косовски управни округ                                     444  \n",
       "Косовско-митровачки управни округ                          626  \n",
       "Косовско-поморавски управни округ                          214  \n",
       "Мачвански управни округ                                   2552  \n",
       "Моравички управни округ                                   1830  \n",
       "Нишавски управни округ                                    3226  \n",
       "Пећки управни округ                                         16  \n",
       "Пиротски управни округ                                     627  \n",
       "Подунавски управни округ                                  1779  \n",
       "Поморавски управни округ                                  1681  \n",
       "Призренски управни округ                                    76  \n",
       "Пчињски управни округ                                     2006  \n",
       "Расински управни округ                                    1981  \n",
       "Рашки управни округ                                       3541  \n",
       "Севернобанатски управни округ                             1135  \n",
       "Севернобачки управни округ                                1575  \n",
       "Средњобанатски управни округ                              1616  \n",
       "Сремски управни округ                                     2761  \n",
       "Топлички управни округ                                     762  \n",
       "Шумадијски управни округ                                  2534  "
      ]
     },
     "execution_count": 13,
     "metadata": {},
     "output_type": "execute_result"
    }
   ],
   "source": [
    "t"
   ]
  },
  {
   "cell_type": "code",
   "execution_count": 16,
   "metadata": {},
   "outputs": [
    {
     "data": {
      "text/plain": [
       "2709"
      ]
     },
     "execution_count": 16,
     "metadata": {},
     "output_type": "execute_result"
    }
   ],
   "source": [
    "t.loc[\"Јужнобанатски управни округ\",\"Broj ucenika - prvi razred\"]"
   ]
  },
  {
   "cell_type": "code",
   "execution_count": 17,
   "metadata": {},
   "outputs": [
    {
     "data": {
      "text/plain": [
       "2709"
      ]
     },
     "execution_count": 17,
     "metadata": {},
     "output_type": "execute_result"
    }
   ],
   "source": [
    "t.iloc[1,0]"
   ]
  },
  {
   "cell_type": "code",
   "execution_count": 18,
   "metadata": {},
   "outputs": [
    {
     "data": {
      "text/html": [
       "<div>\n",
       "<style scoped>\n",
       "    .dataframe tbody tr th:only-of-type {\n",
       "        vertical-align: middle;\n",
       "    }\n",
       "\n",
       "    .dataframe tbody tr th {\n",
       "        vertical-align: top;\n",
       "    }\n",
       "\n",
       "    .dataframe thead th {\n",
       "        text-align: right;\n",
       "    }\n",
       "</style>\n",
       "<table border=\"1\" class=\"dataframe\">\n",
       "  <thead>\n",
       "    <tr style=\"text-align: right;\">\n",
       "      <th></th>\n",
       "      <th>Broj ucenika - prvi razred</th>\n",
       "      <th>Broj ucenika - drugi razred</th>\n",
       "    </tr>\n",
       "    <tr>\n",
       "      <th>Okrug</th>\n",
       "      <th></th>\n",
       "      <th></th>\n",
       "    </tr>\n",
       "  </thead>\n",
       "  <tbody>\n",
       "    <tr>\n",
       "      <th>Јужнобанатски управни округ</th>\n",
       "      <td>2709</td>\n",
       "      <td>2683</td>\n",
       "    </tr>\n",
       "    <tr>\n",
       "      <th>Јужнобачки управни округ</th>\n",
       "      <td>6590</td>\n",
       "      <td>6152</td>\n",
       "    </tr>\n",
       "    <tr>\n",
       "      <th>Борски управни округ</th>\n",
       "      <td>1002</td>\n",
       "      <td>799</td>\n",
       "    </tr>\n",
       "    <tr>\n",
       "      <th>Браничевски управни округ</th>\n",
       "      <td>1484</td>\n",
       "      <td>1333</td>\n",
       "    </tr>\n",
       "    <tr>\n",
       "      <th>Град Београд</th>\n",
       "      <td>18851</td>\n",
       "      <td>16951</td>\n",
       "    </tr>\n",
       "    <tr>\n",
       "      <th>Западнобачки управни округ</th>\n",
       "      <td>1890</td>\n",
       "      <td>1458</td>\n",
       "    </tr>\n",
       "    <tr>\n",
       "      <th>Зајечарски управни округ</th>\n",
       "      <td>841</td>\n",
       "      <td>815</td>\n",
       "    </tr>\n",
       "    <tr>\n",
       "      <th>Златиборски управни округ</th>\n",
       "      <td>2398</td>\n",
       "      <td>2406</td>\n",
       "    </tr>\n",
       "  </tbody>\n",
       "</table>\n",
       "</div>"
      ],
      "text/plain": [
       "                             Broj ucenika - prvi razred  \\\n",
       "Okrug                                                     \n",
       "Јужнобанатски управни округ                        2709   \n",
       "Јужнобачки управни округ                           6590   \n",
       "Борски управни округ                               1002   \n",
       "Браничевски управни округ                          1484   \n",
       "Град Београд                                      18851   \n",
       "Западнобачки управни округ                         1890   \n",
       "Зајечарски управни округ                            841   \n",
       "Златиборски управни округ                          2398   \n",
       "\n",
       "                             Broj ucenika - drugi razred  \n",
       "Okrug                                                     \n",
       "Јужнобанатски управни округ                         2683  \n",
       "Јужнобачки управни округ                            6152  \n",
       "Борски управни округ                                 799  \n",
       "Браничевски управни округ                           1333  \n",
       "Град Београд                                       16951  \n",
       "Западнобачки управни округ                          1458  \n",
       "Зајечарски управни округ                             815  \n",
       "Златиборски управни округ                           2406  "
      ]
     },
     "execution_count": 18,
     "metadata": {},
     "output_type": "execute_result"
    }
   ],
   "source": [
    "t.loc[\"Јужнобанатски управни округ\":\"Златиборски управни округ\"]"
   ]
  },
  {
   "cell_type": "code",
   "execution_count": 21,
   "metadata": {},
   "outputs": [
    {
     "data": {
      "text/html": [
       "<div>\n",
       "<style scoped>\n",
       "    .dataframe tbody tr th:only-of-type {\n",
       "        vertical-align: middle;\n",
       "    }\n",
       "\n",
       "    .dataframe tbody tr th {\n",
       "        vertical-align: top;\n",
       "    }\n",
       "\n",
       "    .dataframe thead th {\n",
       "        text-align: right;\n",
       "    }\n",
       "</style>\n",
       "<table border=\"1\" class=\"dataframe\">\n",
       "  <thead>\n",
       "    <tr style=\"text-align: right;\">\n",
       "      <th></th>\n",
       "      <th>Broj ucenika - prvi razred</th>\n",
       "      <th>Broj ucenika - drugi razred</th>\n",
       "    </tr>\n",
       "    <tr>\n",
       "      <th>Okrug</th>\n",
       "      <th></th>\n",
       "      <th></th>\n",
       "    </tr>\n",
       "  </thead>\n",
       "  <tbody>\n",
       "    <tr>\n",
       "      <th>Јабланички управни округ</th>\n",
       "      <td>2110</td>\n",
       "      <td>1805</td>\n",
       "    </tr>\n",
       "    <tr>\n",
       "      <th>Јужнобанатски управни округ</th>\n",
       "      <td>2709</td>\n",
       "      <td>2683</td>\n",
       "    </tr>\n",
       "    <tr>\n",
       "      <th>Јужнобачки управни округ</th>\n",
       "      <td>6590</td>\n",
       "      <td>6152</td>\n",
       "    </tr>\n",
       "    <tr>\n",
       "      <th>Борски управни округ</th>\n",
       "      <td>1002</td>\n",
       "      <td>799</td>\n",
       "    </tr>\n",
       "    <tr>\n",
       "      <th>Браничевски управни округ</th>\n",
       "      <td>1484</td>\n",
       "      <td>1333</td>\n",
       "    </tr>\n",
       "    <tr>\n",
       "      <th>Град Београд</th>\n",
       "      <td>18851</td>\n",
       "      <td>16951</td>\n",
       "    </tr>\n",
       "    <tr>\n",
       "      <th>Западнобачки управни округ</th>\n",
       "      <td>1890</td>\n",
       "      <td>1458</td>\n",
       "    </tr>\n",
       "    <tr>\n",
       "      <th>Зајечарски управни округ</th>\n",
       "      <td>841</td>\n",
       "      <td>815</td>\n",
       "    </tr>\n",
       "    <tr>\n",
       "      <th>Златиборски управни округ</th>\n",
       "      <td>2398</td>\n",
       "      <td>2406</td>\n",
       "    </tr>\n",
       "    <tr>\n",
       "      <th>Колубарски управни округ</th>\n",
       "      <td>1358</td>\n",
       "      <td>1480</td>\n",
       "    </tr>\n",
       "    <tr>\n",
       "      <th>Косовски управни округ</th>\n",
       "      <td>543</td>\n",
       "      <td>444</td>\n",
       "    </tr>\n",
       "    <tr>\n",
       "      <th>Косовско-митровачки управни округ</th>\n",
       "      <td>566</td>\n",
       "      <td>626</td>\n",
       "    </tr>\n",
       "    <tr>\n",
       "      <th>Косовско-поморавски управни округ</th>\n",
       "      <td>231</td>\n",
       "      <td>214</td>\n",
       "    </tr>\n",
       "    <tr>\n",
       "      <th>Мачвански управни округ</th>\n",
       "      <td>2423</td>\n",
       "      <td>2552</td>\n",
       "    </tr>\n",
       "    <tr>\n",
       "      <th>Моравички управни округ</th>\n",
       "      <td>1876</td>\n",
       "      <td>1830</td>\n",
       "    </tr>\n",
       "    <tr>\n",
       "      <th>Нишавски управни округ</th>\n",
       "      <td>3848</td>\n",
       "      <td>3226</td>\n",
       "    </tr>\n",
       "    <tr>\n",
       "      <th>Пећки управни округ</th>\n",
       "      <td>17</td>\n",
       "      <td>16</td>\n",
       "    </tr>\n",
       "    <tr>\n",
       "      <th>Пиротски управни округ</th>\n",
       "      <td>621</td>\n",
       "      <td>627</td>\n",
       "    </tr>\n",
       "    <tr>\n",
       "      <th>Подунавски управни округ</th>\n",
       "      <td>1859</td>\n",
       "      <td>1779</td>\n",
       "    </tr>\n",
       "    <tr>\n",
       "      <th>Поморавски управни округ</th>\n",
       "      <td>1758</td>\n",
       "      <td>1681</td>\n",
       "    </tr>\n",
       "    <tr>\n",
       "      <th>Призренски управни округ</th>\n",
       "      <td>76</td>\n",
       "      <td>76</td>\n",
       "    </tr>\n",
       "    <tr>\n",
       "      <th>Пчињски управни округ</th>\n",
       "      <td>2071</td>\n",
       "      <td>2006</td>\n",
       "    </tr>\n",
       "    <tr>\n",
       "      <th>Расински управни округ</th>\n",
       "      <td>2013</td>\n",
       "      <td>1981</td>\n",
       "    </tr>\n",
       "    <tr>\n",
       "      <th>Рашки управни округ</th>\n",
       "      <td>3555</td>\n",
       "      <td>3541</td>\n",
       "    </tr>\n",
       "    <tr>\n",
       "      <th>Севернобанатски управни округ</th>\n",
       "      <td>1294</td>\n",
       "      <td>1135</td>\n",
       "    </tr>\n",
       "    <tr>\n",
       "      <th>Севернобачки управни округ</th>\n",
       "      <td>1587</td>\n",
       "      <td>1575</td>\n",
       "    </tr>\n",
       "    <tr>\n",
       "      <th>Средњобанатски управни округ</th>\n",
       "      <td>1721</td>\n",
       "      <td>1616</td>\n",
       "    </tr>\n",
       "    <tr>\n",
       "      <th>Сремски управни округ</th>\n",
       "      <td>2975</td>\n",
       "      <td>2761</td>\n",
       "    </tr>\n",
       "    <tr>\n",
       "      <th>Топлички управни округ</th>\n",
       "      <td>881</td>\n",
       "      <td>762</td>\n",
       "    </tr>\n",
       "    <tr>\n",
       "      <th>Шумадијски управни округ</th>\n",
       "      <td>2681</td>\n",
       "      <td>2534</td>\n",
       "    </tr>\n",
       "  </tbody>\n",
       "</table>\n",
       "</div>"
      ],
      "text/plain": [
       "                                   Broj ucenika - prvi razred  \\\n",
       "Okrug                                                           \n",
       "Јабланички управни округ                                 2110   \n",
       "Јужнобанатски управни округ                              2709   \n",
       "Јужнобачки управни округ                                 6590   \n",
       "Борски управни округ                                     1002   \n",
       "Браничевски управни округ                                1484   \n",
       "Град Београд                                            18851   \n",
       "Западнобачки управни округ                               1890   \n",
       "Зајечарски управни округ                                  841   \n",
       "Златиборски управни округ                                2398   \n",
       "Колубарски управни округ                                 1358   \n",
       "Косовски управни округ                                    543   \n",
       "Косовско-митровачки управни округ                         566   \n",
       "Косовско-поморавски управни округ                         231   \n",
       "Мачвански управни округ                                  2423   \n",
       "Моравички управни округ                                  1876   \n",
       "Нишавски управни округ                                   3848   \n",
       "Пећки управни округ                                        17   \n",
       "Пиротски управни округ                                    621   \n",
       "Подунавски управни округ                                 1859   \n",
       "Поморавски управни округ                                 1758   \n",
       "Призренски управни округ                                   76   \n",
       "Пчињски управни округ                                    2071   \n",
       "Расински управни округ                                   2013   \n",
       "Рашки управни округ                                      3555   \n",
       "Севернобанатски управни округ                            1294   \n",
       "Севернобачки управни округ                               1587   \n",
       "Средњобанатски управни округ                             1721   \n",
       "Сремски управни округ                                    2975   \n",
       "Топлички управни округ                                    881   \n",
       "Шумадијски управни округ                                 2681   \n",
       "\n",
       "                                   Broj ucenika - drugi razred  \n",
       "Okrug                                                           \n",
       "Јабланички управни округ                                  1805  \n",
       "Јужнобанатски управни округ                               2683  \n",
       "Јужнобачки управни округ                                  6152  \n",
       "Борски управни округ                                       799  \n",
       "Браничевски управни округ                                 1333  \n",
       "Град Београд                                             16951  \n",
       "Западнобачки управни округ                                1458  \n",
       "Зајечарски управни округ                                   815  \n",
       "Златиборски управни округ                                 2406  \n",
       "Колубарски управни округ                                  1480  \n",
       "Косовски управни округ                                     444  \n",
       "Косовско-митровачки управни округ                          626  \n",
       "Косовско-поморавски управни округ                          214  \n",
       "Мачвански управни округ                                   2552  \n",
       "Моравички управни округ                                   1830  \n",
       "Нишавски управни округ                                    3226  \n",
       "Пећки управни округ                                         16  \n",
       "Пиротски управни округ                                     627  \n",
       "Подунавски управни округ                                  1779  \n",
       "Поморавски управни округ                                  1681  \n",
       "Призренски управни округ                                    76  \n",
       "Пчињски управни округ                                     2006  \n",
       "Расински управни округ                                    1981  \n",
       "Рашки управни округ                                       3541  \n",
       "Севернобанатски управни округ                             1135  \n",
       "Севернобачки управни округ                                1575  \n",
       "Средњобанатски управни округ                              1616  \n",
       "Сремски управни округ                                     2761  \n",
       "Топлички управни округ                                     762  \n",
       "Шумадијски управни округ                                  2534  "
      ]
     },
     "execution_count": 21,
     "metadata": {},
     "output_type": "execute_result"
    }
   ],
   "source": [
    "t.loc[:,\"Broj ucenika - prvi razred\":\"Broj ucenika - drugi razred\"]"
   ]
  },
  {
   "cell_type": "code",
   "execution_count": 24,
   "metadata": {},
   "outputs": [
    {
     "data": {
      "text/html": [
       "<div>\n",
       "<style scoped>\n",
       "    .dataframe tbody tr th:only-of-type {\n",
       "        vertical-align: middle;\n",
       "    }\n",
       "\n",
       "    .dataframe tbody tr th {\n",
       "        vertical-align: top;\n",
       "    }\n",
       "\n",
       "    .dataframe thead th {\n",
       "        text-align: right;\n",
       "    }\n",
       "</style>\n",
       "<table border=\"1\" class=\"dataframe\">\n",
       "  <thead>\n",
       "    <tr style=\"text-align: right;\">\n",
       "      <th></th>\n",
       "      <th>#</th>\n",
       "      <th>ID ustanove</th>\n",
       "      <th>Vlasnistvo</th>\n",
       "      <th>Okrug</th>\n",
       "      <th>Opstina</th>\n",
       "      <th>Naziv ustanove</th>\n",
       "      <th>Podrucje rada</th>\n",
       "      <th>Obrazovni profil</th>\n",
       "      <th>Trajanje obrazovanja</th>\n",
       "      <th>Jezik nastave</th>\n",
       "    </tr>\n",
       "  </thead>\n",
       "  <tbody>\n",
       "    <tr>\n",
       "      <th>0</th>\n",
       "      <td>1.0</td>\n",
       "      <td>1</td>\n",
       "      <td>Државно</td>\n",
       "      <td>Град Београд</td>\n",
       "      <td>Београд - Барајево</td>\n",
       "      <td>Павле Поповић</td>\n",
       "      <td>Основно редовно образовање</td>\n",
       "      <td>Основно образовање</td>\n",
       "      <td>8</td>\n",
       "      <td>Српски језик</td>\n",
       "    </tr>\n",
       "    <tr>\n",
       "      <th>100</th>\n",
       "      <td>101.0</td>\n",
       "      <td>101</td>\n",
       "      <td>Државно</td>\n",
       "      <td>Град Београд</td>\n",
       "      <td>Београд - Нови Београд</td>\n",
       "      <td>20. октобар</td>\n",
       "      <td>Основно редовно образовање</td>\n",
       "      <td>Основно образовање</td>\n",
       "      <td>8</td>\n",
       "      <td>Српски језик</td>\n",
       "    </tr>\n",
       "    <tr>\n",
       "      <th>200</th>\n",
       "      <td>201.0</td>\n",
       "      <td>211</td>\n",
       "      <td>Државно</td>\n",
       "      <td>Севернобачки управни округ</td>\n",
       "      <td>Суботица - град</td>\n",
       "      <td>Хуњади Јанош</td>\n",
       "      <td>Основно редовно образовање</td>\n",
       "      <td>Основно образовање</td>\n",
       "      <td>8</td>\n",
       "      <td>Српски језик</td>\n",
       "    </tr>\n",
       "    <tr>\n",
       "      <th>300</th>\n",
       "      <td>301.0</td>\n",
       "      <td>280</td>\n",
       "      <td>Државно</td>\n",
       "      <td>Средњобанатски управни округ</td>\n",
       "      <td>Зрењанин - град</td>\n",
       "      <td>Ђура Јакшић</td>\n",
       "      <td>Основно редовно образовање</td>\n",
       "      <td>Основно образовање</td>\n",
       "      <td>8</td>\n",
       "      <td>Српски језик</td>\n",
       "    </tr>\n",
       "    <tr>\n",
       "      <th>400</th>\n",
       "      <td>401.0</td>\n",
       "      <td>358</td>\n",
       "      <td>Државно</td>\n",
       "      <td>Јужнобанатски управни округ</td>\n",
       "      <td>Панчево - град</td>\n",
       "      <td>Борисав Петров Браца</td>\n",
       "      <td>Основно редовно образовање</td>\n",
       "      <td>Основно образовање</td>\n",
       "      <td>8</td>\n",
       "      <td>Српски језик</td>\n",
       "    </tr>\n",
       "    <tr>\n",
       "      <th>500</th>\n",
       "      <td>501.0</td>\n",
       "      <td>431</td>\n",
       "      <td>Државно</td>\n",
       "      <td>Јужнобачки управни округ</td>\n",
       "      <td>Бачка Паланка</td>\n",
       "      <td>Милета Протић</td>\n",
       "      <td>Функционално образовање одраслих</td>\n",
       "      <td>Функционално образовање одраслих</td>\n",
       "      <td>6</td>\n",
       "      <td>Српски језик</td>\n",
       "    </tr>\n",
       "    <tr>\n",
       "      <th>600</th>\n",
       "      <td>601.0</td>\n",
       "      <td>506</td>\n",
       "      <td>Државно</td>\n",
       "      <td>Сремски управни округ</td>\n",
       "      <td>Инђија</td>\n",
       "      <td>Душан Јерковић</td>\n",
       "      <td>Основно редовно образовање</td>\n",
       "      <td>Основно образовање</td>\n",
       "      <td>8</td>\n",
       "      <td>Српски језик</td>\n",
       "    </tr>\n",
       "    <tr>\n",
       "      <th>700</th>\n",
       "      <td>701.0</td>\n",
       "      <td>594</td>\n",
       "      <td>Државно</td>\n",
       "      <td>Колубарски управни округ</td>\n",
       "      <td>Ваљево - град</td>\n",
       "      <td>Владика Николај Велимировић</td>\n",
       "      <td>Основно редовно образовање</td>\n",
       "      <td>Основно образовање</td>\n",
       "      <td>8</td>\n",
       "      <td>Српски језик</td>\n",
       "    </tr>\n",
       "    <tr>\n",
       "      <th>800</th>\n",
       "      <td>801.0</td>\n",
       "      <td>686</td>\n",
       "      <td>Државно</td>\n",
       "      <td>Браничевски управни округ</td>\n",
       "      <td>Костолац</td>\n",
       "      <td>Јован Цвијић</td>\n",
       "      <td>Основно редовно образовање</td>\n",
       "      <td>Основно образовање</td>\n",
       "      <td>8</td>\n",
       "      <td>Српски језик</td>\n",
       "    </tr>\n",
       "    <tr>\n",
       "      <th>900</th>\n",
       "      <td>901.0</td>\n",
       "      <td>777</td>\n",
       "      <td>Државно</td>\n",
       "      <td>Борски управни округ</td>\n",
       "      <td>Мајданпек</td>\n",
       "      <td>12. септембар</td>\n",
       "      <td>Основно редовно образовање</td>\n",
       "      <td>Основно образовање</td>\n",
       "      <td>8</td>\n",
       "      <td>Српски језик</td>\n",
       "    </tr>\n",
       "    <tr>\n",
       "      <th>1000</th>\n",
       "      <td>1001.0</td>\n",
       "      <td>865</td>\n",
       "      <td>Државно</td>\n",
       "      <td>Моравички управни округ</td>\n",
       "      <td>Ивањица</td>\n",
       "      <td>Светозар Марковић</td>\n",
       "      <td>Основно редовно образовање</td>\n",
       "      <td>Основно образовање</td>\n",
       "      <td>8</td>\n",
       "      <td>Српски језик</td>\n",
       "    </tr>\n",
       "    <tr>\n",
       "      <th>1100</th>\n",
       "      <td>1101.0</td>\n",
       "      <td>958</td>\n",
       "      <td>Државно</td>\n",
       "      <td>Расински управни округ</td>\n",
       "      <td>Варварин</td>\n",
       "      <td>Мирко Томић</td>\n",
       "      <td>Основно редовно образовање</td>\n",
       "      <td>Основно образовање</td>\n",
       "      <td>8</td>\n",
       "      <td>Српски језик</td>\n",
       "    </tr>\n",
       "    <tr>\n",
       "      <th>1200</th>\n",
       "      <td>1201.0</td>\n",
       "      <td>1036</td>\n",
       "      <td>Државно</td>\n",
       "      <td>Нишавски управни округ</td>\n",
       "      <td>Алексинац</td>\n",
       "      <td>Вук Караџић</td>\n",
       "      <td>Функционално образовање одраслих</td>\n",
       "      <td>Функционално образовање одраслих</td>\n",
       "      <td>6</td>\n",
       "      <td>Српски језик</td>\n",
       "    </tr>\n",
       "    <tr>\n",
       "      <th>1300</th>\n",
       "      <td>1301.0</td>\n",
       "      <td>1132</td>\n",
       "      <td>Државно</td>\n",
       "      <td>Пчињски управни округ</td>\n",
       "      <td>Босилеград</td>\n",
       "      <td>Георги Димитров</td>\n",
       "      <td>Основно редовно образовање</td>\n",
       "      <td>Основно образовање</td>\n",
       "      <td>8</td>\n",
       "      <td>Бугарски језик</td>\n",
       "    </tr>\n",
       "    <tr>\n",
       "      <th>1400</th>\n",
       "      <td>1401.0</td>\n",
       "      <td>1308</td>\n",
       "      <td>Државно</td>\n",
       "      <td>Моравички управни округ</td>\n",
       "      <td>Чачак - град</td>\n",
       "      <td>Основна школа за образовање одраслих Чачак</td>\n",
       "      <td>Функционално образовање одраслих</td>\n",
       "      <td>Функционално образовање одраслих</td>\n",
       "      <td>6</td>\n",
       "      <td>Српски језик</td>\n",
       "    </tr>\n",
       "  </tbody>\n",
       "</table>\n",
       "</div>"
      ],
      "text/plain": [
       "           #  ID ustanove Vlasnistvo                         Okrug  \\\n",
       "0        1.0            1    Државно                  Град Београд   \n",
       "100    101.0          101    Државно                  Град Београд   \n",
       "200    201.0          211    Државно    Севернобачки управни округ   \n",
       "300    301.0          280    Државно  Средњобанатски управни округ   \n",
       "400    401.0          358    Државно   Јужнобанатски управни округ   \n",
       "500    501.0          431    Државно      Јужнобачки управни округ   \n",
       "600    601.0          506    Државно         Сремски управни округ   \n",
       "700    701.0          594    Државно      Колубарски управни округ   \n",
       "800    801.0          686    Државно     Браничевски управни округ   \n",
       "900    901.0          777    Државно          Борски управни округ   \n",
       "1000  1001.0          865    Државно       Моравички управни округ   \n",
       "1100  1101.0          958    Државно        Расински управни округ   \n",
       "1200  1201.0         1036    Државно        Нишавски управни округ   \n",
       "1300  1301.0         1132    Државно         Пчињски управни округ   \n",
       "1400  1401.0         1308    Државно       Моравички управни округ   \n",
       "\n",
       "                     Opstina                              Naziv ustanove  \\\n",
       "0         Београд - Барајево                               Павле Поповић   \n",
       "100   Београд - Нови Београд                                 20. октобар   \n",
       "200          Суботица - град                                Хуњади Јанош   \n",
       "300          Зрењанин - град                                 Ђура Јакшић   \n",
       "400           Панчево - град                        Борисав Петров Браца   \n",
       "500            Бачка Паланка                               Милета Протић   \n",
       "600                   Инђија                              Душан Јерковић   \n",
       "700            Ваљево - град                 Владика Николај Велимировић   \n",
       "800                 Костолац                                Јован Цвијић   \n",
       "900                Мајданпек                               12. септембар   \n",
       "1000                 Ивањица                           Светозар Марковић   \n",
       "1100                Варварин                                 Мирко Томић   \n",
       "1200               Алексинац                                 Вук Караџић   \n",
       "1300              Босилеград                             Георги Димитров   \n",
       "1400            Чачак - град  Основна школа за образовање одраслих Чачак   \n",
       "\n",
       "                         Podrucje rada                  Obrazovni profil  \\\n",
       "0           Основно редовно образовање                Основно образовање   \n",
       "100         Основно редовно образовање                Основно образовање   \n",
       "200         Основно редовно образовање                Основно образовање   \n",
       "300         Основно редовно образовање                Основно образовање   \n",
       "400         Основно редовно образовање                Основно образовање   \n",
       "500   Функционално образовање одраслих  Функционално образовање одраслих   \n",
       "600         Основно редовно образовање                Основно образовање   \n",
       "700         Основно редовно образовање                Основно образовање   \n",
       "800         Основно редовно образовање                Основно образовање   \n",
       "900         Основно редовно образовање                Основно образовање   \n",
       "1000        Основно редовно образовање                Основно образовање   \n",
       "1100        Основно редовно образовање                Основно образовање   \n",
       "1200  Функционално образовање одраслих  Функционално образовање одраслих   \n",
       "1300        Основно редовно образовање                Основно образовање   \n",
       "1400  Функционално образовање одраслих  Функционално образовање одраслих   \n",
       "\n",
       "      Trajanje obrazovanja   Jezik nastave  \n",
       "0                        8    Српски језик  \n",
       "100                      8    Српски језик  \n",
       "200                      8    Српски језик  \n",
       "300                      8    Српски језик  \n",
       "400                      8    Српски језик  \n",
       "500                      6    Српски језик  \n",
       "600                      8    Српски језик  \n",
       "700                      8    Српски језик  \n",
       "800                      8    Српски језик  \n",
       "900                      8    Српски језик  \n",
       "1000                     8    Српски језик  \n",
       "1100                     8    Српски језик  \n",
       "1200                     6    Српски језик  \n",
       "1300                     8  Бугарски језик  \n",
       "1400                     6    Српски језик  "
      ]
     },
     "execution_count": 24,
     "metadata": {},
     "output_type": "execute_result"
    }
   ],
   "source": [
    "skole.iloc[::100,:10]"
   ]
  },
  {
   "cell_type": "code",
   "execution_count": null,
   "metadata": {},
   "outputs": [],
   "source": [
    "tabela.sort_values(\"Broj odeljenja\", ascending=False).head()"
   ]
  },
  {
   "cell_type": "code",
   "execution_count": null,
   "metadata": {},
   "outputs": [],
   "source": [
    "skole.groupby(\"Okrug\")[\"Broj devojcica - prvi razred\"].sum().sort_values(ascending = False).head(10)\n"
   ]
  },
  {
   "cell_type": "code",
   "execution_count": 33,
   "metadata": {},
   "outputs": [
    {
     "data": {
      "image/png": "[encoded data removed]",
      "text/plain": [
       "<Figure size 432x288 with 4 Axes>"
      ]
     },
     "metadata": {
      "needs_background": "light"
     },
     "output_type": "display_data"
    }
   ],
   "source": [
    "import matplotlib.pyplot as plt\n",
    "t = skole.groupby(\"Okrug\")[\"Broj devojcica - prvi razred\"].sum().sort_values(ascending = False).head(10)\n",
    "for i in range(1,4+1):\n",
    "    plt.subplot(4, 1, i)\n",
    "    plt.barh(t.index, t)\n",
    "\n",
    "plt.show()"
   ]
  },
  {
   "cell_type": "code",
   "execution_count": null,
   "metadata": {},
   "outputs": [],
   "source": [
    "t.plot.bar()"
   ]
  },
  {
   "cell_type": "code",
   "execution_count": 11,
   "metadata": {},
   "outputs": [
    {
     "data": {
      "text/html": [
       "<div>\n",
       "<style scoped>\n",
       "    .dataframe tbody tr th:only-of-type {\n",
       "        vertical-align: middle;\n",
       "    }\n",
       "\n",
       "    .dataframe tbody tr th {\n",
       "        vertical-align: top;\n",
       "    }\n",
       "\n",
       "    .dataframe thead th {\n",
       "        text-align: right;\n",
       "    }\n",
       "</style>\n",
       "<table border=\"1\" class=\"dataframe\">\n",
       "  <thead>\n",
       "    <tr style=\"text-align: right;\">\n",
       "      <th></th>\n",
       "      <th>Okrug</th>\n",
       "    </tr>\n",
       "  </thead>\n",
       "  <tbody>\n",
       "    <tr>\n",
       "      <th>0</th>\n",
       "      <td>Град Београд</td>\n",
       "    </tr>\n",
       "    <tr>\n",
       "      <th>1</th>\n",
       "      <td>Град Београд</td>\n",
       "    </tr>\n",
       "    <tr>\n",
       "      <th>2</th>\n",
       "      <td>Град Београд</td>\n",
       "    </tr>\n",
       "    <tr>\n",
       "      <th>3</th>\n",
       "      <td>Град Београд</td>\n",
       "    </tr>\n",
       "    <tr>\n",
       "      <th>4</th>\n",
       "      <td>Град Београд</td>\n",
       "    </tr>\n",
       "    <tr>\n",
       "      <th>...</th>\n",
       "      <td>...</td>\n",
       "    </tr>\n",
       "    <tr>\n",
       "      <th>1418</th>\n",
       "      <td>Рашки управни округ</td>\n",
       "    </tr>\n",
       "    <tr>\n",
       "      <th>1419</th>\n",
       "      <td>Рашки управни округ</td>\n",
       "    </tr>\n",
       "    <tr>\n",
       "      <th>1420</th>\n",
       "      <td>Рашки управни округ</td>\n",
       "    </tr>\n",
       "    <tr>\n",
       "      <th>1421</th>\n",
       "      <td>Рашки управни округ</td>\n",
       "    </tr>\n",
       "    <tr>\n",
       "      <th>1422</th>\n",
       "      <td>Рашки управни округ</td>\n",
       "    </tr>\n",
       "  </tbody>\n",
       "</table>\n",
       "<p>1423 rows × 1 columns</p>\n",
       "</div>"
      ],
      "text/plain": [
       "                    Okrug\n",
       "0            Град Београд\n",
       "1            Град Београд\n",
       "2            Град Београд\n",
       "3            Град Београд\n",
       "4            Град Београд\n",
       "...                   ...\n",
       "1418  Рашки управни округ\n",
       "1419  Рашки управни округ\n",
       "1420  Рашки управни округ\n",
       "1421  Рашки управни округ\n",
       "1422  Рашки управни округ\n",
       "\n",
       "[1423 rows x 1 columns]"
      ]
     },
     "execution_count": 11,
     "metadata": {},
     "output_type": "execute_result"
    }
   ],
   "source": [
    "skole[[\"Okrug\"]]"
   ]
  },
  {
   "cell_type": "code",
   "execution_count": null,
   "metadata": {},
   "outputs": [],
   "source": []
  }
 ],
 "metadata": {
  "kernelspec": {
   "display_name": "Python 3",
   "language": "python",
   "name": "python3"
  },
  "language_info": {
   "codemirror_mode": {
    "name": "ipython",
    "version": 3
   },
   "file_extension": ".py",
   "mimetype": "text/x-python",
   "name": "python",
   "nbconvert_exporter": "python",
   "pygments_lexer": "ipython3",
   "version": "3.6.8"
  }
 },
 "nbformat": 4,
 "nbformat_minor": 4
}
