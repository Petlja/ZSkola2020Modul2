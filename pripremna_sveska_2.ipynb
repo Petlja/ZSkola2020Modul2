{
 "cells": [
  {
   "cell_type": "markdown",
   "metadata": {},
   "source": [
    "## Programski jezik Python \n",
    "### i rad sa tabelarno predstavljenim podacima i biblioteka Pandas"
   ]
  },
  {
   "cell_type": "markdown",
   "metadata": {},
   "source": [
    "Pre samog predavanja ovde možeš naučiti:\n",
    "* Kako se učitava .csv fajl\n",
    "* Kako prikazati tabelu\n",
    "* Kako pročitati dimenziju tabele\n",
    "* Kako prikazati početak tabele\n",
    "* Kako prikazati kraj tabele\n",
    "* Kako izdvojiti kolonu (cela, deo)\n",
    "* Kako izdvojiti vrstu \n",
    "* Kako izdvojiti jednu ćeliju\n",
    "* Šta je to iteracija?\n",
    "* Sumiranje\n",
    "* Kako da napišeš funkciju\n",
    "* Šta je grananje\n",
    "* Kako da filtriramo?\n",
    "* Kako grupisati?\n",
    "* Kako vizuelno predstaviti podatke.\n"
   ]
  },
  {
   "cell_type": "markdown",
   "metadata": {},
   "source": [
    "### Učitavanje i prikaz"
   ]
  },
  {
   "cell_type": "markdown",
   "metadata": {},
   "source": [
    "Kako u pozadini izgleda jedan .csv fajl?\n",
    "\n",
    "Ne baš pregledno!"
   ]
  },
  {
   "cell_type": "markdown",
   "metadata": {},
   "source": [
    "<img src = \"csv.jpg\">"
   ]
  },
  {
   "cell_type": "markdown",
   "metadata": {},
   "source": [
    "Kako da od ovoga, dođemo do tabele koja je preglednija?"
   ]
  },
  {
   "cell_type": "markdown",
   "metadata": {},
   "source": [
    "<img src = \"tabela.png\" class=\"mr-2 header-search-key-slash\">"
   ]
  },
  {
   "cell_type": "markdown",
   "metadata": {},
   "source": [
    "Programski jezik Python ima biblioteku Pandas koja će nam pomoći u radu sa podacima koji su tabelarno organizovani. "
   ]
  },
  {
   "cell_type": "code",
   "execution_count": null,
   "metadata": {},
   "outputs": [],
   "source": [
    "import pandas as pd #učitavanje pandas biblioteke\n",
    "skole = pd.read_csv(\"skole.csv\") #učitavanje jednog .csv fajla\n",
    "#skole  #ispis tabele"
   ]
  },
  {
   "cell_type": "code",
   "execution_count": null,
   "metadata": {},
   "outputs": [],
   "source": [
    "#dimenzija tabele\n",
    "skole.shape"
   ]
  },
  {
   "cell_type": "markdown",
   "metadata": {},
   "source": [
    "Iz ovoga vidimo da tabela ima 1423 vrste i 74 kolone."
   ]
  },
  {
   "cell_type": "markdown",
   "metadata": {},
   "source": [
    "Ponekad će ti zatrebati informacija u vezi sa samim podacima koji se nalaze u tabeli. Detaljnije o ovome biće reči na predavanju, sada pokreni narednu ćeliju i vidi šta je rezultat izvršavanja naredbe skole.info(). "
   ]
  },
  {
   "cell_type": "code",
   "execution_count": null,
   "metadata": {},
   "outputs": [],
   "source": [
    "#skole.info()"
   ]
  },
  {
   "cell_type": "markdown",
   "metadata": {},
   "source": [
    "## Zavirimo u podatke!"
   ]
  },
  {
   "cell_type": "markdown",
   "metadata": {},
   "source": [
    "<img src = \"podaci.png\">"
   ]
  },
  {
   "cell_type": "markdown",
   "metadata": {},
   "source": [
    "### Čemu ovo služi?"
   ]
  },
  {
   "cell_type": "code",
   "execution_count": null,
   "metadata": {},
   "outputs": [],
   "source": [
    "#Izdvajamo imena kolona\n",
    "skole.columns"
   ]
  },
  {
   "cell_type": "code",
   "execution_count": null,
   "metadata": {},
   "outputs": [],
   "source": [
    "#Vrste\n",
    "skole.index"
   ]
  },
  {
   "cell_type": "markdown",
   "metadata": {},
   "source": [
    "Sada već znamo malo više, možemo da se krećemo kroz tabelu pomoću kolona i vrsta! Često ćeš biti u situaciji da saznaš nešto više o jednoj (ili nekoliko) koloni ili vrsti. Dobar način da krenemo u istraživanje podataka je da znamo da izdvojimo kolonu ili kolone, vrstu ili više vrsta."
   ]
  },
  {
   "cell_type": "markdown",
   "metadata": {},
   "source": [
    "### Izdvajanje kolone"
   ]
  },
  {
   "cell_type": "code",
   "execution_count": null,
   "metadata": {},
   "outputs": [],
   "source": [
    "#Izdvaja se kolona koja se zove \"Okrug\"\n",
    "skole[\"Okrug\"]"
   ]
  },
  {
   "cell_type": "code",
   "execution_count": null,
   "metadata": {},
   "outputs": [],
   "source": [
    "#Šta se dobija pozivanjem naredbe:\n",
    "skole[\"Okrug\"].size\n",
    "#Da li smo se već sreli sa nečim sličnim?"
   ]
  },
  {
   "cell_type": "markdown",
   "metadata": {},
   "source": [
    "Šta ako ne želim da ispišem sve kolone?"
   ]
  },
  {
   "cell_type": "markdown",
   "metadata": {},
   "source": [
    "### Ispis prvih 10 elemenata kolone"
   ]
  },
  {
   "cell_type": "code",
   "execution_count": null,
   "metadata": {},
   "outputs": [],
   "source": [
    "skole[\"Okrug\"].head(10)"
   ]
  },
  {
   "cell_type": "markdown",
   "metadata": {},
   "source": [
    "### Ispis jednog elementa kolone"
   ]
  },
  {
   "cell_type": "code",
   "execution_count": null,
   "metadata": {},
   "outputs": [],
   "source": [
    "skole[\"Okrug\"][0] #ispisuje se prvi element iz kolone"
   ]
  },
  {
   "cell_type": "raw",
   "metadata": {},
   "source": [
    "Kolona se sastoji iz više elemenata, kao što smo videli primenom funkcije .count(), ova kolona ima 1423 elementa. Da li možemo da vidimo prvih 10 elemenata kolone skole[\"Broj ucenika - prvi razred\"]?"
   ]
  },
  {
   "cell_type": "code",
   "execution_count": null,
   "metadata": {},
   "outputs": [],
   "source": [
    "skole.columns"
   ]
  },
  {
   "cell_type": "markdown",
   "metadata": {},
   "source": [
    "### Izdvajanje vrste"
   ]
  },
  {
   "cell_type": "code",
   "execution_count": null,
   "metadata": {},
   "outputs": [],
   "source": [
    "skole.loc[0] #izdvajamo 1. vrstu"
   ]
  },
  {
   "cell_type": "code",
   "execution_count": null,
   "metadata": {},
   "outputs": [],
   "source": [
    "skole.loc[9] #izdvajamo 10. vrstu"
   ]
  },
  {
   "cell_type": "code",
   "execution_count": null,
   "metadata": {},
   "outputs": [],
   "source": [
    "skole.loc[9][5] #još jedan način da pristupimo jednoj konkretnoj ćeliji."
   ]
  },
  {
   "cell_type": "markdown",
   "metadata": {},
   "source": [
    "Sečenje (slicing) ili kako izdvojiti više od jedne vrste i kolone - detaljnije na predavanju!"
   ]
  },
  {
   "cell_type": "markdown",
   "metadata": {},
   "source": [
    "### Gde počinje Python?"
   ]
  },
  {
   "cell_type": "markdown",
   "metadata": {},
   "source": [
    "<img src=\"logo.png\">"
   ]
  },
  {
   "cell_type": "code",
   "execution_count": null,
   "metadata": {},
   "outputs": [],
   "source": []
  },
  {
   "cell_type": "markdown",
   "metadata": {},
   "source": [
    "Zamisli sledeću situaciju. Imaš određenu sumu novca u evrima (novac_evr1 = 120) i želiš da znaš koliko ta suma iznosi u dinarima. \n",
    "Prvo što te zanima je koliki je kurs evra u tom trenutku. \n",
    "\n",
    "\n",
    "Neka je kurs = 117.2567. Kolika je ova suma novca u dinarima izračunaćeš kada novac_evr pomnožimo sa kursom.\n",
    "\n",
    "\n",
    "Vrednost novca u dinarima je:\n",
    "    \n",
    "    novac_evr * kurs"
   ]
  },
  {
   "cell_type": "code",
   "execution_count": null,
   "metadata": {},
   "outputs": [],
   "source": [
    "Zamislimo dalje situaciju, u toku dana bi trebalo još neke novčane sume u evrima da preračunaš u dinare. Kako?"
   ]
  },
  {
   "cell_type": "code",
   "execution_count": null,
   "metadata": {},
   "outputs": [],
   "source": [
    "kurs = 117.2567\n",
    "novac_evr1 = 120\n",
    "novac_din1 = novac_evr1 * kurs"
   ]
  },
  {
   "cell_type": "markdown",
   "metadata": {},
   "source": [
    "Računamo sledeću sumu:"
   ]
  },
  {
   "cell_type": "code",
   "execution_count": null,
   "metadata": {},
   "outputs": [],
   "source": [
    "novac_evr2 = 420\n",
    "novac_din2 = novac_evr2 * kurs"
   ]
  },
  {
   "cell_type": "code",
   "execution_count": null,
   "metadata": {},
   "outputs": [],
   "source": [
    "novac_evr3 = 600\n",
    "novac_din3 = novac_evr3 * kurs"
   ]
  },
  {
   "cell_type": "markdown",
   "metadata": {},
   "source": [
    "..."
   ]
  },
  {
   "cell_type": "code",
   "execution_count": null,
   "metadata": {},
   "outputs": [],
   "source": [
    "novac_evr6 = 200\n",
    "novac_din6 = novac_evr6 * kurs"
   ]
  },
  {
   "cell_type": "markdown",
   "metadata": {},
   "source": [
    "### Petlja for i šta sa njom?"
   ]
  },
  {
   "cell_type": "markdown",
   "metadata": {},
   "source": [
    "Koncept petlje je fundamentalan u programiranju, detaljnije će biti reči tokom predavanja. Sada samo kratka demonstracija \n",
    "primene na prethodni zadatak."
   ]
  },
  {
   "cell_type": "code",
   "execution_count": null,
   "metadata": {},
   "outputs": [],
   "source": [
    "kurs = 117.2567\n",
    "# menjaj vrednost cena_eur pa variraj\n",
    "cena_eur = 350\n",
    "cena_eur * kurs"
   ]
  },
  {
   "cell_type": "code",
   "execution_count": null,
   "metadata": {},
   "outputs": [],
   "source": [
    "for cena_eur in [120, 420, 600, 150, 300, 200]:\n",
    "    print(cena_eur, cena_eur * kurs)"
   ]
  },
  {
   "cell_type": "markdown",
   "metadata": {},
   "source": [
    "Standardan oblik petlje for možeš videti u narednom primeru. Pokreni narednu ćeliju."
   ]
  },
  {
   "cell_type": "code",
   "execution_count": null,
   "metadata": {},
   "outputs": [],
   "source": [
    "for i in range(10):\n",
    "    print(\"Zdravo, svete!\")"
   ]
  },
  {
   "cell_type": "markdown",
   "metadata": {},
   "source": [
    "Napiši skript koji ispisuje cifre od 0 do 9."
   ]
  },
  {
   "cell_type": "code",
   "execution_count": null,
   "metadata": {},
   "outputs": [],
   "source": []
  },
  {
   "cell_type": "code",
   "execution_count": null,
   "metadata": {},
   "outputs": [],
   "source": [
    "#skole[\"Broj ucenika - prvi razred\"][0]\n",
    "#skole[\"Broj ucenika - prvi razred\"][1]\n",
    "#skole[\"Broj ucenika - prvi razred\"][2]\n",
    "#....\n",
    "#skole[\"Broj ucenika - prvi razred\"][9]\n",
    "for i in skole.index[:100]:\n",
    "    print(skole.loc[i,\"Broj ucenika - prvi razred\"])"
   ]
  },
  {
   "cell_type": "code",
   "execution_count": null,
   "metadata": {},
   "outputs": [],
   "source": [
    "skole[\"Okrug\"].tail(10) #ispis poslednjih 10 elemenata kolone \"Okrug\""
   ]
  },
  {
   "cell_type": "markdown",
   "metadata": {},
   "source": [
    "Ovo možemo ispisati i pomoću petlje."
   ]
  },
  {
   "cell_type": "code",
   "execution_count": null,
   "metadata": {},
   "outputs": [],
   "source": [
    "for i in range(skole[\"Okrug\"].count()-10, skole[\"Okrug\"].count()):\n",
    "     print(skole[\"Okrug\"][i])"
   ]
  },
  {
   "cell_type": "code",
   "execution_count": null,
   "metadata": {},
   "outputs": [],
   "source": [
    "#još jedan način da prođemo kroz elemente vrste\n",
    "for i in skole.columns:\n",
    "    print(skole.loc[9][i])"
   ]
  },
  {
   "cell_type": "markdown",
   "metadata": {},
   "source": [
    "### Možemo li bez petlje?"
   ]
  },
  {
   "cell_type": "code",
   "execution_count": null,
   "metadata": {},
   "outputs": [],
   "source": [
    "Biblioteka pandas nudi različite mogućnosti. "
   ]
  },
  {
   "cell_type": "code",
   "execution_count": null,
   "metadata": {},
   "outputs": [],
   "source": [
    "Napisati skript koji u tabeli skole umeće novu kolonu \"Broj ucenika 1-4\" u kojoj se nalazi \n",
    "ukupan broj učenika od 1. do 4. razreda za svaku školu.  "
   ]
  },
  {
   "cell_type": "code",
   "execution_count": null,
   "metadata": {},
   "outputs": [],
   "source": [
    "Skript možemo napisati pomoću petlje for:"
   ]
  },
  {
   "cell_type": "code",
   "execution_count": null,
   "metadata": {},
   "outputs": [],
   "source": [
    "skole.columns"
   ]
  },
  {
   "cell_type": "code",
   "execution_count": null,
   "metadata": {},
   "outputs": [],
   "source": [
    "%%timeit\n",
    "skole[\"Broj ucenika 1-4\"] = 0\n",
    "for i in range(len(skole)):\n",
    "    skole.loc[i, \"Broj ucenika 1-4\"] = skole[\"Broj ucenika - prvi razred\"][i] + skole[\"Broj ucenika - drugi razred\"][i] + skole[\"Broj ucenika - treći razred\"][i] + skole[\"Broj ucenika - cetvrti razred\"][i]\n",
    "skole.head()"
   ]
  },
  {
   "cell_type": "code",
   "execution_count": null,
   "metadata": {},
   "outputs": [],
   "source": [
    "%%timeit\n",
    "skole[\"Broj ucenika 1-4\"] = skole[\"Broj ucenika - prvi razred\"] + skole[\"Broj ucenika - drugi razred\"] + skole[\"Broj ucenika - treći razred\"] + skole[\"Broj ucenika - cetvrti razred\"]\n",
    "skole.head()\n"
   ]
  },
  {
   "cell_type": "code",
   "execution_count": null,
   "metadata": {},
   "outputs": [],
   "source": [
    "#skole.columns\n",
    "t = skole[skole[\"Okrug\"] == \"Град Београд\"]"
   ]
  },
  {
   "cell_type": "markdown",
   "metadata": {},
   "source": [
    "### Sumiranje"
   ]
  },
  {
   "cell_type": "code",
   "execution_count": null,
   "metadata": {},
   "outputs": [],
   "source": [
    "skole.sum()"
   ]
  },
  {
   "cell_type": "code",
   "execution_count": null,
   "metadata": {},
   "outputs": [],
   "source": [
    "tabela = pd.read_csv(\"podaci.csv\")\n",
    "tabela[\"Broj devojčica\"].sum()"
   ]
  },
  {
   "cell_type": "code",
   "execution_count": null,
   "metadata": {},
   "outputs": [],
   "source": [
    "s = 0\n",
    "for broj in tabela[\"Broj devojčica\"]:\n",
    "    s = s + broj\n",
    "print(s)"
   ]
  },
  {
   "cell_type": "code",
   "execution_count": null,
   "metadata": {},
   "outputs": [],
   "source": [
    "tabela[\"Broj devojčica\"].max()"
   ]
  },
  {
   "cell_type": "code",
   "execution_count": null,
   "metadata": {},
   "outputs": [],
   "source": [
    "#tabela[tabela[\"Broj devojčica\"]==tabela[\"Broj devojčica\"].max()][\"Okrug\"]"
   ]
  },
  {
   "cell_type": "code",
   "execution_count": null,
   "metadata": {},
   "outputs": [],
   "source": [
    "tabela[\"Broj učenika\"].mean()"
   ]
  },
  {
   "cell_type": "markdown",
   "metadata": {},
   "source": [
    "Koliki je prosečan broj učenika u odeljenju prvog razreda?"
   ]
  },
  {
   "cell_type": "code",
   "execution_count": null,
   "metadata": {},
   "outputs": [],
   "source": [
    "#skole.columns\n",
    "broj_ucenika = skole[\"Broj ucenika - prvi razred\"].sum() #ukupan broj učenika prvog razreda\n",
    "broj_ucenika"
   ]
  },
  {
   "cell_type": "code",
   "execution_count": null,
   "metadata": {},
   "outputs": [],
   "source": [
    "broj_odeljenja = skole[\"Broj odeljenja - prvi razred\"].sum()\n",
    "broj_odeljenja"
   ]
  },
  {
   "cell_type": "code",
   "execution_count": null,
   "metadata": {},
   "outputs": [],
   "source": [
    "po_odeljenju = round(broj_ucenika / broj_odeljenja) #round() funkcija kojom zaokružujemo broj\n",
    "po_odeljenju"
   ]
  },
  {
   "cell_type": "markdown",
   "metadata": {},
   "source": [
    "Koliki je prosečan broj učenika u odeljenju osmog razreda?"
   ]
  },
  {
   "cell_type": "code",
   "execution_count": null,
   "metadata": {},
   "outputs": [],
   "source": [
    "broj_ucenika_8 = skole[\"Broj ucenika - osmi razred\"].sum() #ukupan broj učenika prvog razreda\n",
    "broj_ucenika_8"
   ]
  },
  {
   "cell_type": "code",
   "execution_count": null,
   "metadata": {},
   "outputs": [],
   "source": [
    "broj_odeljenja_8 = skole[\"Broj odeljenja - osmi razred\"].sum()\n",
    "broj_odeljenja_8"
   ]
  },
  {
   "cell_type": "code",
   "execution_count": null,
   "metadata": {},
   "outputs": [],
   "source": [
    "po_odeljenju_8 = round(broj_ucenika_8 / broj_odeljenja_8) #round() funkcija kojom zaokružujemo broj\n",
    "po_odeljenju_8"
   ]
  },
  {
   "cell_type": "markdown",
   "metadata": {},
   "source": [
    "Šta ukoliko želimo da izračunamo za svaki razred prosečan broj učenika?"
   ]
  },
  {
   "cell_type": "markdown",
   "metadata": {},
   "source": [
    "### Kako definisati funkciju?"
   ]
  },
  {
   "cell_type": "markdown",
   "metadata": {},
   "source": [
    "Ukoliko želimo da izračunamo broj učenika po odeljenju za sve razrede \n",
    "(osnovna i srednja škola), morali bi da kopiramo veliki broj puta, što nije rešenje! "
   ]
  },
  {
   "cell_type": "code",
   "execution_count": null,
   "metadata": {},
   "outputs": [],
   "source": [
    "def prosek (ucenici, odeljenja):\n",
    "    return round(ucenici.sum()/odeljenja.sum())"
   ]
  },
  {
   "cell_type": "code",
   "execution_count": null,
   "metadata": {},
   "outputs": [],
   "source": [
    "x = prosek(skole[\"Broj ucenika - osmi razred\"],skole[\"Broj odeljenja - osmi razred\"])\n",
    "print(x)"
   ]
  },
  {
   "cell_type": "markdown",
   "metadata": {},
   "source": [
    "Napisati funkciju kojom se izračunava procenat učenika koji radi po IOP3 programu u okviru jednog \n",
    "razreda na nivou svih okruga."
   ]
  },
  {
   "cell_type": "code",
   "execution_count": null,
   "metadata": {},
   "outputs": [],
   "source": [
    "def ime():\n",
    "    ....."
   ]
  },
  {
   "cell_type": "markdown",
   "metadata": {},
   "source": [
    "### Filtriranje"
   ]
  },
  {
   "cell_type": "code",
   "execution_count": null,
   "metadata": {},
   "outputs": [],
   "source": [
    "tabela[tabela[\"Broj devojčica\"] > 10000][\"Okrug\"]"
   ]
  },
  {
   "cell_type": "code",
   "execution_count": null,
   "metadata": {},
   "outputs": [],
   "source": [
    "for i in range(tabela[\"Broj devojčica\"].count()):\n",
    "    if tabela[\"Broj devojčica\"][i] > 10000:\n",
    "        print(tabela[\"Okrug\"][i])\n",
    "        "
   ]
  },
  {
   "cell_type": "code",
   "execution_count": null,
   "metadata": {},
   "outputs": [],
   "source": [
    "len(tabela[tabela[\"Broj odeljenja\"] < 50])"
   ]
  },
  {
   "cell_type": "code",
   "execution_count": null,
   "metadata": {},
   "outputs": [],
   "source": [
    "devojcice_5000 = tabela[tabela[\"Broj devojčica\"] > 5000]\n",
    "devojcice_5000[\"Broj učenika\"].sum()"
   ]
  },
  {
   "cell_type": "code",
   "execution_count": null,
   "metadata": {},
   "outputs": [],
   "source": [
    "tabela[tabela[\"Broj devojčica\"] > 5000][\"Broj učenika\"].sum()"
   ]
  },
  {
   "cell_type": "markdown",
   "metadata": {},
   "source": [
    "### Grupisanje"
   ]
  },
  {
   "cell_type": "code",
   "execution_count": null,
   "metadata": {},
   "outputs": [],
   "source": [
    "skole"
   ]
  },
  {
   "cell_type": "code",
   "execution_count": null,
   "metadata": {},
   "outputs": [],
   "source": [
    "skole.groupby(\"Округ\")[\"Број девојчица - први разред\"].sum()"
   ]
  },
  {
   "cell_type": "code",
   "execution_count": null,
   "metadata": {},
   "outputs": [],
   "source": [
    "t = skole.groupby(\"Okrug\")[[\"Broj ucenika - prvi razred\", \"Broj ucenika - drugi razred\"]].sum()"
   ]
  },
  {
   "cell_type": "code",
   "execution_count": null,
   "metadata": {},
   "outputs": [],
   "source": [
    "t"
   ]
  },
  {
   "cell_type": "code",
   "execution_count": null,
   "metadata": {},
   "outputs": [],
   "source": [
    "t.loc[\"Јужнобанатски управни округ\",\"Broj ucenika - prvi razred\"]"
   ]
  },
  {
   "cell_type": "code",
   "execution_count": null,
   "metadata": {},
   "outputs": [],
   "source": [
    "t.iloc[1,0]"
   ]
  },
  {
   "cell_type": "code",
   "execution_count": null,
   "metadata": {},
   "outputs": [],
   "source": [
    "t.loc[\"Јужнобанатски управни округ\":\"Златиборски управни округ\"]"
   ]
  },
  {
   "cell_type": "code",
   "execution_count": null,
   "metadata": {},
   "outputs": [],
   "source": [
    "t.loc[:,\"Broj ucenika - prvi razred\":\"Broj ucenika - drugi razred\"]"
   ]
  },
  {
   "cell_type": "code",
   "execution_count": null,
   "metadata": {},
   "outputs": [],
   "source": [
    "skole.iloc[::100,:10]"
   ]
  },
  {
   "cell_type": "code",
   "execution_count": null,
   "metadata": {},
   "outputs": [],
   "source": [
    "tabela.sort_values(\"Broj odeljenja\", ascending=False).head()"
   ]
  },
  {
   "cell_type": "code",
   "execution_count": null,
   "metadata": {},
   "outputs": [],
   "source": [
    "skole.groupby(\"Okrug\")[\"Broj devojcica - prvi razred\"].sum().sort_values(ascending = False).head(10)\n"
   ]
  },
  {
   "cell_type": "markdown",
   "metadata": {},
   "source": [
    "### Vizuelno predstavljanje podataka"
   ]
  },
  {
   "cell_type": "markdown",
   "metadata": {},
   "source": [
    "Biblioteka matplotlib.pyplot."
   ]
  },
  {
   "cell_type": "code",
   "execution_count": null,
   "metadata": {},
   "outputs": [],
   "source": [
    "import matplotlib.pyplot as plt\n",
    "t = skole.groupby(\"Okrug\")[\"Број девојчица - први разред\"].sum().sort_values(ascending = False).head(10)\n",
    "for i in range(1,4+1):\n",
    "    plt.subplot(4, 1, i)\n",
    "    plt.barh(t.index, t)\n",
    "\n",
    "plt.show()"
   ]
  }
 ],
 "metadata": {
  "kernelspec": {
   "display_name": "Python 3",
   "language": "python",
   "name": "python3"
  },
  "language_info": {
   "codemirror_mode": {
    "name": "ipython",
    "version": 3
   },
   "file_extension": ".py",
   "mimetype": "text/x-python",
   "name": "python",
   "nbconvert_exporter": "python",
   "pygments_lexer": "ipython3",
   "version": "3.6.8"
  }
 },
 "nbformat": 4,
 "nbformat_minor": 4
}
