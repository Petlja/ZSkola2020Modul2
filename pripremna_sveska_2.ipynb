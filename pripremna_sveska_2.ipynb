{
 "cells": [
  {
   "cell_type": "markdown",
   "metadata": {},
   "source": [
    "## Programski jezik Python \n",
    "### i rad sa tabelarno predstavljenim podacima i biblioteka Pandas"
   ]
  },
  {
   "cell_type": "markdown",
   "metadata": {},
   "source": [
    "U okviru ove radne sveske naučićeš u radu nad podacima osnovne koncepte petlji, grananja i samostalnog pisanja funkcija. Takođe, ovladaćeš nekim jednostavnim funkcijama Pajtonove biblioteke Pandas. "
   ]
  },
  {
   "cell_type": "markdown",
   "metadata": {},
   "source": [
    "### Učitavanje i prikaz"
   ]
  },
  {
   "cell_type": "markdown",
   "metadata": {},
   "source": [
    "Kako u pozadini izgleda jedan .csv fajl?\n",
    "\n",
    "Ne baš pregledno!"
   ]
  },
  {
   "cell_type": "markdown",
   "metadata": {},
   "source": [
    "<img src=\"c.jpg\">"
   ]
  },
  {
   "cell_type": "markdown",
   "metadata": {},
   "source": [
    "Kako da od ovoga, dođemo do tabele koja je preglednija?"
   ]
  },
  {
   "cell_type": "markdown",
   "metadata": {},
   "source": [
    "<img src=\"t.png\">"
   ]
  },
  {
   "cell_type": "markdown",
   "metadata": {},
   "source": [
    "Programski jezik Python ima biblioteku ``Pandas`` koja će nam pomoći u radu sa podacima koji su tabelarno organizovani. "
   ]
  },
  {
   "cell_type": "code",
   "execution_count": 3,
   "metadata": {},
   "outputs": [],
   "source": [
    "import pandas as pd #učitavanje pandas biblioteke\n",
    "skole = pd.read_csv(\"skole.csv\") #učitavanje jednog .csv fajla\n",
    "#skole  #ispis tabele"
   ]
  },
  {
   "cell_type": "code",
   "execution_count": null,
   "metadata": {},
   "outputs": [],
   "source": [
    "#dimenzija tabele\n",
    "skole.shape"
   ]
  },
  {
   "cell_type": "markdown",
   "metadata": {},
   "source": [
    "Iz ovoga vidimo da tabela ima 1423 vrste i 74 kolone."
   ]
  },
  {
   "cell_type": "markdown",
   "metadata": {},
   "source": [
    "Ponekad će ti zatrebati informacija u vezi sa samim podacima koji se nalaze u tabeli. Detaljnije o ovome biće reči na predavanju, sada pokreni narednu ćeliju i vidi šta je rezultat izvršavanja naredbe ``skole.info()``. "
   ]
  },
  {
   "cell_type": "code",
   "execution_count": null,
   "metadata": {},
   "outputs": [],
   "source": [
    "#skole.info()"
   ]
  },
  {
   "cell_type": "markdown",
   "metadata": {},
   "source": [
    "## Zavirimo u podatke!"
   ]
  },
  {
   "cell_type": "markdown",
   "metadata": {},
   "source": [
    "<img src=\"podaci.png\">"
   ]
  },
  {
   "cell_type": "markdown",
   "metadata": {},
   "source": [
    "### Čemu ovo služi?"
   ]
  },
  {
   "cell_type": "code",
   "execution_count": null,
   "metadata": {},
   "outputs": [],
   "source": [
    "#Izdvajamo imena kolona\n",
    "skole.columns"
   ]
  },
  {
   "cell_type": "code",
   "execution_count": null,
   "metadata": {},
   "outputs": [],
   "source": [
    "#Vrste\n",
    "skole.index"
   ]
  },
  {
   "cell_type": "markdown",
   "metadata": {},
   "source": [
    "Sada već znamo malo više, možemo da se krećemo kroz tabelu pomoću kolona i vrsta! Često ćeš biti u situaciji da saznaš nešto više o jednoj (ili nekoliko) koloni ili vrsti. Dobar način da krenemo u istraživanje podataka je da znamo da izdvojimo kolonu ili kolone, vrstu ili više vrsta."
   ]
  },
  {
   "cell_type": "markdown",
   "metadata": {},
   "source": [
    "### Izdvajanje kolona i vrsta"
   ]
  },
  {
   "cell_type": "code",
   "execution_count": null,
   "metadata": {},
   "outputs": [],
   "source": [
    "#Izdvaja se kolona koja se zove \"Okrug\"\n",
    "skole[\"Okrug\"]"
   ]
  },
  {
   "cell_type": "code",
   "execution_count": null,
   "metadata": {},
   "outputs": [],
   "source": [
    "#Šta se dobija pozivanjem naredbe:\n",
    "skole[\"Okrug\"].size\n",
    "#Da li smo se već sreli sa nečim sličnim?"
   ]
  },
  {
   "cell_type": "markdown",
   "metadata": {},
   "source": [
    "Šta ako ne želim da ispišem sve kolone, već samo prvih nekoliko. ``tabela.head(n)``"
   ]
  },
  {
   "cell_type": "code",
   "execution_count": null,
   "metadata": {},
   "outputs": [],
   "source": [
    "skole[\"Okrug\"].head(10)"
   ]
  },
  {
   "cell_type": "code",
   "execution_count": 6,
   "metadata": {},
   "outputs": [
    {
     "data": {
      "text/html": [
       "<div>\n",
       "<style scoped>\n",
       "    .dataframe tbody tr th:only-of-type {\n",
       "        vertical-align: middle;\n",
       "    }\n",
       "\n",
       "    .dataframe tbody tr th {\n",
       "        vertical-align: top;\n",
       "    }\n",
       "\n",
       "    .dataframe thead th {\n",
       "        text-align: right;\n",
       "    }\n",
       "</style>\n",
       "<table border=\"1\" class=\"dataframe\">\n",
       "  <thead>\n",
       "    <tr style=\"text-align: right;\">\n",
       "      <th></th>\n",
       "      <th>#</th>\n",
       "      <th>ИД установе</th>\n",
       "      <th>Власништво</th>\n",
       "      <th>Округ</th>\n",
       "      <th>Општина</th>\n",
       "      <th>Назив установе</th>\n",
       "      <th>Подручје рада</th>\n",
       "      <th>Образовни профил</th>\n",
       "      <th>Трајање образовања</th>\n",
       "      <th>Језик наставе</th>\n",
       "      <th>...</th>\n",
       "      <th>Број ИОП-а 2 - седми разред</th>\n",
       "      <th>Број ИОП-а 3 - седми разред</th>\n",
       "      <th>Број одељења - осми разред</th>\n",
       "      <th>Број комбинованих одељења - осми разред</th>\n",
       "      <th>Број специјалних одељења - осми разред</th>\n",
       "      <th>Број ученика - осми разред</th>\n",
       "      <th>Број девојчица - осми разред</th>\n",
       "      <th>Број ИОП-а 1 - осми разред</th>\n",
       "      <th>Број ИОП-а 2 - осми разред</th>\n",
       "      <th>Број ИОП-а 3 - осми разред</th>\n",
       "    </tr>\n",
       "  </thead>\n",
       "  <tbody>\n",
       "    <tr>\n",
       "      <th>0</th>\n",
       "      <td>1.0</td>\n",
       "      <td>1</td>\n",
       "      <td>Државно</td>\n",
       "      <td>Град Београд</td>\n",
       "      <td>Београд - Барајево</td>\n",
       "      <td>Павле Поповић</td>\n",
       "      <td>Основно редовно образовање</td>\n",
       "      <td>Основно образовање</td>\n",
       "      <td>8</td>\n",
       "      <td>Српски језик</td>\n",
       "      <td>...</td>\n",
       "      <td>2</td>\n",
       "      <td>2</td>\n",
       "      <td>3</td>\n",
       "      <td>0</td>\n",
       "      <td>0</td>\n",
       "      <td>59</td>\n",
       "      <td>31</td>\n",
       "      <td>2</td>\n",
       "      <td>1</td>\n",
       "      <td>0</td>\n",
       "    </tr>\n",
       "    <tr>\n",
       "      <th>1</th>\n",
       "      <td>2.0</td>\n",
       "      <td>2</td>\n",
       "      <td>Државно</td>\n",
       "      <td>Град Београд</td>\n",
       "      <td>Београд - Барајево</td>\n",
       "      <td>Кнез Сима Марковић</td>\n",
       "      <td>Основно редовно образовање</td>\n",
       "      <td>Основно образовање</td>\n",
       "      <td>8</td>\n",
       "      <td>Српски језик</td>\n",
       "      <td>...</td>\n",
       "      <td>0</td>\n",
       "      <td>0</td>\n",
       "      <td>8</td>\n",
       "      <td>0</td>\n",
       "      <td>0</td>\n",
       "      <td>170</td>\n",
       "      <td>92</td>\n",
       "      <td>6</td>\n",
       "      <td>0</td>\n",
       "      <td>0</td>\n",
       "    </tr>\n",
       "    <tr>\n",
       "      <th>2</th>\n",
       "      <td>3.0</td>\n",
       "      <td>3</td>\n",
       "      <td>Државно</td>\n",
       "      <td>Град Београд</td>\n",
       "      <td>Београд - Вождовац</td>\n",
       "      <td>Бора Станковић</td>\n",
       "      <td>Основно редовно образовање</td>\n",
       "      <td>Основно образовање</td>\n",
       "      <td>8</td>\n",
       "      <td>Српски језик</td>\n",
       "      <td>...</td>\n",
       "      <td>0</td>\n",
       "      <td>0</td>\n",
       "      <td>4</td>\n",
       "      <td>0</td>\n",
       "      <td>0</td>\n",
       "      <td>100</td>\n",
       "      <td>46</td>\n",
       "      <td>0</td>\n",
       "      <td>1</td>\n",
       "      <td>0</td>\n",
       "    </tr>\n",
       "    <tr>\n",
       "      <th>3</th>\n",
       "      <td>4.0</td>\n",
       "      <td>4</td>\n",
       "      <td>Државно</td>\n",
       "      <td>Град Београд</td>\n",
       "      <td>Београд - Вождовац</td>\n",
       "      <td>Змај Јова Јовановић</td>\n",
       "      <td>Основно редовно образовање</td>\n",
       "      <td>Основно образовање</td>\n",
       "      <td>8</td>\n",
       "      <td>Српски језик</td>\n",
       "      <td>...</td>\n",
       "      <td>0</td>\n",
       "      <td>0</td>\n",
       "      <td>6</td>\n",
       "      <td>1</td>\n",
       "      <td>1</td>\n",
       "      <td>108</td>\n",
       "      <td>42</td>\n",
       "      <td>2</td>\n",
       "      <td>2</td>\n",
       "      <td>0</td>\n",
       "    </tr>\n",
       "    <tr>\n",
       "      <th>4</th>\n",
       "      <td>5.0</td>\n",
       "      <td>5</td>\n",
       "      <td>Државно</td>\n",
       "      <td>Град Београд</td>\n",
       "      <td>Београд - Вождовац</td>\n",
       "      <td>Ђура Даничић</td>\n",
       "      <td>Основно редовно образовање</td>\n",
       "      <td>Основно образовање</td>\n",
       "      <td>8</td>\n",
       "      <td>Српски језик</td>\n",
       "      <td>...</td>\n",
       "      <td>0</td>\n",
       "      <td>0</td>\n",
       "      <td>3</td>\n",
       "      <td>0</td>\n",
       "      <td>0</td>\n",
       "      <td>74</td>\n",
       "      <td>36</td>\n",
       "      <td>1</td>\n",
       "      <td>2</td>\n",
       "      <td>0</td>\n",
       "    </tr>\n",
       "    <tr>\n",
       "      <th>...</th>\n",
       "      <td>...</td>\n",
       "      <td>...</td>\n",
       "      <td>...</td>\n",
       "      <td>...</td>\n",
       "      <td>...</td>\n",
       "      <td>...</td>\n",
       "      <td>...</td>\n",
       "      <td>...</td>\n",
       "      <td>...</td>\n",
       "      <td>...</td>\n",
       "      <td>...</td>\n",
       "      <td>...</td>\n",
       "      <td>...</td>\n",
       "      <td>...</td>\n",
       "      <td>...</td>\n",
       "      <td>...</td>\n",
       "      <td>...</td>\n",
       "      <td>...</td>\n",
       "      <td>...</td>\n",
       "      <td>...</td>\n",
       "      <td>...</td>\n",
       "    </tr>\n",
       "    <tr>\n",
       "      <th>1418</th>\n",
       "      <td>1419.0</td>\n",
       "      <td>1850</td>\n",
       "      <td>Државно</td>\n",
       "      <td>Рашки управни округ</td>\n",
       "      <td>Нови Пазар - град</td>\n",
       "      <td>ОШ Мур</td>\n",
       "      <td>Основно редовно образовање</td>\n",
       "      <td>Основно образовање</td>\n",
       "      <td>8</td>\n",
       "      <td>Босански језик</td>\n",
       "      <td>...</td>\n",
       "      <td>0</td>\n",
       "      <td>0</td>\n",
       "      <td>3</td>\n",
       "      <td>0</td>\n",
       "      <td>0</td>\n",
       "      <td>88</td>\n",
       "      <td>49</td>\n",
       "      <td>1</td>\n",
       "      <td>0</td>\n",
       "      <td>0</td>\n",
       "    </tr>\n",
       "    <tr>\n",
       "      <th>1419</th>\n",
       "      <td>1420.0</td>\n",
       "      <td>1850</td>\n",
       "      <td>Државно</td>\n",
       "      <td>Рашки управни округ</td>\n",
       "      <td>Нови Пазар - град</td>\n",
       "      <td>ОШ Мур</td>\n",
       "      <td>Основно редовно образовање</td>\n",
       "      <td>Основно образовање</td>\n",
       "      <td>8</td>\n",
       "      <td>Српски језик</td>\n",
       "      <td>...</td>\n",
       "      <td>0</td>\n",
       "      <td>0</td>\n",
       "      <td>0</td>\n",
       "      <td>0</td>\n",
       "      <td>0</td>\n",
       "      <td>0</td>\n",
       "      <td>0</td>\n",
       "      <td>0</td>\n",
       "      <td>0</td>\n",
       "      <td>0</td>\n",
       "    </tr>\n",
       "    <tr>\n",
       "      <th>1420</th>\n",
       "      <td>1421.0</td>\n",
       "      <td>1851</td>\n",
       "      <td>Државно</td>\n",
       "      <td>Рашки управни округ</td>\n",
       "      <td>Нови Пазар - град</td>\n",
       "      <td>Ћамил Сијарић</td>\n",
       "      <td>Основно редовно образовање</td>\n",
       "      <td>Основно образовање</td>\n",
       "      <td>8</td>\n",
       "      <td>Босански језик</td>\n",
       "      <td>...</td>\n",
       "      <td>0</td>\n",
       "      <td>0</td>\n",
       "      <td>2</td>\n",
       "      <td>0</td>\n",
       "      <td>0</td>\n",
       "      <td>41</td>\n",
       "      <td>22</td>\n",
       "      <td>0</td>\n",
       "      <td>0</td>\n",
       "      <td>0</td>\n",
       "    </tr>\n",
       "    <tr>\n",
       "      <th>1421</th>\n",
       "      <td>1422.0</td>\n",
       "      <td>1851</td>\n",
       "      <td>Државно</td>\n",
       "      <td>Рашки управни округ</td>\n",
       "      <td>Нови Пазар - град</td>\n",
       "      <td>Ћамил Сијарић</td>\n",
       "      <td>Основно редовно образовање</td>\n",
       "      <td>Основно образовање</td>\n",
       "      <td>8</td>\n",
       "      <td>Српски језик</td>\n",
       "      <td>...</td>\n",
       "      <td>0</td>\n",
       "      <td>0</td>\n",
       "      <td>3</td>\n",
       "      <td>0</td>\n",
       "      <td>0</td>\n",
       "      <td>70</td>\n",
       "      <td>39</td>\n",
       "      <td>0</td>\n",
       "      <td>0</td>\n",
       "      <td>0</td>\n",
       "    </tr>\n",
       "    <tr>\n",
       "      <th>1422</th>\n",
       "      <td>1423.0</td>\n",
       "      <td>1852</td>\n",
       "      <td>Државно</td>\n",
       "      <td>Рашки управни округ</td>\n",
       "      <td>Нови Пазар - град</td>\n",
       "      <td>Меша Селимовић</td>\n",
       "      <td>Основно редовно образовање</td>\n",
       "      <td>Основно образовање</td>\n",
       "      <td>8</td>\n",
       "      <td>Српски језик</td>\n",
       "      <td>...</td>\n",
       "      <td>0</td>\n",
       "      <td>0</td>\n",
       "      <td>3</td>\n",
       "      <td>0</td>\n",
       "      <td>0</td>\n",
       "      <td>79</td>\n",
       "      <td>32</td>\n",
       "      <td>0</td>\n",
       "      <td>0</td>\n",
       "      <td>0</td>\n",
       "    </tr>\n",
       "  </tbody>\n",
       "</table>\n",
       "<p>1423 rows × 74 columns</p>\n",
       "</div>"
      ],
      "text/plain": [
       "           #  ИД установе Власништво                Округ             Општина  \\\n",
       "0        1.0            1    Државно         Град Београд  Београд - Барајево   \n",
       "1        2.0            2    Државно         Град Београд  Београд - Барајево   \n",
       "2        3.0            3    Државно         Град Београд  Београд - Вождовац   \n",
       "3        4.0            4    Државно         Град Београд  Београд - Вождовац   \n",
       "4        5.0            5    Државно         Град Београд  Београд - Вождовац   \n",
       "...      ...          ...        ...                  ...                 ...   \n",
       "1418  1419.0         1850    Државно  Рашки управни округ   Нови Пазар - град   \n",
       "1419  1420.0         1850    Државно  Рашки управни округ   Нови Пазар - град   \n",
       "1420  1421.0         1851    Државно  Рашки управни округ   Нови Пазар - град   \n",
       "1421  1422.0         1851    Државно  Рашки управни округ   Нови Пазар - град   \n",
       "1422  1423.0         1852    Државно  Рашки управни округ   Нови Пазар - град   \n",
       "\n",
       "           Назив установе               Подручје рада    Образовни профил  \\\n",
       "0           Павле Поповић  Основно редовно образовање  Основно образовање   \n",
       "1      Кнез Сима Марковић  Основно редовно образовање  Основно образовање   \n",
       "2          Бора Станковић  Основно редовно образовање  Основно образовање   \n",
       "3     Змај Јова Јовановић  Основно редовно образовање  Основно образовање   \n",
       "4            Ђура Даничић  Основно редовно образовање  Основно образовање   \n",
       "...                   ...                         ...                 ...   \n",
       "1418               ОШ Мур  Основно редовно образовање  Основно образовање   \n",
       "1419               ОШ Мур  Основно редовно образовање  Основно образовање   \n",
       "1420        Ћамил Сијарић  Основно редовно образовање  Основно образовање   \n",
       "1421        Ћамил Сијарић  Основно редовно образовање  Основно образовање   \n",
       "1422       Меша Селимовић  Основно редовно образовање  Основно образовање   \n",
       "\n",
       "      Трајање образовања   Језик наставе  ...  Број ИОП-а 2 - седми разред  \\\n",
       "0                      8    Српски језик  ...                            2   \n",
       "1                      8    Српски језик  ...                            0   \n",
       "2                      8    Српски језик  ...                            0   \n",
       "3                      8    Српски језик  ...                            0   \n",
       "4                      8    Српски језик  ...                            0   \n",
       "...                  ...             ...  ...                          ...   \n",
       "1418                   8  Босански језик  ...                            0   \n",
       "1419                   8    Српски језик  ...                            0   \n",
       "1420                   8  Босански језик  ...                            0   \n",
       "1421                   8    Српски језик  ...                            0   \n",
       "1422                   8    Српски језик  ...                            0   \n",
       "\n",
       "      Број ИОП-а 3 - седми разред  Број одељења - осми разред  \\\n",
       "0                               2                           3   \n",
       "1                               0                           8   \n",
       "2                               0                           4   \n",
       "3                               0                           6   \n",
       "4                               0                           3   \n",
       "...                           ...                         ...   \n",
       "1418                            0                           3   \n",
       "1419                            0                           0   \n",
       "1420                            0                           2   \n",
       "1421                            0                           3   \n",
       "1422                            0                           3   \n",
       "\n",
       "      Број комбинованих одељења - осми разред  \\\n",
       "0                                           0   \n",
       "1                                           0   \n",
       "2                                           0   \n",
       "3                                           1   \n",
       "4                                           0   \n",
       "...                                       ...   \n",
       "1418                                        0   \n",
       "1419                                        0   \n",
       "1420                                        0   \n",
       "1421                                        0   \n",
       "1422                                        0   \n",
       "\n",
       "      Број специјалних одељења - осми разред  Број ученика - осми разред  \\\n",
       "0                                          0                          59   \n",
       "1                                          0                         170   \n",
       "2                                          0                         100   \n",
       "3                                          1                         108   \n",
       "4                                          0                          74   \n",
       "...                                      ...                         ...   \n",
       "1418                                       0                          88   \n",
       "1419                                       0                           0   \n",
       "1420                                       0                          41   \n",
       "1421                                       0                          70   \n",
       "1422                                       0                          79   \n",
       "\n",
       "      Број девојчица - осми разред  Број ИОП-а 1 - осми разред  \\\n",
       "0                               31                           2   \n",
       "1                               92                           6   \n",
       "2                               46                           0   \n",
       "3                               42                           2   \n",
       "4                               36                           1   \n",
       "...                            ...                         ...   \n",
       "1418                            49                           1   \n",
       "1419                             0                           0   \n",
       "1420                            22                           0   \n",
       "1421                            39                           0   \n",
       "1422                            32                           0   \n",
       "\n",
       "      Број ИОП-а 2 - осми разред  Број ИОП-а 3 - осми разред  \n",
       "0                              1                           0  \n",
       "1                              0                           0  \n",
       "2                              1                           0  \n",
       "3                              2                           0  \n",
       "4                              2                           0  \n",
       "...                          ...                         ...  \n",
       "1418                           0                           0  \n",
       "1419                           0                           0  \n",
       "1420                           0                           0  \n",
       "1421                           0                           0  \n",
       "1422                           0                           0  \n",
       "\n",
       "[1423 rows x 74 columns]"
      ]
     },
     "execution_count": 6,
     "metadata": {},
     "output_type": "execute_result"
    }
   ],
   "source": [
    "skole"
   ]
  },
  {
   "cell_type": "code",
   "execution_count": 11,
   "metadata": {},
   "outputs": [
    {
     "data": {
      "text/plain": [
       "1.0"
      ]
     },
     "execution_count": 11,
     "metadata": {},
     "output_type": "execute_result"
    }
   ],
   "source": [
    "skole.loc[0,\"#\"] #ispisuje se prvi element iz kolone"
   ]
  },
  {
   "cell_type": "markdown",
   "metadata": {},
   "source": [
    "Kolona se sastoji iz više elemenata, kao što smo videli primenom funkcije ``.count()``, ova kolona ima 1423 elementa. Da li možemo da vidimo prvih 10 elemenata kolone ``skole[\"Broj ucenika - prvi razred\"]``?"
   ]
  },
  {
   "cell_type": "code",
   "execution_count": null,
   "metadata": {},
   "outputs": [],
   "source": [
    "skole.columns"
   ]
  },
  {
   "cell_type": "code",
   "execution_count": null,
   "metadata": {},
   "outputs": [],
   "source": [
    "skole.loc[0] #izdvajamo 1. vrstu"
   ]
  },
  {
   "cell_type": "code",
   "execution_count": null,
   "metadata": {},
   "outputs": [],
   "source": [
    "skole.loc[9] #izdvajamo 10. vrstu"
   ]
  },
  {
   "cell_type": "code",
   "execution_count": null,
   "metadata": {},
   "outputs": [],
   "source": [
    "skole.iloc[9][5] #još jedan način da pristupimo jednoj konkretnoj ćeliji."
   ]
  },
  {
   "cell_type": "markdown",
   "metadata": {},
   "source": [
    "### Sečenje (slicing) ili kako izdvojiti više od jedne vrste i kolone - detaljnije na predavanju!"
   ]
  },
  {
   "cell_type": "markdown",
   "metadata": {},
   "source": [
    "### Gde počinje Python?"
   ]
  },
  {
   "cell_type": "markdown",
   "metadata": {},
   "source": [
    "<img src=\"logo.png\">"
   ]
  },
  {
   "cell_type": "code",
   "execution_count": null,
   "metadata": {},
   "outputs": [],
   "source": []
  },
  {
   "cell_type": "markdown",
   "metadata": {},
   "source": [
    "Imaš određenu sumu novca u evrima (``novac_evr1 = 120``) i želiš da znaš koliko ta suma iznosi u dinarima. Prvo što te zanima je koliki je kurs evra u tom trenutku. \n",
    "\n",
    "\n",
    "Neka je ``kurs = 117.2567``. Kolika je ova suma novca u dinarima izračunaćeš kada novac_evr pomnožimo sa kursom.\n",
    "\n",
    "\n",
    "Vrednost novca u dinarima je:\n",
    "    \n",
    "``novac_evr * kurs``"
   ]
  },
  {
   "cell_type": "code",
   "execution_count": null,
   "metadata": {},
   "outputs": [],
   "source": [
    "Zamislimo dalje situaciju, u toku dana bi trebalo još neke novčane sume u evrima da preračunaš u dinare. Kako?"
   ]
  },
  {
   "cell_type": "code",
   "execution_count": null,
   "metadata": {},
   "outputs": [],
   "source": [
    "kurs = 117.2567\n",
    "novac_evr1 = 120\n",
    "novac_din1 = novac_evr1 * kurs"
   ]
  },
  {
   "cell_type": "markdown",
   "metadata": {},
   "source": [
    "Računamo sledeću sumu:"
   ]
  },
  {
   "cell_type": "code",
   "execution_count": null,
   "metadata": {},
   "outputs": [],
   "source": [
    "novac_evr2 = 420\n",
    "novac_din2 = novac_evr2 * kurs"
   ]
  },
  {
   "cell_type": "code",
   "execution_count": null,
   "metadata": {},
   "outputs": [],
   "source": [
    "novac_evr3 = 600\n",
    "novac_din3 = novac_evr3 * kurs"
   ]
  },
  {
   "cell_type": "markdown",
   "metadata": {},
   "source": [
    "..."
   ]
  },
  {
   "cell_type": "code",
   "execution_count": null,
   "metadata": {},
   "outputs": [],
   "source": [
    "novac_evr6 = 200\n",
    "novac_din6 = novac_evr6 * kurs"
   ]
  },
  {
   "cell_type": "markdown",
   "metadata": {},
   "source": [
    "### Petlja for i šta sa njom?"
   ]
  },
  {
   "cell_type": "markdown",
   "metadata": {},
   "source": [
    "Koncept petlje je fundamentalan u programiranju, detaljnije će biti reči tokom predavanja. Sada samo kratka demonstracija \n",
    "primene na prethodni zadatak."
   ]
  },
  {
   "cell_type": "code",
   "execution_count": null,
   "metadata": {},
   "outputs": [],
   "source": [
    "kurs = 117.2567\n",
    "# menjaj vrednost cena_eur pa variraj\n",
    "cena_eur = 350\n",
    "cena_eur * kurs"
   ]
  },
  {
   "cell_type": "code",
   "execution_count": null,
   "metadata": {},
   "outputs": [],
   "source": [
    "for cena_eur in [120, 420, 600, 150, 300, 200]:\n",
    "    print(cena_eur, cena_eur * kurs)"
   ]
  },
  {
   "cell_type": "markdown",
   "metadata": {},
   "source": [
    "Standardan oblik petlje for možeš videti u narednom primeru. Pokreni narednu ćeliju."
   ]
  },
  {
   "cell_type": "code",
   "execution_count": null,
   "metadata": {},
   "outputs": [],
   "source": [
    "for i in range(10):\n",
    "    print(\"Zdravo, svete!\")"
   ]
  },
  {
   "cell_type": "markdown",
   "metadata": {},
   "source": [
    "Napiši skript koji ispisuje cifre od 0 do 9."
   ]
  },
  {
   "cell_type": "code",
   "execution_count": null,
   "metadata": {},
   "outputs": [],
   "source": []
  },
  {
   "cell_type": "code",
   "execution_count": null,
   "metadata": {},
   "outputs": [],
   "source": [
    "#skole[\"Broj ucenika - prvi razred\"][0]\n",
    "#skole[\"Broj ucenika - prvi razred\"][1]\n",
    "#skole[\"Broj ucenika - prvi razred\"][2]\n",
    "#....\n",
    "#skole[\"Broj ucenika - prvi razred\"][9]\n",
    "for i in skole.index[:100]:\n",
    "    print(skole.loc[i,\"Broj ucenika - prvi razred\"])"
   ]
  },
  {
   "cell_type": "code",
   "execution_count": null,
   "metadata": {},
   "outputs": [],
   "source": [
    "skole[\"Okrug\"].tail(10) #ispis poslednjih 10 elemenata kolone \"Okrug\""
   ]
  },
  {
   "cell_type": "markdown",
   "metadata": {},
   "source": [
    "Ovo možemo ispisati i pomoću petlje."
   ]
  },
  {
   "cell_type": "code",
   "execution_count": null,
   "metadata": {},
   "outputs": [],
   "source": [
    "for i in range(skole[\"Okrug\"].count()-10, skole[\"Okrug\"].count()):\n",
    "     print(skole[\"Okrug\"][i])"
   ]
  },
  {
   "cell_type": "code",
   "execution_count": null,
   "metadata": {},
   "outputs": [],
   "source": [
    "#još jedan način da prođemo kroz elemente vrste\n",
    "for i in skole.columns:\n",
    "    print(skole.loc[9][i])"
   ]
  },
  {
   "cell_type": "code",
   "execution_count": null,
   "metadata": {},
   "outputs": [],
   "source": []
  },
  {
   "cell_type": "markdown",
   "metadata": {},
   "source": [
    "### Sumiranje"
   ]
  },
  {
   "cell_type": "code",
   "execution_count": null,
   "metadata": {},
   "outputs": [],
   "source": [
    "skole.sum()"
   ]
  },
  {
   "cell_type": "code",
   "execution_count": null,
   "metadata": {},
   "outputs": [],
   "source": [
    "tabela = pd.read_csv(\"podaci.csv\")\n",
    "tabela[\"Broj devojčica\"].sum()"
   ]
  },
  {
   "cell_type": "code",
   "execution_count": null,
   "metadata": {},
   "outputs": [],
   "source": [
    "s = 0\n",
    "for broj in tabela[\"Broj devojčica\"]:\n",
    "    s = s + broj\n",
    "print(s)"
   ]
  },
  {
   "cell_type": "code",
   "execution_count": null,
   "metadata": {},
   "outputs": [],
   "source": [
    "tabela[\"Broj devojčica\"].max()"
   ]
  },
  {
   "cell_type": "code",
   "execution_count": null,
   "metadata": {},
   "outputs": [],
   "source": [
    "#tabela[tabela[\"Broj devojčica\"]==tabela[\"Broj devojčica\"].max()][\"Okrug\"]"
   ]
  },
  {
   "cell_type": "code",
   "execution_count": null,
   "metadata": {},
   "outputs": [],
   "source": [
    "tabela[\"Broj učenika\"].mean()"
   ]
  },
  {
   "cell_type": "markdown",
   "metadata": {},
   "source": [
    "Koliki je prosečan broj učenika u odeljenju prvog razreda?"
   ]
  },
  {
   "cell_type": "code",
   "execution_count": null,
   "metadata": {},
   "outputs": [],
   "source": [
    "#skole.columns\n",
    "broj_ucenika = skole[\"Broj ucenika - prvi razred\"].sum() #ukupan broj učenika prvog razreda\n",
    "broj_ucenika"
   ]
  },
  {
   "cell_type": "code",
   "execution_count": null,
   "metadata": {},
   "outputs": [],
   "source": [
    "broj_odeljenja = skole[\"Broj odeljenja - prvi razred\"].sum()\n",
    "broj_odeljenja"
   ]
  },
  {
   "cell_type": "code",
   "execution_count": null,
   "metadata": {},
   "outputs": [],
   "source": [
    "po_odeljenju = round(broj_ucenika / broj_odeljenja) #round() funkcija kojom zaokružujemo broj\n",
    "po_odeljenju"
   ]
  },
  {
   "cell_type": "markdown",
   "metadata": {},
   "source": [
    "Koliki je prosečan broj učenika u odeljenju osmog razreda?"
   ]
  },
  {
   "cell_type": "code",
   "execution_count": null,
   "metadata": {},
   "outputs": [],
   "source": [
    "broj_ucenika_8 = skole[\"Broj ucenika - osmi razred\"].sum() #ukupan broj učenika prvog razreda\n",
    "broj_ucenika_8"
   ]
  },
  {
   "cell_type": "code",
   "execution_count": null,
   "metadata": {},
   "outputs": [],
   "source": [
    "broj_odeljenja_8 = skole[\"Broj odeljenja - osmi razred\"].sum()\n",
    "broj_odeljenja_8"
   ]
  },
  {
   "cell_type": "code",
   "execution_count": null,
   "metadata": {},
   "outputs": [],
   "source": [
    "po_odeljenju_8 = round(broj_ucenika_8 / broj_odeljenja_8) #round() funkcija kojom zaokružujemo broj\n",
    "po_odeljenju_8"
   ]
  },
  {
   "cell_type": "markdown",
   "metadata": {},
   "source": [
    "Šta ukoliko želimo da izračunamo za svaki razred prosečan broj učenika?"
   ]
  },
  {
   "cell_type": "markdown",
   "metadata": {},
   "source": [
    "### Kako definisati funkciju?"
   ]
  },
  {
   "cell_type": "markdown",
   "metadata": {},
   "source": [
    "Ukoliko želimo da izračunamo broj učenika po odeljenju za sve razrede \n",
    "(osnovna i srednja škola), morali bi da kopiramo veliki broj puta, što nije rešenje! "
   ]
  },
  {
   "cell_type": "code",
   "execution_count": null,
   "metadata": {},
   "outputs": [],
   "source": [
    "def prosek (ucenici, odeljenja):\n",
    "    return round(ucenici.sum()/odeljenja.sum())"
   ]
  },
  {
   "cell_type": "code",
   "execution_count": null,
   "metadata": {},
   "outputs": [],
   "source": [
    "x = prosek(skole[\"Broj ucenika - osmi razred\"],skole[\"Broj odeljenja - osmi razred\"])\n",
    "print(x)"
   ]
  },
  {
   "cell_type": "markdown",
   "metadata": {},
   "source": [
    "Napisati funkciju kojom se izračunava procenat učenika koji radi po IOP3 programu u okviru jednog \n",
    "razreda na nivou svih okruga."
   ]
  },
  {
   "cell_type": "code",
   "execution_count": 2,
   "metadata": {},
   "outputs": [],
   "source": [
    "def ime():\n",
    "    return neka_naredba"
   ]
  },
  {
   "cell_type": "code",
   "execution_count": null,
   "metadata": {},
   "outputs": [],
   "source": []
  }
 ],
 "metadata": {
  "kernelspec": {
   "display_name": "Python 3",
   "language": "python",
   "name": "python3"
  },
  "language_info": {
   "codemirror_mode": {
    "name": "ipython",
    "version": 3
   },
   "file_extension": ".py",
   "mimetype": "text/x-python",
   "name": "python",
   "nbconvert_exporter": "python",
   "pygments_lexer": "ipython3",
   "version": "3.6.8"
  }
 },
 "nbformat": 4,
 "nbformat_minor": 4
}
