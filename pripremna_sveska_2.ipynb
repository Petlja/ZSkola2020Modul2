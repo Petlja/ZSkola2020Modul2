{
 "cells": [
  {
   "cell_type": "markdown",
   "metadata": {},
   "source": [
    "## Programski jezik Python \n",
    "### i rad sa tabelarno predstavljenim podacima i biblioteka Pandas"
   ]
  },
  {
   "cell_type": "markdown",
   "metadata": {},
   "source": [
    "### Učitavanje i prikaz"
   ]
  },
  {
   "cell_type": "markdown",
   "metadata": {},
   "source": [
    "Kako u pozadini izgleda jedan .csv fajl?\n",
    "\n",
    "Ne baš pregledno!"
   ]
  },
  {
   "cell_type": "markdown",
   "metadata": {},
   "source": [
    "<img src=\"c.jpg\">"
   ]
  },
  {
   "cell_type": "markdown",
   "metadata": {},
   "source": [
    "Kako da od ovoga, dođemo do tabele koja je preglednija?"
   ]
  },
  {
   "cell_type": "markdown",
   "metadata": {},
   "source": [
    "<img src=\"t.png\">"
   ]
  },
  {
   "cell_type": "markdown",
   "metadata": {},
   "source": [
    "Programski jezik Python ima biblioteku ``Pandas`` koja će nam pomoći u radu sa podacima koji su tabelarno organizovani. "
   ]
  },
  {
   "cell_type": "code",
   "execution_count": 3,
   "metadata": {},
   "outputs": [],
   "source": [
    "import pandas as pd #učitavanje pandas biblioteke\n",
    "skole = pd.read_csv(\"skole.csv\") #učitavanje jednog .csv fajla\n",
    "#skole  #ispis tabele"
   ]
  },
  {
   "cell_type": "code",
   "execution_count": null,
   "metadata": {},
   "outputs": [],
   "source": [
    "#dimenzija tabele\n",
    "skole.shape"
   ]
  },
  {
   "cell_type": "markdown",
   "metadata": {},
   "source": [
    "Iz ovoga vidimo da tabela ima 1423 vrste i 74 kolone."
   ]
  },
  {
   "cell_type": "markdown",
   "metadata": {},
   "source": [
    "Ponekad će ti zatrebati informacija u vezi sa samim podacima koji se nalaze u tabeli. Detaljnije o ovome biće reči na predavanju, sada pokreni narednu ćeliju i vidi šta je rezultat izvršavanja naredbe ``skole.info()``. "
   ]
  },
  {
   "cell_type": "code",
   "execution_count": null,
   "metadata": {},
   "outputs": [],
   "source": [
    "#skole.info()"
   ]
  },
  {
   "cell_type": "markdown",
   "metadata": {},
   "source": [
    "## Zavirimo u podatke!"
   ]
  },
  {
   "cell_type": "markdown",
   "metadata": {},
   "source": [
    "<img src=\"podaci.png\">"
   ]
  },
  {
   "cell_type": "markdown",
   "metadata": {},
   "source": [
    "### Čemu ovo služi?"
   ]
  },
  {
   "cell_type": "code",
   "execution_count": null,
   "metadata": {},
   "outputs": [],
   "source": [
    "#Izdvajamo imena kolona\n",
    "skole.columns"
   ]
  },
  {
   "cell_type": "code",
   "execution_count": null,
   "metadata": {},
   "outputs": [],
   "source": [
    "#Vrste\n",
    "skole.index"
   ]
  },
  {
   "cell_type": "markdown",
   "metadata": {},
   "source": [
    "Sada već znamo malo više, možemo da se krećemo kroz tabelu pomoću kolona i vrsta! Često ćeš biti u situaciji da saznaš nešto više o jednoj (ili nekoliko) koloni ili vrsti. Dobar način da krenemo u istraživanje podataka je da znamo da izdvojimo kolonu ili kolone, vrstu ili više vrsta."
   ]
  },
  {
   "cell_type": "markdown",
   "metadata": {},
   "source": [
    "### Izdvajanje kolona i vrsta"
   ]
  },
  {
   "cell_type": "code",
   "execution_count": null,
   "metadata": {},
   "outputs": [],
   "source": [
    "#Izdvaja se kolona koja se zove \"Okrug\"\n",
    "skole[\"Okrug\"]"
   ]
  },
  {
   "cell_type": "code",
   "execution_count": null,
   "metadata": {},
   "outputs": [],
   "source": [
    "#Šta se dobija pozivanjem naredbe:\n",
    "skole[\"Okrug\"].size\n",
    "#Da li smo se već sreli sa nečim sličnim?"
   ]
  },
  {
   "cell_type": "markdown",
   "metadata": {},
   "source": [
    "Šta ako ne želim da ispišem sve kolone?"
   ]
  },
  {
   "cell_type": "code",
   "execution_count": null,
   "metadata": {},
   "outputs": [],
   "source": [
    "skole[\"Okrug\"].head(10)"
   ]
  },
  {
   "cell_type": "code",
   "execution_count": 6,
   "metadata": {},
   "outputs": [
    {
     "data": {
      "text/html": [
       "<div>\n",
       "<style scoped>\n",
       "    .dataframe tbody tr th:only-of-type {\n",
       "        vertical-align: middle;\n",
       "    }\n",
       "\n",
       "    .dataframe tbody tr th {\n",
       "        vertical-align: top;\n",
       "    }\n",
       "\n",
       "    .dataframe thead th {\n",
       "        text-align: right;\n",
       "    }\n",
       "</style>\n",
       "<table border=\"1\" class=\"dataframe\">\n",
       "  <thead>\n",
       "    <tr style=\"text-align: right;\">\n",
       "      <th></th>\n",
       "      <th>#</th>\n",
       "      <th>ИД установе</th>\n",
       "      <th>Власништво</th>\n",
       "      <th>Округ</th>\n",
       "      <th>Општина</th>\n",
       "      <th>Назив установе</th>\n",
       "      <th>Подручје рада</th>\n",
       "      <th>Образовни профил</th>\n",
       "      <th>Трајање образовања</th>\n",
       "      <th>Језик наставе</th>\n",
       "      <th>...</th>\n",
       "      <th>Број ИОП-а 2 - седми разред</th>\n",
       "      <th>Број ИОП-а 3 - седми разред</th>\n",
       "      <th>Број одељења - осми разред</th>\n",
       "      <th>Број комбинованих одељења - осми разред</th>\n",
       "      <th>Број специјалних одељења - осми разред</th>\n",
       "      <th>Број ученика - осми разред</th>\n",
       "      <th>Број девојчица - осми разред</th>\n",
       "      <th>Број ИОП-а 1 - осми разред</th>\n",
       "      <th>Број ИОП-а 2 - осми разред</th>\n",
       "      <th>Број ИОП-а 3 - осми разред</th>\n",
       "    </tr>\n",
       "  </thead>\n",
       "  <tbody>\n",
       "    <tr>\n",
       "      <th>0</th>\n",
       "      <td>1.0</td>\n",
       "      <td>1</td>\n",
       "      <td>Државно</td>\n",
       "      <td>Град Београд</td>\n",
       "      <td>Београд - Барајево</td>\n",
       "      <td>Павле Поповић</td>\n",
       "      <td>Основно редовно образовање</td>\n",
       "      <td>Основно образовање</td>\n",
       "      <td>8</td>\n",
       "      <td>Српски језик</td>\n",
       "      <td>...</td>\n",
       "      <td>2</td>\n",
       "      <td>2</td>\n",
       "      <td>3</td>\n",
       "      <td>0</td>\n",
       "      <td>0</td>\n",
       "      <td>59</td>\n",
       "      <td>31</td>\n",
       "      <td>2</td>\n",
       "      <td>1</td>\n",
       "      <td>0</td>\n",
       "    </tr>\n",
       "    <tr>\n",
       "      <th>1</th>\n",
       "      <td>2.0</td>\n",
       "      <td>2</td>\n",
       "      <td>Државно</td>\n",
       "      <td>Град Београд</td>\n",
       "      <td>Београд - Барајево</td>\n",
       "      <td>Кнез Сима Марковић</td>\n",
       "      <td>Основно редовно образовање</td>\n",
       "      <td>Основно образовање</td>\n",
       "      <td>8</td>\n",
       "      <td>Српски језик</td>\n",
       "      <td>...</td>\n",
       "      <td>0</td>\n",
       "      <td>0</td>\n",
       "      <td>8</td>\n",
       "      <td>0</td>\n",
       "      <td>0</td>\n",
       "      <td>170</td>\n",
       "      <td>92</td>\n",
       "      <td>6</td>\n",
       "      <td>0</td>\n",
       "      <td>0</td>\n",
       "    </tr>\n",
       "    <tr>\n",
       "      <th>2</th>\n",
       "      <td>3.0</td>\n",
       "      <td>3</td>\n",
       "      <td>Државно</td>\n",
       "      <td>Град Београд</td>\n",
       "      <td>Београд - Вождовац</td>\n",
       "      <td>Бора Станковић</td>\n",
       "      <td>Основно редовно образовање</td>\n",
       "      <td>Основно образовање</td>\n",
       "      <td>8</td>\n",
       "      <td>Српски језик</td>\n",
       "      <td>...</td>\n",
       "      <td>0</td>\n",
       "      <td>0</td>\n",
       "      <td>4</td>\n",
       "      <td>0</td>\n",
       "      <td>0</td>\n",
       "      <td>100</td>\n",
       "      <td>46</td>\n",
       "      <td>0</td>\n",
       "      <td>1</td>\n",
       "      <td>0</td>\n",
       "    </tr>\n",
       "    <tr>\n",
       "      <th>3</th>\n",
       "      <td>4.0</td>\n",
       "      <td>4</td>\n",
       "      <td>Државно</td>\n",
       "      <td>Град Београд</td>\n",
       "      <td>Београд - Вождовац</td>\n",
       "      <td>Змај Јова Јовановић</td>\n",
       "      <td>Основно редовно образовање</td>\n",
       "      <td>Основно образовање</td>\n",
       "      <td>8</td>\n",
       "      <td>Српски језик</td>\n",
       "      <td>...</td>\n",
       "      <td>0</td>\n",
       "      <td>0</td>\n",
       "      <td>6</td>\n",
       "      <td>1</td>\n",
       "      <td>1</td>\n",
       "      <td>108</td>\n",
       "      <td>42</td>\n",
       "      <td>2</td>\n",
       "      <td>2</td>\n",
       "      <td>0</td>\n",
       "    </tr>\n",
       "    <tr>\n",
       "      <th>4</th>\n",
       "      <td>5.0</td>\n",
       "      <td>5</td>\n",
       "      <td>Државно</td>\n",
       "      <td>Град Београд</td>\n",
       "      <td>Београд - Вождовац</td>\n",
       "      <td>Ђура Даничић</td>\n",
       "      <td>Основно редовно образовање</td>\n",
       "      <td>Основно образовање</td>\n",
       "      <td>8</td>\n",
       "      <td>Српски језик</td>\n",
       "      <td>...</td>\n",
       "      <td>0</td>\n",
       "      <td>0</td>\n",
       "      <td>3</td>\n",
       "      <td>0</td>\n",
       "      <td>0</td>\n",
       "      <td>74</td>\n",
       "      <td>36</td>\n",
       "      <td>1</td>\n",
       "      <td>2</td>\n",
       "      <td>0</td>\n",
       "    </tr>\n",
       "    <tr>\n",
       "      <th>...</th>\n",
       "      <td>...</td>\n",
       "      <td>...</td>\n",
       "      <td>...</td>\n",
       "      <td>...</td>\n",
       "      <td>...</td>\n",
       "      <td>...</td>\n",
       "      <td>...</td>\n",
       "      <td>...</td>\n",
       "      <td>...</td>\n",
       "      <td>...</td>\n",
       "      <td>...</td>\n",
       "      <td>...</td>\n",
       "      <td>...</td>\n",
       "      <td>...</td>\n",
       "      <td>...</td>\n",
       "      <td>...</td>\n",
       "      <td>...</td>\n",
       "      <td>...</td>\n",
       "      <td>...</td>\n",
       "      <td>...</td>\n",
       "      <td>...</td>\n",
       "    </tr>\n",
       "    <tr>\n",
       "      <th>1418</th>\n",
       "      <td>1419.0</td>\n",
       "      <td>1850</td>\n",
       "      <td>Државно</td>\n",
       "      <td>Рашки управни округ</td>\n",
       "      <td>Нови Пазар - град</td>\n",
       "      <td>ОШ Мур</td>\n",
       "      <td>Основно редовно образовање</td>\n",
       "      <td>Основно образовање</td>\n",
       "      <td>8</td>\n",
       "      <td>Босански језик</td>\n",
       "      <td>...</td>\n",
       "      <td>0</td>\n",
       "      <td>0</td>\n",
       "      <td>3</td>\n",
       "      <td>0</td>\n",
       "      <td>0</td>\n",
       "      <td>88</td>\n",
       "      <td>49</td>\n",
       "      <td>1</td>\n",
       "      <td>0</td>\n",
       "      <td>0</td>\n",
       "    </tr>\n",
       "    <tr>\n",
       "      <th>1419</th>\n",
       "      <td>1420.0</td>\n",
       "      <td>1850</td>\n",
       "      <td>Државно</td>\n",
       "      <td>Рашки управни округ</td>\n",
       "      <td>Нови Пазар - град</td>\n",
       "      <td>ОШ Мур</td>\n",
       "      <td>Основно редовно образовање</td>\n",
       "      <td>Основно образовање</td>\n",
       "      <td>8</td>\n",
       "      <td>Српски језик</td>\n",
       "      <td>...</td>\n",
       "      <td>0</td>\n",
       "      <td>0</td>\n",
       "      <td>0</td>\n",
       "      <td>0</td>\n",
       "      <td>0</td>\n",
       "      <td>0</td>\n",
       "      <td>0</td>\n",
       "      <td>0</td>\n",
       "      <td>0</td>\n",
       "      <td>0</td>\n",
       "    </tr>\n",
       "    <tr>\n",
       "      <th>1420</th>\n",
       "      <td>1421.0</td>\n",
       "      <td>1851</td>\n",
       "      <td>Државно</td>\n",
       "      <td>Рашки управни округ</td>\n",
       "      <td>Нови Пазар - град</td>\n",
       "      <td>Ћамил Сијарић</td>\n",
       "      <td>Основно редовно образовање</td>\n",
       "      <td>Основно образовање</td>\n",
       "      <td>8</td>\n",
       "      <td>Босански језик</td>\n",
       "      <td>...</td>\n",
       "      <td>0</td>\n",
       "      <td>0</td>\n",
       "      <td>2</td>\n",
       "      <td>0</td>\n",
       "      <td>0</td>\n",
       "      <td>41</td>\n",
       "      <td>22</td>\n",
       "      <td>0</td>\n",
       "      <td>0</td>\n",
       "      <td>0</td>\n",
       "    </tr>\n",
       "    <tr>\n",
       "      <th>1421</th>\n",
       "      <td>1422.0</td>\n",
       "      <td>1851</td>\n",
       "      <td>Државно</td>\n",
       "      <td>Рашки управни округ</td>\n",
       "      <td>Нови Пазар - град</td>\n",
       "      <td>Ћамил Сијарић</td>\n",
       "      <td>Основно редовно образовање</td>\n",
       "      <td>Основно образовање</td>\n",
       "      <td>8</td>\n",
       "      <td>Српски језик</td>\n",
       "      <td>...</td>\n",
       "      <td>0</td>\n",
       "      <td>0</td>\n",
       "      <td>3</td>\n",
       "      <td>0</td>\n",
       "      <td>0</td>\n",
       "      <td>70</td>\n",
       "      <td>39</td>\n",
       "      <td>0</td>\n",
       "      <td>0</td>\n",
       "      <td>0</td>\n",
       "    </tr>\n",
       "    <tr>\n",
       "      <th>1422</th>\n",
       "      <td>1423.0</td>\n",
       "      <td>1852</td>\n",
       "      <td>Државно</td>\n",
       "      <td>Рашки управни округ</td>\n",
       "      <td>Нови Пазар - град</td>\n",
       "      <td>Меша Селимовић</td>\n",
       "      <td>Основно редовно образовање</td>\n",
       "      <td>Основно образовање</td>\n",
       "      <td>8</td>\n",
       "      <td>Српски језик</td>\n",
       "      <td>...</td>\n",
       "      <td>0</td>\n",
       "      <td>0</td>\n",
       "      <td>3</td>\n",
       "      <td>0</td>\n",
       "      <td>0</td>\n",
       "      <td>79</td>\n",
       "      <td>32</td>\n",
       "      <td>0</td>\n",
       "      <td>0</td>\n",
       "      <td>0</td>\n",
       "    </tr>\n",
       "  </tbody>\n",
       "</table>\n",
       "<p>1423 rows × 74 columns</p>\n",
       "</div>"
      ],
      "text/plain": [
       "           #  ИД установе Власништво                Округ             Општина  \\\n",
       "0        1.0            1    Државно         Град Београд  Београд - Барајево   \n",
       "1        2.0            2    Државно         Град Београд  Београд - Барајево   \n",
       "2        3.0            3    Државно         Град Београд  Београд - Вождовац   \n",
       "3        4.0            4    Државно         Град Београд  Београд - Вождовац   \n",
       "4        5.0            5    Државно         Град Београд  Београд - Вождовац   \n",
       "...      ...          ...        ...                  ...                 ...   \n",
       "1418  1419.0         1850    Државно  Рашки управни округ   Нови Пазар - град   \n",
       "1419  1420.0         1850    Државно  Рашки управни округ   Нови Пазар - град   \n",
       "1420  1421.0         1851    Државно  Рашки управни округ   Нови Пазар - град   \n",
       "1421  1422.0         1851    Државно  Рашки управни округ   Нови Пазар - град   \n",
       "1422  1423.0         1852    Државно  Рашки управни округ   Нови Пазар - град   \n",
       "\n",
       "           Назив установе               Подручје рада    Образовни профил  \\\n",
       "0           Павле Поповић  Основно редовно образовање  Основно образовање   \n",
       "1      Кнез Сима Марковић  Основно редовно образовање  Основно образовање   \n",
       "2          Бора Станковић  Основно редовно образовање  Основно образовање   \n",
       "3     Змај Јова Јовановић  Основно редовно образовање  Основно образовање   \n",
       "4            Ђура Даничић  Основно редовно образовање  Основно образовање   \n",
       "...                   ...                         ...                 ...   \n",
       "1418               ОШ Мур  Основно редовно образовање  Основно образовање   \n",
       "1419               ОШ Мур  Основно редовно образовање  Основно образовање   \n",
       "1420        Ћамил Сијарић  Основно редовно образовање  Основно образовање   \n",
       "1421        Ћамил Сијарић  Основно редовно образовање  Основно образовање   \n",
       "1422       Меша Селимовић  Основно редовно образовање  Основно образовање   \n",
       "\n",
       "      Трајање образовања   Језик наставе  ...  Број ИОП-а 2 - седми разред  \\\n",
       "0                      8    Српски језик  ...                            2   \n",
       "1                      8    Српски језик  ...                            0   \n",
       "2                      8    Српски језик  ...                            0   \n",
       "3                      8    Српски језик  ...                            0   \n",
       "4                      8    Српски језик  ...                            0   \n",
       "...                  ...             ...  ...                          ...   \n",
       "1418                   8  Босански језик  ...                            0   \n",
       "1419                   8    Српски језик  ...                            0   \n",
       "1420                   8  Босански језик  ...                            0   \n",
       "1421                   8    Српски језик  ...                            0   \n",
       "1422                   8    Српски језик  ...                            0   \n",
       "\n",
       "      Број ИОП-а 3 - седми разред  Број одељења - осми разред  \\\n",
       "0                               2                           3   \n",
       "1                               0                           8   \n",
       "2                               0                           4   \n",
       "3                               0                           6   \n",
       "4                               0                           3   \n",
       "...                           ...                         ...   \n",
       "1418                            0                           3   \n",
       "1419                            0                           0   \n",
       "1420                            0                           2   \n",
       "1421                            0                           3   \n",
       "1422                            0                           3   \n",
       "\n",
       "      Број комбинованих одељења - осми разред  \\\n",
       "0                                           0   \n",
       "1                                           0   \n",
       "2                                           0   \n",
       "3                                           1   \n",
       "4                                           0   \n",
       "...                                       ...   \n",
       "1418                                        0   \n",
       "1419                                        0   \n",
       "1420                                        0   \n",
       "1421                                        0   \n",
       "1422                                        0   \n",
       "\n",
       "      Број специјалних одељења - осми разред  Број ученика - осми разред  \\\n",
       "0                                          0                          59   \n",
       "1                                          0                         170   \n",
       "2                                          0                         100   \n",
       "3                                          1                         108   \n",
       "4                                          0                          74   \n",
       "...                                      ...                         ...   \n",
       "1418                                       0                          88   \n",
       "1419                                       0                           0   \n",
       "1420                                       0                          41   \n",
       "1421                                       0                          70   \n",
       "1422                                       0                          79   \n",
       "\n",
       "      Број девојчица - осми разред  Број ИОП-а 1 - осми разред  \\\n",
       "0                               31                           2   \n",
       "1                               92                           6   \n",
       "2                               46                           0   \n",
       "3                               42                           2   \n",
       "4                               36                           1   \n",
       "...                            ...                         ...   \n",
       "1418                            49                           1   \n",
       "1419                             0                           0   \n",
       "1420                            22                           0   \n",
       "1421                            39                           0   \n",
       "1422                            32                           0   \n",
       "\n",
       "      Број ИОП-а 2 - осми разред  Број ИОП-а 3 - осми разред  \n",
       "0                              1                           0  \n",
       "1                              0                           0  \n",
       "2                              1                           0  \n",
       "3                              2                           0  \n",
       "4                              2                           0  \n",
       "...                          ...                         ...  \n",
       "1418                           0                           0  \n",
       "1419                           0                           0  \n",
       "1420                           0                           0  \n",
       "1421                           0                           0  \n",
       "1422                           0                           0  \n",
       "\n",
       "[1423 rows x 74 columns]"
      ]
     },
     "execution_count": 6,
     "metadata": {},
     "output_type": "execute_result"
    }
   ],
   "source": [
    "skole"
   ]
  },
  {
   "cell_type": "code",
   "execution_count": 11,
   "metadata": {},
   "outputs": [
    {
     "data": {
      "text/plain": [
       "1.0"
      ]
     },
     "execution_count": 11,
     "metadata": {},
     "output_type": "execute_result"
    }
   ],
   "source": [
    "skole.loc[0,\"#\"] #ispisuje se prvi element iz kolone"
   ]
  },
  {
   "cell_type": "raw",
   "metadata": {},
   "source": [
    "Kolona se sastoji iz više elemenata, kao što smo videli primenom funkcije .count(), ova kolona ima 1423 elementa. Da li možemo da vidimo prvih 10 elemenata kolone skole[\"Broj ucenika - prvi razred\"]?"
   ]
  },
  {
   "cell_type": "code",
   "execution_count": null,
   "metadata": {},
   "outputs": [],
   "source": [
    "skole.columns"
   ]
  },
  {
   "cell_type": "code",
   "execution_count": null,
   "metadata": {},
   "outputs": [],
   "source": [
    "skole.loc[0] #izdvajamo 1. vrstu"
   ]
  },
  {
   "cell_type": "code",
   "execution_count": null,
   "metadata": {},
   "outputs": [],
   "source": [
    "skole.loc[9] #izdvajamo 10. vrstu"
   ]
  },
  {
   "cell_type": "code",
   "execution_count": null,
   "metadata": {},
   "outputs": [],
   "source": [
    "skole.loc[9][5] #još jedan način da pristupimo jednoj konkretnoj ćeliji."
   ]
  },
  {
   "cell_type": "markdown",
   "metadata": {},
   "source": [
    "### Sečenje (slicing) ili kako izdvojiti više od jedne vrste i kolone - detaljnije na predavanju!"
   ]
  },
  {
   "cell_type": "markdown",
   "metadata": {},
   "source": [
    "### Gde počinje Python?"
   ]
  },
  {
   "cell_type": "markdown",
   "metadata": {},
   "source": [
    "<img src=\"logo.png\">"
   ]
  },
  {
   "cell_type": "code",
   "execution_count": null,
   "metadata": {},
   "outputs": [],
   "source": []
  },
  {
   "cell_type": "markdown",
   "metadata": {},
   "source": [
    "Zamisli sledeću situaciju. Imaš određenu sumu novca u evrima (novac_evr1 = 120) i želiš da znaš koliko ta suma iznosi u dinarima. \n",
    "Prvo što te zanima je koliki je kurs evra u tom trenutku. \n",
    "\n",
    "\n",
    "Neka je kurs = 117.2567. Kolika je ova suma novca u dinarima izračunaćeš kada novac_evr pomnožimo sa kursom.\n",
    "\n",
    "\n",
    "Vrednost novca u dinarima je:\n",
    "    \n",
    "    novac_evr * kurs"
   ]
  },
  {
   "cell_type": "code",
   "execution_count": null,
   "metadata": {},
   "outputs": [],
   "source": [
    "Zamislimo dalje situaciju, u toku dana bi trebalo još neke novčane sume u evrima da preračunaš u dinare. Kako?"
   ]
  },
  {
   "cell_type": "code",
   "execution_count": null,
   "metadata": {},
   "outputs": [],
   "source": [
    "kurs = 117.2567\n",
    "novac_evr1 = 120\n",
    "novac_din1 = novac_evr1 * kurs"
   ]
  },
  {
   "cell_type": "markdown",
   "metadata": {},
   "source": [
    "Računamo sledeću sumu:"
   ]
  },
  {
   "cell_type": "code",
   "execution_count": null,
   "metadata": {},
   "outputs": [],
   "source": [
    "novac_evr2 = 420\n",
    "novac_din2 = novac_evr2 * kurs"
   ]
  },
  {
   "cell_type": "code",
   "execution_count": null,
   "metadata": {},
   "outputs": [],
   "source": [
    "novac_evr3 = 600\n",
    "novac_din3 = novac_evr3 * kurs"
   ]
  },
  {
   "cell_type": "markdown",
   "metadata": {},
   "source": [
    "..."
   ]
  },
  {
   "cell_type": "code",
   "execution_count": null,
   "metadata": {},
   "outputs": [],
   "source": [
    "novac_evr6 = 200\n",
    "novac_din6 = novac_evr6 * kurs"
   ]
  },
  {
   "cell_type": "markdown",
   "metadata": {},
   "source": [
    "### Petlja for i šta sa njom?"
   ]
  },
  {
   "cell_type": "markdown",
   "metadata": {},
   "source": [
    "Koncept petlje je fundamentalan u programiranju, detaljnije će biti reči tokom predavanja. Sada samo kratka demonstracija \n",
    "primene na prethodni zadatak."
   ]
  },
  {
   "cell_type": "code",
   "execution_count": null,
   "metadata": {},
   "outputs": [],
   "source": [
    "kurs = 117.2567\n",
    "# menjaj vrednost cena_eur pa variraj\n",
    "cena_eur = 350\n",
    "cena_eur * kurs"
   ]
  },
  {
   "cell_type": "code",
   "execution_count": null,
   "metadata": {},
   "outputs": [],
   "source": [
    "for cena_eur in [120, 420, 600, 150, 300, 200]:\n",
    "    print(cena_eur, cena_eur * kurs)"
   ]
  },
  {
   "cell_type": "markdown",
   "metadata": {},
   "source": [
    "Standardan oblik petlje for možeš videti u narednom primeru. Pokreni narednu ćeliju."
   ]
  },
  {
   "cell_type": "code",
   "execution_count": null,
   "metadata": {},
   "outputs": [],
   "source": [
    "for i in range(10):\n",
    "    print(\"Zdravo, svete!\")"
   ]
  },
  {
   "cell_type": "markdown",
   "metadata": {},
   "source": [
    "Napiši skript koji ispisuje cifre od 0 do 9."
   ]
  },
  {
   "cell_type": "code",
   "execution_count": null,
   "metadata": {},
   "outputs": [],
   "source": []
  },
  {
   "cell_type": "code",
   "execution_count": null,
   "metadata": {},
   "outputs": [],
   "source": [
    "#skole[\"Broj ucenika - prvi razred\"][0]\n",
    "#skole[\"Broj ucenika - prvi razred\"][1]\n",
    "#skole[\"Broj ucenika - prvi razred\"][2]\n",
    "#....\n",
    "#skole[\"Broj ucenika - prvi razred\"][9]\n",
    "for i in skole.index[:100]:\n",
    "    print(skole.loc[i,\"Broj ucenika - prvi razred\"])"
   ]
  },
  {
   "cell_type": "code",
   "execution_count": null,
   "metadata": {},
   "outputs": [],
   "source": [
    "skole[\"Okrug\"].tail(10) #ispis poslednjih 10 elemenata kolone \"Okrug\""
   ]
  },
  {
   "cell_type": "markdown",
   "metadata": {},
   "source": [
    "Ovo možemo ispisati i pomoću petlje."
   ]
  },
  {
   "cell_type": "code",
   "execution_count": null,
   "metadata": {},
   "outputs": [],
   "source": [
    "for i in range(skole[\"Okrug\"].count()-10, skole[\"Okrug\"].count()):\n",
    "     print(skole[\"Okrug\"][i])"
   ]
  },
  {
   "cell_type": "code",
   "execution_count": null,
   "metadata": {},
   "outputs": [],
   "source": [
    "#još jedan način da prođemo kroz elemente vrste\n",
    "for i in skole.columns:\n",
    "    print(skole.loc[9][i])"
   ]
  },
  {
   "cell_type": "markdown",
   "metadata": {},
   "source": [
    "### Možemo li bez petlje?"
   ]
  },
  {
   "cell_type": "code",
   "execution_count": null,
   "metadata": {},
   "outputs": [],
   "source": [
    "Biblioteka pandas nudi različite mogućnosti. "
   ]
  },
  {
   "cell_type": "code",
   "execution_count": null,
   "metadata": {},
   "outputs": [],
   "source": [
    "Napisati skript koji u tabeli skole umeće novu kolonu \"Broj ucenika 1-4\" u kojoj se nalazi \n",
    "ukupan broj učenika od 1. do 4. razreda za svaku školu.  "
   ]
  },
  {
   "cell_type": "code",
   "execution_count": null,
   "metadata": {},
   "outputs": [],
   "source": [
    "Skript možemo napisati pomoću petlje for:"
   ]
  },
  {
   "cell_type": "code",
   "execution_count": null,
   "metadata": {},
   "outputs": [],
   "source": [
    "skole.columns"
   ]
  },
  {
   "cell_type": "code",
   "execution_count": null,
   "metadata": {},
   "outputs": [],
   "source": [
    "%%timeit\n",
    "skole[\"Broj ucenika 1-4\"] = 0\n",
    "for i in range(len(skole)):\n",
    "    skole.loc[i, \"Broj ucenika 1-4\"] = skole[\"Broj ucenika - prvi razred\"][i] + skole[\"Broj ucenika - drugi razred\"][i] + skole[\"Broj ucenika - treći razred\"][i] + skole[\"Broj ucenika - cetvrti razred\"][i]\n",
    "skole.head()"
   ]
  },
  {
   "cell_type": "code",
   "execution_count": null,
   "metadata": {},
   "outputs": [],
   "source": [
    "%%timeit\n",
    "skole[\"Broj ucenika 1-4\"] = skole[\"Broj ucenika - prvi razred\"] + skole[\"Broj ucenika - drugi razred\"] + skole[\"Broj ucenika - treći razred\"] + skole[\"Broj ucenika - cetvrti razred\"]\n",
    "skole.head()\n"
   ]
  },
  {
   "cell_type": "code",
   "execution_count": null,
   "metadata": {},
   "outputs": [],
   "source": [
    "#skole.columns\n",
    "t = skole[skole[\"Okrug\"] == \"Град Београд\"]"
   ]
  },
  {
   "cell_type": "markdown",
   "metadata": {},
   "source": [
    "### Sumiranje"
   ]
  },
  {
   "cell_type": "code",
   "execution_count": null,
   "metadata": {},
   "outputs": [],
   "source": [
    "skole.sum()"
   ]
  },
  {
   "cell_type": "code",
   "execution_count": null,
   "metadata": {},
   "outputs": [],
   "source": [
    "tabela = pd.read_csv(\"podaci.csv\")\n",
    "tabela[\"Broj devojčica\"].sum()"
   ]
  },
  {
   "cell_type": "code",
   "execution_count": null,
   "metadata": {},
   "outputs": [],
   "source": [
    "s = 0\n",
    "for broj in tabela[\"Broj devojčica\"]:\n",
    "    s = s + broj\n",
    "print(s)"
   ]
  },
  {
   "cell_type": "code",
   "execution_count": null,
   "metadata": {},
   "outputs": [],
   "source": [
    "tabela[\"Broj devojčica\"].max()"
   ]
  },
  {
   "cell_type": "code",
   "execution_count": null,
   "metadata": {},
   "outputs": [],
   "source": [
    "#tabela[tabela[\"Broj devojčica\"]==tabela[\"Broj devojčica\"].max()][\"Okrug\"]"
   ]
  },
  {
   "cell_type": "code",
   "execution_count": null,
   "metadata": {},
   "outputs": [],
   "source": [
    "tabela[\"Broj učenika\"].mean()"
   ]
  },
  {
   "cell_type": "markdown",
   "metadata": {},
   "source": [
    "Koliki je prosečan broj učenika u odeljenju prvog razreda?"
   ]
  },
  {
   "cell_type": "code",
   "execution_count": null,
   "metadata": {},
   "outputs": [],
   "source": [
    "#skole.columns\n",
    "broj_ucenika = skole[\"Broj ucenika - prvi razred\"].sum() #ukupan broj učenika prvog razreda\n",
    "broj_ucenika"
   ]
  },
  {
   "cell_type": "code",
   "execution_count": null,
   "metadata": {},
   "outputs": [],
   "source": [
    "broj_odeljenja = skole[\"Broj odeljenja - prvi razred\"].sum()\n",
    "broj_odeljenja"
   ]
  },
  {
   "cell_type": "code",
   "execution_count": null,
   "metadata": {},
   "outputs": [],
   "source": [
    "po_odeljenju = round(broj_ucenika / broj_odeljenja) #round() funkcija kojom zaokružujemo broj\n",
    "po_odeljenju"
   ]
  },
  {
   "cell_type": "markdown",
   "metadata": {},
   "source": [
    "Koliki je prosečan broj učenika u odeljenju osmog razreda?"
   ]
  },
  {
   "cell_type": "code",
   "execution_count": null,
   "metadata": {},
   "outputs": [],
   "source": [
    "broj_ucenika_8 = skole[\"Broj ucenika - osmi razred\"].sum() #ukupan broj učenika prvog razreda\n",
    "broj_ucenika_8"
   ]
  },
  {
   "cell_type": "code",
   "execution_count": null,
   "metadata": {},
   "outputs": [],
   "source": [
    "broj_odeljenja_8 = skole[\"Broj odeljenja - osmi razred\"].sum()\n",
    "broj_odeljenja_8"
   ]
  },
  {
   "cell_type": "code",
   "execution_count": null,
   "metadata": {},
   "outputs": [],
   "source": [
    "po_odeljenju_8 = round(broj_ucenika_8 / broj_odeljenja_8) #round() funkcija kojom zaokružujemo broj\n",
    "po_odeljenju_8"
   ]
  },
  {
   "cell_type": "markdown",
   "metadata": {},
   "source": [
    "Šta ukoliko želimo da izračunamo za svaki razred prosečan broj učenika?"
   ]
  },
  {
   "cell_type": "markdown",
   "metadata": {},
   "source": [
    "### Kako definisati funkciju?"
   ]
  },
  {
   "cell_type": "markdown",
   "metadata": {},
   "source": [
    "Ukoliko želimo da izračunamo broj učenika po odeljenju za sve razrede \n",
    "(osnovna i srednja škola), morali bi da kopiramo veliki broj puta, što nije rešenje! "
   ]
  },
  {
   "cell_type": "code",
   "execution_count": null,
   "metadata": {},
   "outputs": [],
   "source": [
    "def prosek (ucenici, odeljenja):\n",
    "    return round(ucenici.sum()/odeljenja.sum())"
   ]
  },
  {
   "cell_type": "code",
   "execution_count": null,
   "metadata": {},
   "outputs": [],
   "source": [
    "x = prosek(skole[\"Broj ucenika - osmi razred\"],skole[\"Broj odeljenja - osmi razred\"])\n",
    "print(x)"
   ]
  },
  {
   "cell_type": "markdown",
   "metadata": {},
   "source": [
    "Napisati funkciju kojom se izračunava procenat učenika koji radi po IOP3 programu u okviru jednog \n",
    "razreda na nivou svih okruga."
   ]
  },
  {
   "cell_type": "code",
   "execution_count": null,
   "metadata": {},
   "outputs": [],
   "source": [
    "def ime():\n",
    "    ....."
   ]
  },
  {
   "cell_type": "markdown",
   "metadata": {},
   "source": [
    "### Filtriranje"
   ]
  },
  {
   "cell_type": "code",
   "execution_count": null,
   "metadata": {},
   "outputs": [],
   "source": [
    "tabela[tabela[\"Broj devojčica\"] > 10000][\"Okrug\"]"
   ]
  },
  {
   "cell_type": "code",
   "execution_count": null,
   "metadata": {},
   "outputs": [],
   "source": [
    "for i in range(tabela[\"Broj devojčica\"].count()):\n",
    "    if tabela[\"Broj devojčica\"][i] > 10000:\n",
    "        print(tabela[\"Okrug\"][i])\n",
    "        "
   ]
  },
  {
   "cell_type": "code",
   "execution_count": null,
   "metadata": {},
   "outputs": [],
   "source": [
    "len(tabela[tabela[\"Broj odeljenja\"] < 50])"
   ]
  },
  {
   "cell_type": "code",
   "execution_count": null,
   "metadata": {},
   "outputs": [],
   "source": [
    "devojcice_5000 = tabela[tabela[\"Broj devojčica\"] > 5000]\n",
    "devojcice_5000[\"Broj učenika\"].sum()"
   ]
  },
  {
   "cell_type": "code",
   "execution_count": null,
   "metadata": {},
   "outputs": [],
   "source": [
    "tabela[tabela[\"Broj devojčica\"] > 5000][\"Broj učenika\"].sum()"
   ]
  },
  {
   "cell_type": "markdown",
   "metadata": {},
   "source": [
    "### Grupisanje"
   ]
  },
  {
   "cell_type": "code",
   "execution_count": 12,
   "metadata": {},
   "outputs": [
    {
     "data": {
      "text/html": [
       "<div>\n",
       "<style scoped>\n",
       "    .dataframe tbody tr th:only-of-type {\n",
       "        vertical-align: middle;\n",
       "    }\n",
       "\n",
       "    .dataframe tbody tr th {\n",
       "        vertical-align: top;\n",
       "    }\n",
       "\n",
       "    .dataframe thead th {\n",
       "        text-align: right;\n",
       "    }\n",
       "</style>\n",
       "<table border=\"1\" class=\"dataframe\">\n",
       "  <thead>\n",
       "    <tr style=\"text-align: right;\">\n",
       "      <th></th>\n",
       "      <th>#</th>\n",
       "      <th>ИД установе</th>\n",
       "      <th>Власништво</th>\n",
       "      <th>Округ</th>\n",
       "      <th>Општина</th>\n",
       "      <th>Назив установе</th>\n",
       "      <th>Подручје рада</th>\n",
       "      <th>Образовни профил</th>\n",
       "      <th>Трајање образовања</th>\n",
       "      <th>Језик наставе</th>\n",
       "      <th>...</th>\n",
       "      <th>Број ИОП-а 2 - седми разред</th>\n",
       "      <th>Број ИОП-а 3 - седми разред</th>\n",
       "      <th>Број одељења - осми разред</th>\n",
       "      <th>Број комбинованих одељења - осми разред</th>\n",
       "      <th>Број специјалних одељења - осми разред</th>\n",
       "      <th>Број ученика - осми разред</th>\n",
       "      <th>Број девојчица - осми разред</th>\n",
       "      <th>Број ИОП-а 1 - осми разред</th>\n",
       "      <th>Број ИОП-а 2 - осми разред</th>\n",
       "      <th>Број ИОП-а 3 - осми разред</th>\n",
       "    </tr>\n",
       "  </thead>\n",
       "  <tbody>\n",
       "    <tr>\n",
       "      <th>0</th>\n",
       "      <td>1.0</td>\n",
       "      <td>1</td>\n",
       "      <td>Државно</td>\n",
       "      <td>Град Београд</td>\n",
       "      <td>Београд - Барајево</td>\n",
       "      <td>Павле Поповић</td>\n",
       "      <td>Основно редовно образовање</td>\n",
       "      <td>Основно образовање</td>\n",
       "      <td>8</td>\n",
       "      <td>Српски језик</td>\n",
       "      <td>...</td>\n",
       "      <td>2</td>\n",
       "      <td>2</td>\n",
       "      <td>3</td>\n",
       "      <td>0</td>\n",
       "      <td>0</td>\n",
       "      <td>59</td>\n",
       "      <td>31</td>\n",
       "      <td>2</td>\n",
       "      <td>1</td>\n",
       "      <td>0</td>\n",
       "    </tr>\n",
       "    <tr>\n",
       "      <th>1</th>\n",
       "      <td>2.0</td>\n",
       "      <td>2</td>\n",
       "      <td>Државно</td>\n",
       "      <td>Град Београд</td>\n",
       "      <td>Београд - Барајево</td>\n",
       "      <td>Кнез Сима Марковић</td>\n",
       "      <td>Основно редовно образовање</td>\n",
       "      <td>Основно образовање</td>\n",
       "      <td>8</td>\n",
       "      <td>Српски језик</td>\n",
       "      <td>...</td>\n",
       "      <td>0</td>\n",
       "      <td>0</td>\n",
       "      <td>8</td>\n",
       "      <td>0</td>\n",
       "      <td>0</td>\n",
       "      <td>170</td>\n",
       "      <td>92</td>\n",
       "      <td>6</td>\n",
       "      <td>0</td>\n",
       "      <td>0</td>\n",
       "    </tr>\n",
       "    <tr>\n",
       "      <th>2</th>\n",
       "      <td>3.0</td>\n",
       "      <td>3</td>\n",
       "      <td>Државно</td>\n",
       "      <td>Град Београд</td>\n",
       "      <td>Београд - Вождовац</td>\n",
       "      <td>Бора Станковић</td>\n",
       "      <td>Основно редовно образовање</td>\n",
       "      <td>Основно образовање</td>\n",
       "      <td>8</td>\n",
       "      <td>Српски језик</td>\n",
       "      <td>...</td>\n",
       "      <td>0</td>\n",
       "      <td>0</td>\n",
       "      <td>4</td>\n",
       "      <td>0</td>\n",
       "      <td>0</td>\n",
       "      <td>100</td>\n",
       "      <td>46</td>\n",
       "      <td>0</td>\n",
       "      <td>1</td>\n",
       "      <td>0</td>\n",
       "    </tr>\n",
       "    <tr>\n",
       "      <th>3</th>\n",
       "      <td>4.0</td>\n",
       "      <td>4</td>\n",
       "      <td>Државно</td>\n",
       "      <td>Град Београд</td>\n",
       "      <td>Београд - Вождовац</td>\n",
       "      <td>Змај Јова Јовановић</td>\n",
       "      <td>Основно редовно образовање</td>\n",
       "      <td>Основно образовање</td>\n",
       "      <td>8</td>\n",
       "      <td>Српски језик</td>\n",
       "      <td>...</td>\n",
       "      <td>0</td>\n",
       "      <td>0</td>\n",
       "      <td>6</td>\n",
       "      <td>1</td>\n",
       "      <td>1</td>\n",
       "      <td>108</td>\n",
       "      <td>42</td>\n",
       "      <td>2</td>\n",
       "      <td>2</td>\n",
       "      <td>0</td>\n",
       "    </tr>\n",
       "    <tr>\n",
       "      <th>4</th>\n",
       "      <td>5.0</td>\n",
       "      <td>5</td>\n",
       "      <td>Државно</td>\n",
       "      <td>Град Београд</td>\n",
       "      <td>Београд - Вождовац</td>\n",
       "      <td>Ђура Даничић</td>\n",
       "      <td>Основно редовно образовање</td>\n",
       "      <td>Основно образовање</td>\n",
       "      <td>8</td>\n",
       "      <td>Српски језик</td>\n",
       "      <td>...</td>\n",
       "      <td>0</td>\n",
       "      <td>0</td>\n",
       "      <td>3</td>\n",
       "      <td>0</td>\n",
       "      <td>0</td>\n",
       "      <td>74</td>\n",
       "      <td>36</td>\n",
       "      <td>1</td>\n",
       "      <td>2</td>\n",
       "      <td>0</td>\n",
       "    </tr>\n",
       "    <tr>\n",
       "      <th>...</th>\n",
       "      <td>...</td>\n",
       "      <td>...</td>\n",
       "      <td>...</td>\n",
       "      <td>...</td>\n",
       "      <td>...</td>\n",
       "      <td>...</td>\n",
       "      <td>...</td>\n",
       "      <td>...</td>\n",
       "      <td>...</td>\n",
       "      <td>...</td>\n",
       "      <td>...</td>\n",
       "      <td>...</td>\n",
       "      <td>...</td>\n",
       "      <td>...</td>\n",
       "      <td>...</td>\n",
       "      <td>...</td>\n",
       "      <td>...</td>\n",
       "      <td>...</td>\n",
       "      <td>...</td>\n",
       "      <td>...</td>\n",
       "      <td>...</td>\n",
       "    </tr>\n",
       "    <tr>\n",
       "      <th>1418</th>\n",
       "      <td>1419.0</td>\n",
       "      <td>1850</td>\n",
       "      <td>Државно</td>\n",
       "      <td>Рашки управни округ</td>\n",
       "      <td>Нови Пазар - град</td>\n",
       "      <td>ОШ Мур</td>\n",
       "      <td>Основно редовно образовање</td>\n",
       "      <td>Основно образовање</td>\n",
       "      <td>8</td>\n",
       "      <td>Босански језик</td>\n",
       "      <td>...</td>\n",
       "      <td>0</td>\n",
       "      <td>0</td>\n",
       "      <td>3</td>\n",
       "      <td>0</td>\n",
       "      <td>0</td>\n",
       "      <td>88</td>\n",
       "      <td>49</td>\n",
       "      <td>1</td>\n",
       "      <td>0</td>\n",
       "      <td>0</td>\n",
       "    </tr>\n",
       "    <tr>\n",
       "      <th>1419</th>\n",
       "      <td>1420.0</td>\n",
       "      <td>1850</td>\n",
       "      <td>Државно</td>\n",
       "      <td>Рашки управни округ</td>\n",
       "      <td>Нови Пазар - град</td>\n",
       "      <td>ОШ Мур</td>\n",
       "      <td>Основно редовно образовање</td>\n",
       "      <td>Основно образовање</td>\n",
       "      <td>8</td>\n",
       "      <td>Српски језик</td>\n",
       "      <td>...</td>\n",
       "      <td>0</td>\n",
       "      <td>0</td>\n",
       "      <td>0</td>\n",
       "      <td>0</td>\n",
       "      <td>0</td>\n",
       "      <td>0</td>\n",
       "      <td>0</td>\n",
       "      <td>0</td>\n",
       "      <td>0</td>\n",
       "      <td>0</td>\n",
       "    </tr>\n",
       "    <tr>\n",
       "      <th>1420</th>\n",
       "      <td>1421.0</td>\n",
       "      <td>1851</td>\n",
       "      <td>Државно</td>\n",
       "      <td>Рашки управни округ</td>\n",
       "      <td>Нови Пазар - град</td>\n",
       "      <td>Ћамил Сијарић</td>\n",
       "      <td>Основно редовно образовање</td>\n",
       "      <td>Основно образовање</td>\n",
       "      <td>8</td>\n",
       "      <td>Босански језик</td>\n",
       "      <td>...</td>\n",
       "      <td>0</td>\n",
       "      <td>0</td>\n",
       "      <td>2</td>\n",
       "      <td>0</td>\n",
       "      <td>0</td>\n",
       "      <td>41</td>\n",
       "      <td>22</td>\n",
       "      <td>0</td>\n",
       "      <td>0</td>\n",
       "      <td>0</td>\n",
       "    </tr>\n",
       "    <tr>\n",
       "      <th>1421</th>\n",
       "      <td>1422.0</td>\n",
       "      <td>1851</td>\n",
       "      <td>Државно</td>\n",
       "      <td>Рашки управни округ</td>\n",
       "      <td>Нови Пазар - град</td>\n",
       "      <td>Ћамил Сијарић</td>\n",
       "      <td>Основно редовно образовање</td>\n",
       "      <td>Основно образовање</td>\n",
       "      <td>8</td>\n",
       "      <td>Српски језик</td>\n",
       "      <td>...</td>\n",
       "      <td>0</td>\n",
       "      <td>0</td>\n",
       "      <td>3</td>\n",
       "      <td>0</td>\n",
       "      <td>0</td>\n",
       "      <td>70</td>\n",
       "      <td>39</td>\n",
       "      <td>0</td>\n",
       "      <td>0</td>\n",
       "      <td>0</td>\n",
       "    </tr>\n",
       "    <tr>\n",
       "      <th>1422</th>\n",
       "      <td>1423.0</td>\n",
       "      <td>1852</td>\n",
       "      <td>Државно</td>\n",
       "      <td>Рашки управни округ</td>\n",
       "      <td>Нови Пазар - град</td>\n",
       "      <td>Меша Селимовић</td>\n",
       "      <td>Основно редовно образовање</td>\n",
       "      <td>Основно образовање</td>\n",
       "      <td>8</td>\n",
       "      <td>Српски језик</td>\n",
       "      <td>...</td>\n",
       "      <td>0</td>\n",
       "      <td>0</td>\n",
       "      <td>3</td>\n",
       "      <td>0</td>\n",
       "      <td>0</td>\n",
       "      <td>79</td>\n",
       "      <td>32</td>\n",
       "      <td>0</td>\n",
       "      <td>0</td>\n",
       "      <td>0</td>\n",
       "    </tr>\n",
       "  </tbody>\n",
       "</table>\n",
       "<p>1423 rows × 74 columns</p>\n",
       "</div>"
      ],
      "text/plain": [
       "           #  ИД установе Власништво                Округ             Општина  \\\n",
       "0        1.0            1    Државно         Град Београд  Београд - Барајево   \n",
       "1        2.0            2    Државно         Град Београд  Београд - Барајево   \n",
       "2        3.0            3    Државно         Град Београд  Београд - Вождовац   \n",
       "3        4.0            4    Државно         Град Београд  Београд - Вождовац   \n",
       "4        5.0            5    Државно         Град Београд  Београд - Вождовац   \n",
       "...      ...          ...        ...                  ...                 ...   \n",
       "1418  1419.0         1850    Државно  Рашки управни округ   Нови Пазар - град   \n",
       "1419  1420.0         1850    Државно  Рашки управни округ   Нови Пазар - град   \n",
       "1420  1421.0         1851    Државно  Рашки управни округ   Нови Пазар - град   \n",
       "1421  1422.0         1851    Државно  Рашки управни округ   Нови Пазар - град   \n",
       "1422  1423.0         1852    Државно  Рашки управни округ   Нови Пазар - град   \n",
       "\n",
       "           Назив установе               Подручје рада    Образовни профил  \\\n",
       "0           Павле Поповић  Основно редовно образовање  Основно образовање   \n",
       "1      Кнез Сима Марковић  Основно редовно образовање  Основно образовање   \n",
       "2          Бора Станковић  Основно редовно образовање  Основно образовање   \n",
       "3     Змај Јова Јовановић  Основно редовно образовање  Основно образовање   \n",
       "4            Ђура Даничић  Основно редовно образовање  Основно образовање   \n",
       "...                   ...                         ...                 ...   \n",
       "1418               ОШ Мур  Основно редовно образовање  Основно образовање   \n",
       "1419               ОШ Мур  Основно редовно образовање  Основно образовање   \n",
       "1420        Ћамил Сијарић  Основно редовно образовање  Основно образовање   \n",
       "1421        Ћамил Сијарић  Основно редовно образовање  Основно образовање   \n",
       "1422       Меша Селимовић  Основно редовно образовање  Основно образовање   \n",
       "\n",
       "      Трајање образовања   Језик наставе  ...  Број ИОП-а 2 - седми разред  \\\n",
       "0                      8    Српски језик  ...                            2   \n",
       "1                      8    Српски језик  ...                            0   \n",
       "2                      8    Српски језик  ...                            0   \n",
       "3                      8    Српски језик  ...                            0   \n",
       "4                      8    Српски језик  ...                            0   \n",
       "...                  ...             ...  ...                          ...   \n",
       "1418                   8  Босански језик  ...                            0   \n",
       "1419                   8    Српски језик  ...                            0   \n",
       "1420                   8  Босански језик  ...                            0   \n",
       "1421                   8    Српски језик  ...                            0   \n",
       "1422                   8    Српски језик  ...                            0   \n",
       "\n",
       "      Број ИОП-а 3 - седми разред  Број одељења - осми разред  \\\n",
       "0                               2                           3   \n",
       "1                               0                           8   \n",
       "2                               0                           4   \n",
       "3                               0                           6   \n",
       "4                               0                           3   \n",
       "...                           ...                         ...   \n",
       "1418                            0                           3   \n",
       "1419                            0                           0   \n",
       "1420                            0                           2   \n",
       "1421                            0                           3   \n",
       "1422                            0                           3   \n",
       "\n",
       "      Број комбинованих одељења - осми разред  \\\n",
       "0                                           0   \n",
       "1                                           0   \n",
       "2                                           0   \n",
       "3                                           1   \n",
       "4                                           0   \n",
       "...                                       ...   \n",
       "1418                                        0   \n",
       "1419                                        0   \n",
       "1420                                        0   \n",
       "1421                                        0   \n",
       "1422                                        0   \n",
       "\n",
       "      Број специјалних одељења - осми разред  Број ученика - осми разред  \\\n",
       "0                                          0                          59   \n",
       "1                                          0                         170   \n",
       "2                                          0                         100   \n",
       "3                                          1                         108   \n",
       "4                                          0                          74   \n",
       "...                                      ...                         ...   \n",
       "1418                                       0                          88   \n",
       "1419                                       0                           0   \n",
       "1420                                       0                          41   \n",
       "1421                                       0                          70   \n",
       "1422                                       0                          79   \n",
       "\n",
       "      Број девојчица - осми разред  Број ИОП-а 1 - осми разред  \\\n",
       "0                               31                           2   \n",
       "1                               92                           6   \n",
       "2                               46                           0   \n",
       "3                               42                           2   \n",
       "4                               36                           1   \n",
       "...                            ...                         ...   \n",
       "1418                            49                           1   \n",
       "1419                             0                           0   \n",
       "1420                            22                           0   \n",
       "1421                            39                           0   \n",
       "1422                            32                           0   \n",
       "\n",
       "      Број ИОП-а 2 - осми разред  Број ИОП-а 3 - осми разред  \n",
       "0                              1                           0  \n",
       "1                              0                           0  \n",
       "2                              1                           0  \n",
       "3                              2                           0  \n",
       "4                              2                           0  \n",
       "...                          ...                         ...  \n",
       "1418                           0                           0  \n",
       "1419                           0                           0  \n",
       "1420                           0                           0  \n",
       "1421                           0                           0  \n",
       "1422                           0                           0  \n",
       "\n",
       "[1423 rows x 74 columns]"
      ]
     },
     "execution_count": 12,
     "metadata": {},
     "output_type": "execute_result"
    }
   ],
   "source": [
    "skole"
   ]
  },
  {
   "cell_type": "code",
   "execution_count": 21,
   "metadata": {},
   "outputs": [
    {
     "data": {
      "text/plain": [
       "Index(['#', 'ИД установе', 'Власништво', 'Округ', 'Општина', 'Назив установе',\n",
       "       'Подручје рада', 'Образовни профил', 'Трајање образовања',\n",
       "       'Језик наставе', 'Број одељења - први разред',\n",
       "       'Број комбинованих одељења - први разред',\n",
       "       'Број специјалних одељења - први разред', 'Број ученика - први разред',\n",
       "       'Број девојчица - први разред', 'Број ИОП-а 1 - први разред',\n",
       "       'Број ИОП-а 2 - први разред', 'Број ИОП-а 3 - први разред',\n",
       "       'Број одељења - други разред',\n",
       "       'Број комбинованих одељења - други разред',\n",
       "       'Број специјалних одељења - други разред',\n",
       "       'Број ученика - други разред', 'Број девојчица - други разред',\n",
       "       'Број ИОП-а 1 - други разред', 'Број ИОП-а 2 - други разред',\n",
       "       'Број ИОП-а 3 - други разред', 'Број одељења - трећи разред',\n",
       "       'Број комбинованих одељења - трећи разред',\n",
       "       'Број специјалних одељења - трећи разред',\n",
       "       'Број ученика - трећи разред', 'Број девојчица - трећи разред',\n",
       "       'Број ИОП-а 1 - трећи разред', 'Број ИОП-а 2 - трећи разред',\n",
       "       'Број ИОП-а 3 - трећи разред', 'Број одељења - четврти разред',\n",
       "       'Број комбинованих одељења - четврти разред',\n",
       "       'Број специјалних одељења - четврти разред',\n",
       "       'Број ученика - четврти разред', 'Број девојчица - четврти разред',\n",
       "       'Број ИОП-а 1 - четврти разред', 'Број ИОП-а 2 - четврти разред',\n",
       "       'Број ИОП-а 3 - четврти разред', 'Број одељења - пети разред',\n",
       "       'Број комбинованих одељења - пети разред',\n",
       "       'Број специјалних одељења - пети разред', 'Број ученика - пети разред',\n",
       "       'Број девојчица - пети разред', 'Број ИОП-а 1 - пети разред',\n",
       "       'Број ИОП-а 2 - пети разред', 'Број ИОП-а 3 - пети разред',\n",
       "       'Број одељења - шести разред',\n",
       "       'Број комбинованих одељења - шести разред',\n",
       "       'Број специјалних одељења - шести разред',\n",
       "       'Број ученика - шести разред', 'Број девојчица - шести разред',\n",
       "       'Број ИОП-а 1 - шести разред', 'Број ИОП-а 2 - шести разред',\n",
       "       'Број ИОП-а 3 - шести разред', 'Број одељења - седми разред',\n",
       "       'Број комбинованих одељења - седми разред',\n",
       "       'Број специјалних одељења - седми разред',\n",
       "       'Број ученика - седми разред', 'Број девојчица - седми разред',\n",
       "       'Број ИОП-а 1 - седми разред', 'Број ИОП-а 2 - седми разред',\n",
       "       'Број ИОП-а 3 - седми разред', 'Број одељења - осми разред',\n",
       "       'Број комбинованих одељења - осми разред',\n",
       "       'Број специјалних одељења - осми разред', 'Број ученика - осми разред',\n",
       "       'Број девојчица - осми разред', 'Број ИОП-а 1 - осми разред',\n",
       "       'Број ИОП-а 2 - осми разред', 'Број ИОП-а 3 - осми разред'],\n",
       "      dtype='object')"
      ]
     },
     "execution_count": 21,
     "metadata": {},
     "output_type": "execute_result"
    }
   ],
   "source": [
    "skole.columns"
   ]
  },
  {
   "cell_type": "code",
   "execution_count": 19,
   "metadata": {},
   "outputs": [
    {
     "data": {
      "text/plain": [
       "Округ\n",
       "Јабланички управни округ             1065\n",
       "Јужнобанатски управни округ          1305\n",
       "Јужнобачки управни округ             3177\n",
       "Борски управни округ                  485\n",
       "Браничевски управни округ             741\n",
       "Град Београд                         9161\n",
       "Западнобачки управни округ            952\n",
       "Зајечарски управни округ              393\n",
       "Златиборски управни округ            1194\n",
       "Колубарски управни округ              634\n",
       "Косовски управни округ                229\n",
       "Косовско-митровачки управни округ     286\n",
       "Косовско-поморавски управни округ     108\n",
       "Мачвански управни округ              1180\n",
       "Моравички управни округ               904\n",
       "Нишавски управни округ               1879\n",
       "Пећки управни округ                     9\n",
       "Пиротски управни округ                305\n",
       "Подунавски управни округ              885\n",
       "Поморавски управни округ              822\n",
       "Призренски управни округ               27\n",
       "Пчињски управни округ                 984\n",
       "Расински управни округ                882\n",
       "Рашки управни округ                  1741\n",
       "Севернобанатски управни округ         634\n",
       "Севернобачки управни округ            716\n",
       "Средњобанатски управни округ          799\n",
       "Сремски управни округ                1417\n",
       "Топлички управни округ                425\n",
       "Шумадијски управни округ             1323\n",
       "Name: Број девојчица - први разред, dtype: int64"
      ]
     },
     "execution_count": 19,
     "metadata": {},
     "output_type": "execute_result"
    }
   ],
   "source": [
    "skole.groupby(\"Округ\")[\"Број девојчица - први разред\"].sum()"
   ]
  },
  {
   "cell_type": "code",
   "execution_count": 22,
   "metadata": {},
   "outputs": [],
   "source": [
    "t = skole.groupby(\"Округ\")[[\"Број девојчица - први разред\", \"Број девојчица - трећи разред\"]].sum()"
   ]
  },
  {
   "cell_type": "code",
   "execution_count": 23,
   "metadata": {},
   "outputs": [
    {
     "data": {
      "text/html": [
       "<div>\n",
       "<style scoped>\n",
       "    .dataframe tbody tr th:only-of-type {\n",
       "        vertical-align: middle;\n",
       "    }\n",
       "\n",
       "    .dataframe tbody tr th {\n",
       "        vertical-align: top;\n",
       "    }\n",
       "\n",
       "    .dataframe thead th {\n",
       "        text-align: right;\n",
       "    }\n",
       "</style>\n",
       "<table border=\"1\" class=\"dataframe\">\n",
       "  <thead>\n",
       "    <tr style=\"text-align: right;\">\n",
       "      <th></th>\n",
       "      <th>Број девојчица - први разред</th>\n",
       "      <th>Број девојчица - трећи разред</th>\n",
       "    </tr>\n",
       "    <tr>\n",
       "      <th>Округ</th>\n",
       "      <th></th>\n",
       "      <th></th>\n",
       "    </tr>\n",
       "  </thead>\n",
       "  <tbody>\n",
       "    <tr>\n",
       "      <th>Јабланички управни округ</th>\n",
       "      <td>1065</td>\n",
       "      <td>917</td>\n",
       "    </tr>\n",
       "    <tr>\n",
       "      <th>Јужнобанатски управни округ</th>\n",
       "      <td>1305</td>\n",
       "      <td>1325</td>\n",
       "    </tr>\n",
       "    <tr>\n",
       "      <th>Јужнобачки управни округ</th>\n",
       "      <td>3177</td>\n",
       "      <td>3039</td>\n",
       "    </tr>\n",
       "    <tr>\n",
       "      <th>Борски управни округ</th>\n",
       "      <td>485</td>\n",
       "      <td>428</td>\n",
       "    </tr>\n",
       "    <tr>\n",
       "      <th>Браничевски управни округ</th>\n",
       "      <td>741</td>\n",
       "      <td>700</td>\n",
       "    </tr>\n",
       "    <tr>\n",
       "      <th>Град Београд</th>\n",
       "      <td>9161</td>\n",
       "      <td>8045</td>\n",
       "    </tr>\n",
       "    <tr>\n",
       "      <th>Западнобачки управни округ</th>\n",
       "      <td>952</td>\n",
       "      <td>761</td>\n",
       "    </tr>\n",
       "    <tr>\n",
       "      <th>Зајечарски управни округ</th>\n",
       "      <td>393</td>\n",
       "      <td>401</td>\n",
       "    </tr>\n",
       "    <tr>\n",
       "      <th>Златиборски управни округ</th>\n",
       "      <td>1194</td>\n",
       "      <td>1193</td>\n",
       "    </tr>\n",
       "    <tr>\n",
       "      <th>Колубарски управни округ</th>\n",
       "      <td>634</td>\n",
       "      <td>658</td>\n",
       "    </tr>\n",
       "    <tr>\n",
       "      <th>Косовски управни округ</th>\n",
       "      <td>229</td>\n",
       "      <td>197</td>\n",
       "    </tr>\n",
       "    <tr>\n",
       "      <th>Косовско-митровачки управни округ</th>\n",
       "      <td>286</td>\n",
       "      <td>310</td>\n",
       "    </tr>\n",
       "    <tr>\n",
       "      <th>Косовско-поморавски управни округ</th>\n",
       "      <td>108</td>\n",
       "      <td>98</td>\n",
       "    </tr>\n",
       "    <tr>\n",
       "      <th>Мачвански управни округ</th>\n",
       "      <td>1180</td>\n",
       "      <td>1233</td>\n",
       "    </tr>\n",
       "    <tr>\n",
       "      <th>Моравички управни округ</th>\n",
       "      <td>904</td>\n",
       "      <td>900</td>\n",
       "    </tr>\n",
       "    <tr>\n",
       "      <th>Нишавски управни округ</th>\n",
       "      <td>1879</td>\n",
       "      <td>1531</td>\n",
       "    </tr>\n",
       "    <tr>\n",
       "      <th>Пећки управни округ</th>\n",
       "      <td>9</td>\n",
       "      <td>9</td>\n",
       "    </tr>\n",
       "    <tr>\n",
       "      <th>Пиротски управни округ</th>\n",
       "      <td>305</td>\n",
       "      <td>325</td>\n",
       "    </tr>\n",
       "    <tr>\n",
       "      <th>Подунавски управни округ</th>\n",
       "      <td>885</td>\n",
       "      <td>850</td>\n",
       "    </tr>\n",
       "    <tr>\n",
       "      <th>Поморавски управни округ</th>\n",
       "      <td>822</td>\n",
       "      <td>872</td>\n",
       "    </tr>\n",
       "    <tr>\n",
       "      <th>Призренски управни округ</th>\n",
       "      <td>27</td>\n",
       "      <td>39</td>\n",
       "    </tr>\n",
       "    <tr>\n",
       "      <th>Пчињски управни округ</th>\n",
       "      <td>984</td>\n",
       "      <td>961</td>\n",
       "    </tr>\n",
       "    <tr>\n",
       "      <th>Расински управни округ</th>\n",
       "      <td>882</td>\n",
       "      <td>917</td>\n",
       "    </tr>\n",
       "    <tr>\n",
       "      <th>Рашки управни округ</th>\n",
       "      <td>1741</td>\n",
       "      <td>1737</td>\n",
       "    </tr>\n",
       "    <tr>\n",
       "      <th>Севернобанатски управни округ</th>\n",
       "      <td>634</td>\n",
       "      <td>541</td>\n",
       "    </tr>\n",
       "    <tr>\n",
       "      <th>Севернобачки управни округ</th>\n",
       "      <td>716</td>\n",
       "      <td>741</td>\n",
       "    </tr>\n",
       "    <tr>\n",
       "      <th>Средњобанатски управни округ</th>\n",
       "      <td>799</td>\n",
       "      <td>775</td>\n",
       "    </tr>\n",
       "    <tr>\n",
       "      <th>Сремски управни округ</th>\n",
       "      <td>1417</td>\n",
       "      <td>1291</td>\n",
       "    </tr>\n",
       "    <tr>\n",
       "      <th>Топлички управни округ</th>\n",
       "      <td>425</td>\n",
       "      <td>372</td>\n",
       "    </tr>\n",
       "    <tr>\n",
       "      <th>Шумадијски управни округ</th>\n",
       "      <td>1323</td>\n",
       "      <td>1221</td>\n",
       "    </tr>\n",
       "  </tbody>\n",
       "</table>\n",
       "</div>"
      ],
      "text/plain": [
       "                                   Број девојчица - први разред  \\\n",
       "Округ                                                             \n",
       "Јабланички управни округ                                   1065   \n",
       "Јужнобанатски управни округ                                1305   \n",
       "Јужнобачки управни округ                                   3177   \n",
       "Борски управни округ                                        485   \n",
       "Браничевски управни округ                                   741   \n",
       "Град Београд                                               9161   \n",
       "Западнобачки управни округ                                  952   \n",
       "Зајечарски управни округ                                    393   \n",
       "Златиборски управни округ                                  1194   \n",
       "Колубарски управни округ                                    634   \n",
       "Косовски управни округ                                      229   \n",
       "Косовско-митровачки управни округ                           286   \n",
       "Косовско-поморавски управни округ                           108   \n",
       "Мачвански управни округ                                    1180   \n",
       "Моравички управни округ                                     904   \n",
       "Нишавски управни округ                                     1879   \n",
       "Пећки управни округ                                           9   \n",
       "Пиротски управни округ                                      305   \n",
       "Подунавски управни округ                                    885   \n",
       "Поморавски управни округ                                    822   \n",
       "Призренски управни округ                                     27   \n",
       "Пчињски управни округ                                       984   \n",
       "Расински управни округ                                      882   \n",
       "Рашки управни округ                                        1741   \n",
       "Севернобанатски управни округ                               634   \n",
       "Севернобачки управни округ                                  716   \n",
       "Средњобанатски управни округ                                799   \n",
       "Сремски управни округ                                      1417   \n",
       "Топлички управни округ                                      425   \n",
       "Шумадијски управни округ                                   1323   \n",
       "\n",
       "                                   Број девојчица - трећи разред  \n",
       "Округ                                                             \n",
       "Јабланички управни округ                                     917  \n",
       "Јужнобанатски управни округ                                 1325  \n",
       "Јужнобачки управни округ                                    3039  \n",
       "Борски управни округ                                         428  \n",
       "Браничевски управни округ                                    700  \n",
       "Град Београд                                                8045  \n",
       "Западнобачки управни округ                                   761  \n",
       "Зајечарски управни округ                                     401  \n",
       "Златиборски управни округ                                   1193  \n",
       "Колубарски управни округ                                     658  \n",
       "Косовски управни округ                                       197  \n",
       "Косовско-митровачки управни округ                            310  \n",
       "Косовско-поморавски управни округ                             98  \n",
       "Мачвански управни округ                                     1233  \n",
       "Моравички управни округ                                      900  \n",
       "Нишавски управни округ                                      1531  \n",
       "Пећки управни округ                                            9  \n",
       "Пиротски управни округ                                       325  \n",
       "Подунавски управни округ                                     850  \n",
       "Поморавски управни округ                                     872  \n",
       "Призренски управни округ                                      39  \n",
       "Пчињски управни округ                                        961  \n",
       "Расински управни округ                                       917  \n",
       "Рашки управни округ                                         1737  \n",
       "Севернобанатски управни округ                                541  \n",
       "Севернобачки управни округ                                   741  \n",
       "Средњобанатски управни округ                                 775  \n",
       "Сремски управни округ                                       1291  \n",
       "Топлички управни округ                                       372  \n",
       "Шумадијски управни округ                                    1221  "
      ]
     },
     "execution_count": 23,
     "metadata": {},
     "output_type": "execute_result"
    }
   ],
   "source": [
    "t"
   ]
  },
  {
   "cell_type": "code",
   "execution_count": null,
   "metadata": {},
   "outputs": [],
   "source": [
    "t.loc[\"Јужнобанатски управни округ\",\"Broj ucenika - prvi razred\"]"
   ]
  },
  {
   "cell_type": "code",
   "execution_count": null,
   "metadata": {},
   "outputs": [],
   "source": [
    "t.iloc[1,0]"
   ]
  },
  {
   "cell_type": "code",
   "execution_count": null,
   "metadata": {},
   "outputs": [],
   "source": [
    "t.loc[\"Јужнобанатски управни округ\":\"Златиборски управни округ\"]"
   ]
  },
  {
   "cell_type": "code",
   "execution_count": null,
   "metadata": {},
   "outputs": [],
   "source": [
    "t.loc[:,\"Broj ucenika - prvi razred\":\"Broj ucenika - drugi razred\"]"
   ]
  },
  {
   "cell_type": "code",
   "execution_count": null,
   "metadata": {},
   "outputs": [],
   "source": [
    "skole.iloc[::100,:10]"
   ]
  },
  {
   "cell_type": "code",
   "execution_count": null,
   "metadata": {},
   "outputs": [],
   "source": [
    "tabela.sort_values(\"Broj odeljenja\", ascending=False).head()"
   ]
  },
  {
   "cell_type": "code",
   "execution_count": null,
   "metadata": {},
   "outputs": [],
   "source": [
    "skole.groupby(\"Okrug\")[\"Broj devojcica - prvi razred\"].sum().sort_values(ascending = False).head(10)\n"
   ]
  },
  {
   "cell_type": "markdown",
   "metadata": {},
   "source": [
    "### Vizuelno predstavljanje podataka"
   ]
  },
  {
   "cell_type": "markdown",
   "metadata": {},
   "source": [
    "Biblioteka matplotlib.pyplot."
   ]
  },
  {
   "cell_type": "code",
   "execution_count": null,
   "metadata": {},
   "outputs": [],
   "source": [
    "import matplotlib.pyplot as plt\n",
    "t = skole.groupby(\"Okrug\")[\"Број девојчица - први разред\"].sum().sort_values(ascending = False).head(10)\n",
    "for i in range(1,4+1):\n",
    "    plt.subplot(4, 1, i)\n",
    "    plt.barh(t.index, t)\n",
    "\n",
    "plt.show()"
   ]
  }
 ],
 "metadata": {
  "kernelspec": {
   "display_name": "Python 3",
   "language": "python",
   "name": "python3"
  },
  "language_info": {
   "codemirror_mode": {
    "name": "ipython",
    "version": 3
   },
   "file_extension": ".py",
   "mimetype": "text/x-python",
   "name": "python",
   "nbconvert_exporter": "python",
   "pygments_lexer": "ipython3",
   "version": "3.6.8"
  }
 },
 "nbformat": 4,
 "nbformat_minor": 4
}
