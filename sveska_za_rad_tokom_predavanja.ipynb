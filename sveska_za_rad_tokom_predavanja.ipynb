{
 "cells": [
  {
   "cell_type": "markdown",
   "metadata": {},
   "source": [
    "## Sveska za vežbanje tokom predavanja\n",
    "### tabelarno predstavljeni podaci i biblioteka Pandas"
   ]
  },
  {
   "cell_type": "markdown",
   "metadata": {},
   "source": [
    "U okviru ovog predavanja naučićeš:\n",
    "* Kako se učitava .csv fajl\n",
    "* Kako prikazati tabelu\n",
    "* Kako pročitati dimenziju tabele\n",
    "* Kako prikazati početak tabele\n",
    "* Kako prikazati kraj tabele\n",
    "* Kako izdvojiti kolonu (cela, deo)\n",
    "* Kako izdvojiti vrstu \n",
    "* Kako izdvojiti jednu ćeliju\n",
    "* Šta je to iteracija?\n",
    "* Sumiranje\n",
    "* Kako da napišeš funkciju\n",
    "* Šta je grananje?\n",
    "* Kako da filtriramo?\n",
    "* Kako grupisati?\n",
    "* Kako vizuelno predstaviti podatke.\n"
   ]
  },
  {
   "cell_type": "markdown",
   "metadata": {},
   "source": [
    "### Učitavanje i prikaz"
   ]
  },
  {
   "cell_type": "code",
   "execution_count": null,
   "metadata": {},
   "outputs": [],
   "source": [
    "import pandas as pd #učitavanje pandas biblioteke\n",
    "skole = pd.read_csv(\"skole.csv\") #učitavanje jednog csv fajla\n",
    "#skole  #ispis tabele"
   ]
  },
  {
   "cell_type": "code",
   "execution_count": null,
   "metadata": {},
   "outputs": [],
   "source": [
    "#dimenzija tabele\n",
    "#skole.info() #izgled kolone\n",
    "#skole.shape #dimenzije tabele"
   ]
  },
  {
   "cell_type": "code",
   "execution_count": null,
   "metadata": {},
   "outputs": [],
   "source": [
    "#napisši naredbu kojom ispisuješ početak tabele skole"
   ]
  },
  {
   "cell_type": "code",
   "execution_count": null,
   "metadata": {},
   "outputs": [],
   "source": [
    "#napiši naredbu kojom ispisuješ kraj tabele skole"
   ]
  },
  {
   "cell_type": "code",
   "execution_count": null,
   "metadata": {},
   "outputs": [],
   "source": [
    "skole.values"
   ]
  },
  {
   "cell_type": "markdown",
   "metadata": {},
   "source": [
    "### Izdvajanje kolone"
   ]
  },
  {
   "cell_type": "code",
   "execution_count": null,
   "metadata": {},
   "outputs": [],
   "source": [
    "#skole[\"Okrug\"]\n",
    "#type(skole[\"Okrug\"])"
   ]
  },
  {
   "cell_type": "code",
   "execution_count": null,
   "metadata": {},
   "outputs": [],
   "source": [
    "skole[1] #izdvojimo prvu vrstu"
   ]
  },
  {
   "cell_type": "code",
   "execution_count": null,
   "metadata": {},
   "outputs": [],
   "source": [
    "skole.loc[1, \"Okrug\"] #izdvojimo prvu ćeliju u prvoj vrsti\n",
    "skole[\"Okrug\"].size #vraća koliko elemenata ima kolona \"Okrug\""
   ]
  },
  {
   "cell_type": "code",
   "execution_count": null,
   "metadata": {},
   "outputs": [],
   "source": [
    "#učitaj odgovarajuću biblioteku za rad sa podacima\n",
    "#učitaj podatke iz fajla podaci.csv\n",
    "t = pd.read_csv(\"????.csv\")\n",
    "t"
   ]
  },
  {
   "cell_type": "code",
   "execution_count": null,
   "metadata": {},
   "outputs": [],
   "source": [
    "#Dopuni narednu naredbu tako da senjenim izvršavanjem ispise kolona \"Okrug\", tabele podaci.csv!\n",
    "????[\"Okrug\"].head(?????)"
   ]
  },
  {
   "cell_type": "code",
   "execution_count": null,
   "metadata": {},
   "outputs": [],
   "source": [
    "#ispiši prvi element iz kolone \"Okrug\" iz tabele podaci\n",
    "?????[\"Okrug\"][????] "
   ]
  },
  {
   "cell_type": "code",
   "execution_count": null,
   "metadata": {},
   "outputs": [],
   "source": [
    "#Šta je rezultat izvršavanja ove naredbe?\n",
    "skole.columns"
   ]
  },
  {
   "cell_type": "markdown",
   "metadata": {},
   "source": [
    "### Izdvajanje vrste"
   ]
  },
  {
   "cell_type": "code",
   "execution_count": null,
   "metadata": {},
   "outputs": [],
   "source": [
    "t.loc[0] #Izdvajamo prvu vrstu"
   ]
  },
  {
   "cell_type": "code",
   "execution_count": null,
   "metadata": {},
   "outputs": [],
   "source": [
    "skole.at[0] #izdvajamo 1. vrstu"
   ]
  },
  {
   "cell_type": "code",
   "execution_count": null,
   "metadata": {},
   "outputs": [],
   "source": [
    "#Modifikovanjem prethodne naredbe ispiši drugu vrstu tabele t."
   ]
  },
  {
   "cell_type": "code",
   "execution_count": null,
   "metadata": {},
   "outputs": [],
   "source": [
    "#Napiši naredbu kojom iz prve vrste izdvajaš prvi element."
   ]
  },
  {
   "cell_type": "markdown",
   "metadata": {},
   "source": [
    "## Petlje"
   ]
  },
  {
   "cell_type": "code",
   "execution_count": null,
   "metadata": {},
   "outputs": [],
   "source": [
    "kurs = 117.2567\n",
    "# šta ako se menja cena_eur?\n",
    "cena_eur = 350\n",
    "cena_eur * kurs"
   ]
  },
  {
   "cell_type": "code",
   "execution_count": null,
   "metadata": {},
   "outputs": [],
   "source": [
    "#ispiši cene u evrima, ako se kurs menja!\n",
    "for cena_eur in [350, 100, 130, 150]:\n",
    "    print(cena_eur, cena_eur * kurs)"
   ]
  },
  {
   "cell_type": "code",
   "execution_count": null,
   "metadata": {},
   "outputs": [],
   "source": [
    "skole"
   ]
  },
  {
   "cell_type": "markdown",
   "metadata": {},
   "source": [
    "Ispiši nazive škola za prvih 200 škola, modifikuj naredni skript."
   ]
  },
  {
   "cell_type": "code",
   "execution_count": null,
   "metadata": {},
   "outputs": [],
   "source": [
    "#skole[\"Broj ucenika - prvi razred\"][0]\n",
    "#skole[\"Broj ucenika - prvi razred\"][1]\n",
    "#skole[\"Broj ucenika - prvi razred\"][2]\n",
    "#....\n",
    "#skole[\"Broj ucenika - prvi razred\"][9]\n",
    "for i in skole.index[:100]:\n",
    "    print(skole.loc[i,\"Број ученика - први разред\"])"
   ]
  },
  {
   "cell_type": "code",
   "execution_count": null,
   "metadata": {},
   "outputs": [],
   "source": [
    "#Мodifikuj naredni skript tako da u postojeću tabelu dodaš novu kolonu i u nju upišeš ukupan \n",
    "#broj učenika nižih razreda (od 1. do 4. razreda) za svaku školu. \n",
    "skole[\"Broj ucenika 1-4\"] = 0\n",
    "for i in ??????:\n",
    "    skole.loc[i, \"Broj ucenika 1-4\"] = skole[\"Број ученика - први разред\"][i] + skole[\"Број ученика - први разред\"][i] + skole[\"Broj ucenika - treći razred\"][i] + skole[\"Broj ucenika - cetvrti razred\"][i]\n",
    "skole.head()"
   ]
  },
  {
   "cell_type": "markdown",
   "metadata": {},
   "source": [
    "### Sečenje (slicing)"
   ]
  },
  {
   "cell_type": "code",
   "execution_count": null,
   "metadata": {},
   "outputs": [],
   "source": [
    "#Dopuni narednu koja iz tabele t izdvaja prve 3 vrste.\n",
    "t[1:?????]"
   ]
  },
  {
   "cell_type": "code",
   "execution_count": null,
   "metadata": {},
   "outputs": [],
   "source": [
    "#Dopuni narednu naredbu koja iz tabele t izdvaja jednu pored druge kolonu \"Okrug\" i \"Broj škola\".\n",
    "#t[[\"Okrug\",???]]"
   ]
  },
  {
   "cell_type": "code",
   "execution_count": null,
   "metadata": {},
   "outputs": [],
   "source": [
    "#Izdvoj prvih 5 vrsta tabele t\n",
    "#t[:????]"
   ]
  },
  {
   "cell_type": "markdown",
   "metadata": {},
   "source": [
    "## Procenimo!"
   ]
  },
  {
   "cell_type": "code",
   "execution_count": null,
   "metadata": {},
   "outputs": [],
   "source": [
    "#Koristeći primer o Šimbuja ulici sa časa, proceni broj zgrada oko Central parka. "
   ]
  },
  {
   "cell_type": "markdown",
   "metadata": {},
   "source": [
    "<img src = \"simbuja.jpg\">"
   ]
  },
  {
   "cell_type": "code",
   "execution_count": null,
   "metadata": {},
   "outputs": [],
   "source": [
    "#Veličina slike Central parka je 1000 x 450 piksela. Veličina samog parka je 750 x 100 piksela. Samostalno izabrati \n",
    "#kvadrat za procenu."
   ]
  },
  {
   "cell_type": "markdown",
   "metadata": {},
   "source": [
    "<img src=\"slika_njujork.jpg\">"
   ]
  },
  {
   "cell_type": "code",
   "execution_count": null,
   "metadata": {},
   "outputs": [],
   "source": []
  },
  {
   "cell_type": "code",
   "execution_count": null,
   "metadata": {},
   "outputs": [],
   "source": [
    "broj_zgrada = [????????]\n",
    "s = sum(broj_zgrada)\n",
    "l = len(broj_zgrada)\n",
    "prosek = s / l\n",
    "prosek\n",
    "#formatiraj ispis na 2 decimale"
   ]
  },
  {
   "cell_type": "code",
   "execution_count": null,
   "metadata": {},
   "outputs": [],
   "source": [
    "broj_zgrada_u_kvadratu = [??????????]\n",
    "for broj_zgrada in broj_zgrada_u_kvadratu:\n",
    "    print(broj_zgrada, ??????)"
   ]
  },
  {
   "cell_type": "markdown",
   "metadata": {},
   "source": [
    "Što je više ovih \"pogrešnih\" procena zgrada u malom kvadratu, to je primena petlje svrsishodnija. "
   ]
  },
  {
   "cell_type": "code",
   "execution_count": null,
   "metadata": {},
   "outputs": [],
   "source": []
  },
  {
   "cell_type": "markdown",
   "metadata": {},
   "source": [
    "#### Gde su petlje i može li bez petlji?"
   ]
  },
  {
   "cell_type": "code",
   "execution_count": null,
   "metadata": {},
   "outputs": [],
   "source": [
    "Biblioteka pandas nudi različite mogućnosti. "
   ]
  },
  {
   "cell_type": "code",
   "execution_count": null,
   "metadata": {},
   "outputs": [],
   "source": [
    "Napisati skript koji u tabeli skole umeće novu kolonu \"Broj ucenika 1-4\" u kojoj se nalazi \n",
    "ukupan broj učenika od 1. do 4. razreda za svaku školu.  "
   ]
  },
  {
   "cell_type": "code",
   "execution_count": null,
   "metadata": {},
   "outputs": [],
   "source": [
    "Skript možemo napisati pomoću petlje for:"
   ]
  },
  {
   "cell_type": "code",
   "execution_count": null,
   "metadata": {},
   "outputs": [],
   "source": [
    "skole.columns"
   ]
  },
  {
   "cell_type": "code",
   "execution_count": null,
   "metadata": {},
   "outputs": [],
   "source": [
    "%%timeit\n",
    "skole[\"Broj ucenika 1-4\"] = 0\n",
    "for i in range(len(skole)):\n",
    "    skole.loc[i, \"Broj ucenika 1-4\"] = skole[\"Broj ucenika - prvi razred\"][i] + skole[\"Broj ucenika - drugi razred\"][i] + skole[\"Broj ucenika - treći razred\"][i] + skole[\"Broj ucenika - cetvrti razred\"][i]\n",
    "skole.head()"
   ]
  },
  {
   "cell_type": "code",
   "execution_count": null,
   "metadata": {},
   "outputs": [],
   "source": [
    "%%timeit\n",
    "skole[\"Broj ucenika 1-4\"] = skole[\"Broj ucenika - prvi razred\"] + skole[\"Broj ucenika - drugi razred\"] + skole[\"Broj ucenika - treći razred\"] + skole[\"Broj ucenika - cetvrti razred\"]\n",
    "skole.head()\n"
   ]
  },
  {
   "cell_type": "markdown",
   "metadata": {},
   "source": [
    "### Sumiranje"
   ]
  },
  {
   "cell_type": "code",
   "execution_count": null,
   "metadata": {},
   "outputs": [],
   "source": [
    "skole.sum()"
   ]
  },
  {
   "cell_type": "code",
   "execution_count": null,
   "metadata": {},
   "outputs": [],
   "source": [
    "tabela = pd.read_csv(\"podaci.csv\")\n",
    "tabela[\"Broj devojčica\"].sum()"
   ]
  },
  {
   "cell_type": "code",
   "execution_count": null,
   "metadata": {},
   "outputs": [],
   "source": [
    "s = 0\n",
    "for broj in tabela[\"Broj devojčica\"]:\n",
    "    s = s + broj\n",
    "print(s)"
   ]
  },
  {
   "cell_type": "code",
   "execution_count": null,
   "metadata": {},
   "outputs": [],
   "source": [
    "tabela[\"Broj devojčica\"].max()"
   ]
  },
  {
   "cell_type": "code",
   "execution_count": null,
   "metadata": {},
   "outputs": [],
   "source": [
    "#tabela[tabela[\"Broj devojčica\"]==tabela[\"Broj devojčica\"].max()][\"Okrug\"]"
   ]
  },
  {
   "cell_type": "code",
   "execution_count": null,
   "metadata": {},
   "outputs": [],
   "source": [
    "tabela[\"Broj učenika\"].mean()"
   ]
  },
  {
   "cell_type": "markdown",
   "metadata": {},
   "source": [
    "Koliki je prosečan broj učenika u odeljenju prvog razreda?"
   ]
  },
  {
   "cell_type": "markdown",
   "metadata": {},
   "source": [
    "### Definiši svoju funkciju?"
   ]
  },
  {
   "cell_type": "markdown",
   "metadata": {},
   "source": [
    "Ukoliko želimo da izračunamo broj učenika po odeljenju za sve razrede \n",
    "(osnovna i srednja škola), morali bi da kopiramo veliki broj puta, što nije rešenje! "
   ]
  },
  {
   "cell_type": "code",
   "execution_count": null,
   "metadata": {},
   "outputs": [],
   "source": [
    "def prosek (ucenici, odeljenja):\n",
    "    return round(ucenici.sum()/odeljenja.sum())"
   ]
  },
  {
   "cell_type": "code",
   "execution_count": null,
   "metadata": {},
   "outputs": [],
   "source": [
    "x = prosek(skole[\"Broj ucenika - osmi razred\"],skole[\"Broj odeljenja - osmi razred\"])\n",
    "print(x)"
   ]
  },
  {
   "cell_type": "markdown",
   "metadata": {},
   "source": [
    "Napisati funkciju kojom se izračunava procenat učenika koji radi po IOP3 programu u okviru jednog \n",
    "razreda na nivou svih okruga."
   ]
  },
  {
   "cell_type": "code",
   "execution_count": null,
   "metadata": {},
   "outputs": [],
   "source": [
    "def ime():\n",
    "    ....."
   ]
  },
  {
   "cell_type": "markdown",
   "metadata": {},
   "source": [
    "### Filtriranje"
   ]
  },
  {
   "cell_type": "code",
   "execution_count": null,
   "metadata": {},
   "outputs": [],
   "source": [
    "tabela[tabela[\"Broj devojčica\"] > 10000][\"Okrug\"]"
   ]
  },
  {
   "cell_type": "code",
   "execution_count": null,
   "metadata": {},
   "outputs": [],
   "source": [
    "#Koristeći prethodnu naredbu izdvoj okruge u kojima je broj dečaka veći od broja devojčica"
   ]
  },
  {
   "cell_type": "markdown",
   "metadata": {},
   "source": [
    "### Grupisanje"
   ]
  },
  {
   "cell_type": "code",
   "execution_count": null,
   "metadata": {},
   "outputs": [],
   "source": [
    "skole"
   ]
  },
  {
   "cell_type": "code",
   "execution_count": null,
   "metadata": {},
   "outputs": [],
   "source": [
    "skole.groupby(\"Округ\")[\"Број девојчица - први разред\"].sum()"
   ]
  },
  {
   "cell_type": "code",
   "execution_count": null,
   "metadata": {},
   "outputs": [],
   "source": [
    "#Koristeći prethodnu naredbu izračunaj broj dečaka po okruzima."
   ]
  },
  {
   "cell_type": "code",
   "execution_count": null,
   "metadata": {},
   "outputs": [],
   "source": [
    "t = skole.groupby(\"Okrug\")[[\"Broj ucenika - prvi razred\",\"Broj ucenika - treći razred\"]].sum()"
   ]
  },
  {
   "cell_type": "code",
   "execution_count": null,
   "metadata": {},
   "outputs": [],
   "source": [
    "#Vizuelno predstavi zavisnost broja dečaka i devojčica u prvih 10 najbrojnijih škola, grupisano po \n",
    "#okruzima. Iskoristi skript koji se nalazi ispod. "
   ]
  },
  {
   "cell_type": "markdown",
   "metadata": {},
   "source": [
    "### Crtanje"
   ]
  },
  {
   "cell_type": "code",
   "execution_count": null,
   "metadata": {},
   "outputs": [],
   "source": [
    "import matplotlib.pyplot as plt\n",
    "t = skole.groupby(\"Okrug\")[\"Broj devojcica - prvi razred\"].sum().sort_values(ascending = False).head(10)\n",
    "for i in range(1,4+1):\n",
    "    plt.subplot(4, 1, i)\n",
    "    plt.barh(t.index, t)\n",
    "\n",
    "plt.show()"
   ]
  },
  {
   "cell_type": "code",
   "execution_count": null,
   "metadata": {},
   "outputs": [],
   "source": [
    "t.plot.bar()"
   ]
  },
  {
   "cell_type": "code",
   "execution_count": null,
   "metadata": {},
   "outputs": [],
   "source": [
    "skole[[\"Okrug\"]]"
   ]
  },
  {
   "cell_type": "code",
   "execution_count": null,
   "metadata": {},
   "outputs": [],
   "source": []
  }
 ],
 "metadata": {
  "kernelspec": {
   "display_name": "Python 3",
   "language": "python",
   "name": "python3"
  },
  "language_info": {
   "codemirror_mode": {
    "name": "ipython",
    "version": 3
   },
   "file_extension": ".py",
   "mimetype": "text/x-python",
   "name": "python",
   "nbconvert_exporter": "python",
   "pygments_lexer": "ipython3",
   "version": "3.6.8"
  }
 },
 "nbformat": 4,
 "nbformat_minor": 4
}
